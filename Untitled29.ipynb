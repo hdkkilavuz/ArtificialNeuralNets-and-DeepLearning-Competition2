{
  "nbformat": 4,
  "nbformat_minor": 0,
  "metadata": {
    "colab": {
      "provenance": []
    },
    "kernelspec": {
      "name": "python3",
      "display_name": "Python 3"
    },
    "language_info": {
      "name": "python"
    },
    "accelerator": "GPU",
    "gpuClass": "standard"
  },
  "cells": [
    {
      "cell_type": "code",
      "execution_count": null,
      "metadata": {
        "colab": {
          "base_uri": "https://localhost:8080/"
        },
        "id": "E-iKxabeDgMZ",
        "outputId": "767c2c18-ecb3-482e-d6fe-4a831a59fd1b"
      },
      "outputs": [
        {
          "output_type": "stream",
          "name": "stdout",
          "text": [
            "Drive already mounted at /gdrive; to attempt to forcibly remount, call drive.mount(\"/gdrive\", force_remount=True).\n"
          ]
        }
      ],
      "source": [
        "from google.colab import drive\n",
        "drive.mount('/gdrive')"
      ]
    },
    {
      "cell_type": "code",
      "source": [
        "%cd /gdrive/My Drive/"
      ],
      "metadata": {
        "colab": {
          "base_uri": "https://localhost:8080/"
        },
        "id": "f3t2Cv8HDjDx",
        "outputId": "d9173332-f73c-46f5-c4ac-c2f0ce174af4"
      },
      "execution_count": null,
      "outputs": [
        {
          "output_type": "stream",
          "name": "stdout",
          "text": [
            "/gdrive/My Drive\n"
          ]
        }
      ]
    },
    {
      "cell_type": "code",
      "source": [
        "import tensorflow as tf\n",
        "import numpy as np\n",
        "import os\n",
        "import random\n",
        "import pandas as pd\n",
        "import seaborn as sns\n",
        "import matplotlib.pyplot as plt\n",
        "plt.rc('font', size=16) \n",
        "from sklearn.metrics import accuracy_score, f1_score, precision_score, recall_score\n",
        "from sklearn.preprocessing import MinMaxScaler, StandardScaler\n",
        "from sklearn.metrics import confusion_matrix\n",
        "from sklearn.preprocessing import MinMaxScaler\n",
        "import warnings\n",
        "import logging\n",
        "import os\n",
        "import re\n",
        "\n",
        "\n",
        "tfk = tf.keras\n",
        "tfkl = tf.keras.layers\n",
        "print(tf.__version__)"
      ],
      "metadata": {
        "colab": {
          "base_uri": "https://localhost:8080/"
        },
        "id": "rWYukSuaDw60",
        "outputId": "26d7f031-a971-4b7e-cef5-f28829d35044"
      },
      "execution_count": null,
      "outputs": [
        {
          "output_type": "stream",
          "name": "stdout",
          "text": [
            "2.9.2\n"
          ]
        }
      ]
    },
    {
      "cell_type": "code",
      "source": [
        "# Random seed for reproducibility\n",
        "seed = 42\n",
        "\n",
        "random.seed(seed)\n",
        "os.environ['PYTHONHASHSEED'] = str(seed)\n",
        "np.random.seed(seed)\n",
        "tf.random.set_seed(seed)\n",
        "tf.compat.v1.set_random_seed(seed)"
      ],
      "metadata": {
        "id": "QW6utElxDzSw"
      },
      "execution_count": null,
      "outputs": []
    },
    {
      "cell_type": "code",
      "source": [
        "x_train=np.load('x_train.npy')\n",
        "y_train=np.load('y_train.npy')\n",
        "x_train.shape, y_train.shape"
      ],
      "metadata": {
        "colab": {
          "base_uri": "https://localhost:8080/"
        },
        "id": "0m8LCBh_D47Q",
        "outputId": "2d315a08-d731-49e1-b5a2-4f2efada19ad"
      },
      "execution_count": null,
      "outputs": [
        {
          "output_type": "execute_result",
          "data": {
            "text/plain": [
              "((2429, 36, 6), (2429,))"
            ]
          },
          "metadata": {},
          "execution_count": 90
        }
      ]
    },
    {
      "cell_type": "code",
      "source": [
        "train, counts_train = np.unique(y_train, return_counts=True)"
      ],
      "metadata": {
        "id": "TUQlB14xA5fj"
      },
      "execution_count": null,
      "outputs": []
    },
    {
      "cell_type": "code",
      "source": [
        "counts_train"
      ],
      "metadata": {
        "colab": {
          "base_uri": "https://localhost:8080/"
        },
        "id": "5lBIZxtbcWmy",
        "outputId": "622b7822-a37a-4b75-c666-1beba9f0a0fe"
      },
      "execution_count": null,
      "outputs": [
        {
          "output_type": "execute_result",
          "data": {
            "text/plain": [
              "array([ 34, 123, 270, 381,  62, 153, 313,  68, 120, 777,  77,  51])"
            ]
          },
          "metadata": {},
          "execution_count": 68
        }
      ]
    },
    {
      "cell_type": "code",
      "source": [
        "plt.plot(np.arange(0, x_train.shape[1]), x_train[0, :, 0])\n",
        "plt.show()"
      ],
      "metadata": {
        "colab": {
          "base_uri": "https://localhost:8080/",
          "height": 270
        },
        "id": "hgVvopcJcx9s",
        "outputId": "cc96f236-2148-453c-f92c-1513d1db6ca3"
      },
      "execution_count": null,
      "outputs": [
        {
          "output_type": "display_data",
          "data": {
            "text/plain": [
              "<Figure size 432x288 with 1 Axes>"
            ],
            "image/png": "[encoded data removed]"
          },
          "metadata": {
            "needs_background": "light"
          }
        }
      ]
    },
    {
      "cell_type": "code",
      "source": [
        "import pickle"
      ],
      "metadata": {
        "id": "TMe7b3yAmwyL"
      },
      "execution_count": null,
      "outputs": []
    },
    {
      "cell_type": "code",
      "source": [
        "from sklearn.model_selection import train_test_split\n",
        "X_train, X_test, y_train, y_test = train_test_split(x_train, y_train, test_size=0.1, random_state=42)\n",
        "X_train.shape, X_test.shape, y_train.shape, y_test.shape"
      ],
      "metadata": {
        "colab": {
          "base_uri": "https://localhost:8080/"
        },
        "id": "d5ybNnSu-fD9",
        "outputId": "980f9106-1883-48cc-986f-61b9997deee5"
      },
      "execution_count": null,
      "outputs": [
        {
          "output_type": "execute_result",
          "data": {
            "text/plain": [
              "((2186, 36, 6), (243, 36, 6), (2186,), (243,))"
            ]
          },
          "metadata": {},
          "execution_count": 99
        }
      ]
    },
    {
      "cell_type": "code",
      "source": [
        "y_train = tfk.utils.to_categorical(y_train)\n",
        "y_test = tfk.utils.to_categorical(y_test)\n",
        "X_train.shape, y_train.shape, X_test.shape, y_test.shape"
      ],
      "metadata": {
        "colab": {
          "base_uri": "https://localhost:8080/"
        },
        "id": "vTPcHaeZ-mXl",
        "outputId": "0bfe7ca3-72e7-4462-9a20-3a7869d741d2"
      },
      "execution_count": null,
      "outputs": [
        {
          "output_type": "execute_result",
          "data": {
            "text/plain": [
              "((2186, 36, 6), (2186, 12), (243, 36, 6), (243, 12))"
            ]
          },
          "metadata": {},
          "execution_count": 100
        }
      ]
    },
    {
      "cell_type": "code",
      "source": [
        "input_shape = x_train.shape[1:]\n",
        "classes = y_train.shape[-1]\n",
        "batch_size = 128\n",
        "epochs = 200\n",
        "classes"
      ],
      "metadata": {
        "colab": {
          "base_uri": "https://localhost:8080/"
        },
        "id": "CxN6J22i6zyY",
        "outputId": "6d18b652-8b36-457c-a348-4bce88c1b452"
      },
      "execution_count": null,
      "outputs": [
        {
          "output_type": "execute_result",
          "data": {
            "text/plain": [
              "12"
            ]
          },
          "metadata": {},
          "execution_count": 101
        }
      ]
    },
    {
      "cell_type": "code",
      "source": [
        "def make_model(input_shape):\n",
        "    input_layer = tfk1.Input(input_shape)\n",
        "\n",
        "    conv1 = tfk1.Conv1D(filters=500, kernel_size=3, padding=\"same\")(input_layer)\n",
        "\n",
        "    conv1 = tfk1.ReLU()(conv1)\n",
        "\n",
        "    conv2 = tfk1.Conv1D(filters=500, kernel_size=3, padding=\"same\")(conv1)\n",
        "    \n",
        "    \n",
        "    conv2 = tfk1.ReLU()(conv2)\n",
        "\n",
        "    conv3 = tfk1.Conv1D(filters=500, kernel_size=3, padding=\"same\")(conv2)\n",
        "    \n",
        "    conv3 = tfk1.ReLU()(conv3)\n",
        "\n",
        "    gap = tfk1.GlobalAveragePooling1D()(conv3)\n",
        "    output_layer = tfk1.Dense(classes, activation=\"softmax\")(gap)\n",
        "\n",
        "    model = tfk.Model(inputs=input_layer, outputs=output_layer, name='model')\n",
        "\n",
        "    \n",
        "\n",
        "    return tfk.Model(inputs=input_layer, outputs=output_layer)\n",
        "\n"
      ],
      "metadata": {
        "id": "liiNGeJ3ei77"
      },
      "execution_count": null,
      "outputs": []
    },
    {
      "cell_type": "code",
      "source": [
        "model = make_model(input_shape)\n",
        "model.summary()"
      ],
      "metadata": {
        "colab": {
          "base_uri": "https://localhost:8080/"
        },
        "id": "6OR5M4x73Gw5",
        "outputId": "71edc256-dfb2-4414-8b6e-adacd2499c68"
      },
      "execution_count": null,
      "outputs": [
        {
          "output_type": "stream",
          "name": "stdout",
          "text": [
            "Model: \"model_18\"\n",
            "_________________________________________________________________\n",
            " Layer (type)                Output Shape              Param #   \n",
            "=================================================================\n",
            " input_22 (InputLayer)       [(None, 36, 6)]           0         \n",
            "                                                                 \n",
            " conv1d_63 (Conv1D)          (None, 36, 500)           9500      \n",
            "                                                                 \n",
            " re_lu_60 (ReLU)             (None, 36, 500)           0         \n",
            "                                                                 \n",
            " conv1d_64 (Conv1D)          (None, 36, 500)           750500    \n",
            "                                                                 \n",
            " re_lu_61 (ReLU)             (None, 36, 500)           0         \n",
            "                                                                 \n",
            " conv1d_65 (Conv1D)          (None, 36, 500)           750500    \n",
            "                                                                 \n",
            " re_lu_62 (ReLU)             (None, 36, 500)           0         \n",
            "                                                                 \n",
            " global_average_pooling1d_21  (None, 500)              0         \n",
            "  (GlobalAveragePooling1D)                                       \n",
            "                                                                 \n",
            " dense_24 (Dense)            (None, 12)                6012      \n",
            "                                                                 \n",
            "=================================================================\n",
            "Total params: 1,516,512\n",
            "Trainable params: 1,516,512\n",
            "Non-trainable params: 0\n",
            "_________________________________________________________________\n"
          ]
        }
      ]
    },
    {
      "cell_type": "code",
      "source": [
        "\n",
        "tfk = tf.keras\n",
        "tfk1 = tf.keras.layers"
      ],
      "metadata": {
        "id": "X0tYu3AP1UGV"
      },
      "execution_count": null,
      "outputs": []
    },
    {
      "cell_type": "code",
      "source": [
        "callbacks = [\n",
        "    tfk.callbacks.ModelCheckpoint(\n",
        "        \"best_model.h5\", save_best_only=True, monitor=\"val_loss\"\n",
        "    ),\n",
        "    tfk.callbacks.ReduceLROnPlateau(\n",
        "        monitor=\"val_loss\", factor=0.5, patience=30, min_lr=0.0001\n",
        "    ),\n",
        "    tfk.callbacks.EarlyStopping(monitor=\"val_loss\", patience=50, verbose=1),\n",
        "]\n",
        "model.compile(loss=tfk.losses.CategoricalCrossentropy(), optimizer=tfk.optimizers.Adam(), metrics='accuracy')\n",
        "\n",
        "history = model.fit(\n",
        "    X_train,\n",
        "    y_train,\n",
        "    batch_size=batch_size,\n",
        "    epochs=epochs,\n",
        "    callbacks=callbacks,\n",
        "    validation_split=0.2,\n",
        "    verbose=1,\n",
        ")"
      ],
      "metadata": {
        "colab": {
          "base_uri": "https://localhost:8080/"
        },
        "id": "eEHFPozuyeaB",
        "outputId": "0ccd0782-fba2-4950-fdc4-b1eee0015987"
      },
      "execution_count": null,
      "outputs": [
        {
          "output_type": "stream",
          "name": "stdout",
          "text": [
            "Epoch 1/200\n",
            "14/14 [==============================] - 1s 67ms/step - loss: 30.6737 - accuracy: 0.0601 - val_loss: 6.7846 - val_accuracy: 0.0776 - lr: 0.0010\n",
            "Epoch 2/200\n",
            "14/14 [==============================] - 0s 24ms/step - loss: 3.9379 - accuracy: 0.2265 - val_loss: 2.4546 - val_accuracy: 0.3014 - lr: 0.0010\n",
            "Epoch 3/200\n",
            "14/14 [==============================] - 0s 28ms/step - loss: 2.3364 - accuracy: 0.3513 - val_loss: 2.2431 - val_accuracy: 0.4041 - lr: 0.0010\n",
            "Epoch 4/200\n",
            "14/14 [==============================] - 0s 24ms/step - loss: 2.1665 - accuracy: 0.4130 - val_loss: 2.1007 - val_accuracy: 0.4498 - lr: 0.0010\n",
            "Epoch 5/200\n",
            "14/14 [==============================] - 0s 24ms/step - loss: 2.0610 - accuracy: 0.4331 - val_loss: 2.0390 - val_accuracy: 0.4155 - lr: 0.0010\n",
            "Epoch 6/200\n",
            "14/14 [==============================] - 0s 18ms/step - loss: 1.9856 - accuracy: 0.4336 - val_loss: 2.0855 - val_accuracy: 0.4566 - lr: 0.0010\n",
            "Epoch 7/200\n",
            "14/14 [==============================] - 0s 18ms/step - loss: 1.9534 - accuracy: 0.4457 - val_loss: 2.0463 - val_accuracy: 0.4589 - lr: 0.0010\n",
            "Epoch 8/200\n",
            "14/14 [==============================] - 0s 24ms/step - loss: 1.9220 - accuracy: 0.4205 - val_loss: 1.8755 - val_accuracy: 0.4338 - lr: 0.0010\n",
            "Epoch 9/200\n",
            "14/14 [==============================] - 0s 24ms/step - loss: 1.7851 - accuracy: 0.4411 - val_loss: 1.8040 - val_accuracy: 0.4406 - lr: 0.0010\n",
            "Epoch 10/200\n",
            "14/14 [==============================] - 0s 28ms/step - loss: 1.7471 - accuracy: 0.4680 - val_loss: 1.7252 - val_accuracy: 0.4909 - lr: 0.0010\n",
            "Epoch 11/200\n",
            "14/14 [==============================] - 0s 25ms/step - loss: 1.6098 - accuracy: 0.4846 - val_loss: 1.6055 - val_accuracy: 0.5068 - lr: 0.0010\n",
            "Epoch 12/200\n",
            "14/14 [==============================] - 0s 18ms/step - loss: 1.5591 - accuracy: 0.5154 - val_loss: 1.7631 - val_accuracy: 0.4863 - lr: 0.0010\n",
            "Epoch 13/200\n",
            "14/14 [==============================] - 0s 18ms/step - loss: 1.7262 - accuracy: 0.5046 - val_loss: 1.8702 - val_accuracy: 0.4909 - lr: 0.0010\n",
            "Epoch 14/200\n",
            "14/14 [==============================] - 0s 24ms/step - loss: 1.6074 - accuracy: 0.5017 - val_loss: 1.6023 - val_accuracy: 0.4909 - lr: 0.0010\n",
            "Epoch 15/200\n",
            "14/14 [==============================] - 0s 24ms/step - loss: 1.5182 - accuracy: 0.4926 - val_loss: 1.4946 - val_accuracy: 0.5137 - lr: 0.0010\n",
            "Epoch 16/200\n",
            "14/14 [==============================] - 0s 25ms/step - loss: 1.4180 - accuracy: 0.5297 - val_loss: 1.4398 - val_accuracy: 0.5479 - lr: 0.0010\n",
            "Epoch 17/200\n",
            "14/14 [==============================] - 0s 18ms/step - loss: 1.4143 - accuracy: 0.5400 - val_loss: 1.5111 - val_accuracy: 0.5525 - lr: 0.0010\n",
            "Epoch 18/200\n",
            "14/14 [==============================] - 0s 18ms/step - loss: 1.3261 - accuracy: 0.5503 - val_loss: 1.5273 - val_accuracy: 0.5502 - lr: 0.0010\n",
            "Epoch 19/200\n",
            "14/14 [==============================] - 0s 25ms/step - loss: 1.4224 - accuracy: 0.5578 - val_loss: 1.3214 - val_accuracy: 0.5913 - lr: 0.0010\n",
            "Epoch 20/200\n",
            "14/14 [==============================] - 0s 18ms/step - loss: 1.3007 - accuracy: 0.5807 - val_loss: 1.4980 - val_accuracy: 0.5799 - lr: 0.0010\n",
            "Epoch 21/200\n",
            "14/14 [==============================] - 0s 18ms/step - loss: 1.3177 - accuracy: 0.5761 - val_loss: 1.6600 - val_accuracy: 0.5662 - lr: 0.0010\n",
            "Epoch 22/200\n",
            "14/14 [==============================] - 0s 18ms/step - loss: 1.2354 - accuracy: 0.5910 - val_loss: 1.4210 - val_accuracy: 0.5822 - lr: 0.0010\n",
            "Epoch 23/200\n",
            "14/14 [==============================] - 0s 18ms/step - loss: 1.1830 - accuracy: 0.6013 - val_loss: 2.0765 - val_accuracy: 0.5411 - lr: 0.0010\n",
            "Epoch 24/200\n",
            "14/14 [==============================] - 0s 18ms/step - loss: 1.2641 - accuracy: 0.5789 - val_loss: 1.6815 - val_accuracy: 0.5890 - lr: 0.0010\n",
            "Epoch 25/200\n",
            "14/14 [==============================] - 0s 18ms/step - loss: 1.2715 - accuracy: 0.6070 - val_loss: 1.9721 - val_accuracy: 0.5959 - lr: 0.0010\n",
            "Epoch 26/200\n",
            "14/14 [==============================] - 0s 18ms/step - loss: 1.3222 - accuracy: 0.6093 - val_loss: 1.9597 - val_accuracy: 0.5662 - lr: 0.0010\n",
            "Epoch 27/200\n",
            "14/14 [==============================] - 0s 18ms/step - loss: 1.2429 - accuracy: 0.5835 - val_loss: 1.5677 - val_accuracy: 0.5685 - lr: 0.0010\n",
            "Epoch 28/200\n",
            "14/14 [==============================] - 0s 18ms/step - loss: 1.2085 - accuracy: 0.5812 - val_loss: 1.7842 - val_accuracy: 0.5571 - lr: 0.0010\n",
            "Epoch 29/200\n",
            "14/14 [==============================] - 0s 18ms/step - loss: 1.2022 - accuracy: 0.6064 - val_loss: 1.7324 - val_accuracy: 0.5662 - lr: 0.0010\n",
            "Epoch 30/200\n",
            "14/14 [==============================] - 0s 18ms/step - loss: 1.1927 - accuracy: 0.6024 - val_loss: 1.5514 - val_accuracy: 0.5936 - lr: 0.0010\n",
            "Epoch 31/200\n",
            "14/14 [==============================] - 0s 18ms/step - loss: 1.1501 - accuracy: 0.6167 - val_loss: 1.5770 - val_accuracy: 0.6050 - lr: 0.0010\n",
            "Epoch 32/200\n",
            "14/14 [==============================] - 0s 18ms/step - loss: 1.0569 - accuracy: 0.6327 - val_loss: 1.5110 - val_accuracy: 0.6210 - lr: 0.0010\n",
            "Epoch 33/200\n",
            "14/14 [==============================] - 0s 18ms/step - loss: 1.0149 - accuracy: 0.6413 - val_loss: 1.5545 - val_accuracy: 0.6233 - lr: 0.0010\n",
            "Epoch 34/200\n",
            "14/14 [==============================] - 0s 21ms/step - loss: 1.6488 - accuracy: 0.6327 - val_loss: 2.6574 - val_accuracy: 0.5502 - lr: 0.0010\n",
            "Epoch 35/200\n",
            "14/14 [==============================] - 0s 18ms/step - loss: 1.9400 - accuracy: 0.5509 - val_loss: 1.8483 - val_accuracy: 0.5183 - lr: 0.0010\n",
            "Epoch 36/200\n",
            "14/14 [==============================] - 0s 18ms/step - loss: 1.7727 - accuracy: 0.5383 - val_loss: 1.7655 - val_accuracy: 0.5365 - lr: 0.0010\n",
            "Epoch 37/200\n",
            "14/14 [==============================] - 0s 18ms/step - loss: 1.4078 - accuracy: 0.5412 - val_loss: 1.6985 - val_accuracy: 0.5571 - lr: 0.0010\n",
            "Epoch 38/200\n",
            "14/14 [==============================] - 0s 21ms/step - loss: 1.2434 - accuracy: 0.5824 - val_loss: 1.9800 - val_accuracy: 0.5639 - lr: 0.0010\n",
            "Epoch 39/200\n",
            "14/14 [==============================] - 0s 18ms/step - loss: 1.2697 - accuracy: 0.5973 - val_loss: 1.5121 - val_accuracy: 0.5845 - lr: 0.0010\n",
            "Epoch 40/200\n",
            "14/14 [==============================] - 0s 18ms/step - loss: 1.4759 - accuracy: 0.5898 - val_loss: 2.8574 - val_accuracy: 0.5890 - lr: 0.0010\n",
            "Epoch 41/200\n",
            "14/14 [==============================] - 0s 21ms/step - loss: 1.5111 - accuracy: 0.5870 - val_loss: 1.8766 - val_accuracy: 0.5868 - lr: 0.0010\n",
            "Epoch 42/200\n",
            "14/14 [==============================] - 0s 18ms/step - loss: 1.2185 - accuracy: 0.5990 - val_loss: 1.4005 - val_accuracy: 0.5822 - lr: 0.0010\n",
            "Epoch 43/200\n",
            "14/14 [==============================] - 0s 19ms/step - loss: 1.1161 - accuracy: 0.6339 - val_loss: 1.7026 - val_accuracy: 0.6073 - lr: 0.0010\n",
            "Epoch 44/200\n",
            "14/14 [==============================] - 0s 18ms/step - loss: 1.0764 - accuracy: 0.6356 - val_loss: 1.5905 - val_accuracy: 0.6142 - lr: 0.0010\n",
            "Epoch 45/200\n",
            "14/14 [==============================] - 0s 18ms/step - loss: 1.0455 - accuracy: 0.6556 - val_loss: 1.4282 - val_accuracy: 0.5936 - lr: 0.0010\n",
            "Epoch 46/200\n",
            "14/14 [==============================] - 0s 18ms/step - loss: 1.2014 - accuracy: 0.6161 - val_loss: 1.5103 - val_accuracy: 0.6005 - lr: 0.0010\n",
            "Epoch 47/200\n",
            "14/14 [==============================] - 0s 18ms/step - loss: 1.1022 - accuracy: 0.6241 - val_loss: 1.4663 - val_accuracy: 0.6096 - lr: 0.0010\n",
            "Epoch 48/200\n",
            "14/14 [==============================] - 0s 18ms/step - loss: 0.9699 - accuracy: 0.6705 - val_loss: 1.3801 - val_accuracy: 0.6301 - lr: 0.0010\n",
            "Epoch 49/200\n",
            "14/14 [==============================] - 0s 18ms/step - loss: 1.1673 - accuracy: 0.6636 - val_loss: 1.8965 - val_accuracy: 0.6005 - lr: 0.0010\n",
            "Epoch 50/200\n",
            "14/14 [==============================] - 0s 18ms/step - loss: 1.2387 - accuracy: 0.6322 - val_loss: 1.4348 - val_accuracy: 0.6005 - lr: 5.0000e-04\n",
            "Epoch 51/200\n",
            "14/14 [==============================] - 0s 24ms/step - loss: 1.0884 - accuracy: 0.6493 - val_loss: 1.2709 - val_accuracy: 0.6347 - lr: 5.0000e-04\n",
            "Epoch 52/200\n",
            "14/14 [==============================] - 0s 25ms/step - loss: 1.0188 - accuracy: 0.6625 - val_loss: 1.2471 - val_accuracy: 0.6370 - lr: 5.0000e-04\n",
            "Epoch 53/200\n",
            "14/14 [==============================] - 0s 18ms/step - loss: 0.9841 - accuracy: 0.6659 - val_loss: 1.2495 - val_accuracy: 0.6324 - lr: 5.0000e-04\n",
            "Epoch 54/200\n",
            "14/14 [==============================] - 0s 25ms/step - loss: 0.9404 - accuracy: 0.6836 - val_loss: 1.2186 - val_accuracy: 0.6438 - lr: 5.0000e-04\n",
            "Epoch 55/200\n",
            "14/14 [==============================] - 0s 18ms/step - loss: 0.9097 - accuracy: 0.6825 - val_loss: 1.2405 - val_accuracy: 0.6689 - lr: 5.0000e-04\n",
            "Epoch 56/200\n",
            "14/14 [==============================] - 0s 18ms/step - loss: 0.8871 - accuracy: 0.7025 - val_loss: 1.2802 - val_accuracy: 0.6461 - lr: 5.0000e-04\n",
            "Epoch 57/200\n",
            "14/14 [==============================] - 0s 19ms/step - loss: 0.9080 - accuracy: 0.6939 - val_loss: 1.2862 - val_accuracy: 0.6438 - lr: 5.0000e-04\n",
            "Epoch 58/200\n",
            "14/14 [==============================] - 0s 21ms/step - loss: 0.9609 - accuracy: 0.6939 - val_loss: 1.7355 - val_accuracy: 0.6461 - lr: 5.0000e-04\n",
            "Epoch 59/200\n",
            "14/14 [==============================] - 0s 18ms/step - loss: 1.0718 - accuracy: 0.6825 - val_loss: 1.5099 - val_accuracy: 0.6621 - lr: 5.0000e-04\n",
            "Epoch 60/200\n",
            "14/14 [==============================] - 0s 21ms/step - loss: 0.9279 - accuracy: 0.7031 - val_loss: 1.3146 - val_accuracy: 0.6370 - lr: 5.0000e-04\n",
            "Epoch 61/200\n",
            "14/14 [==============================] - 0s 21ms/step - loss: 0.8825 - accuracy: 0.7197 - val_loss: 1.2860 - val_accuracy: 0.6735 - lr: 5.0000e-04\n",
            "Epoch 62/200\n",
            "14/14 [==============================] - 0s 19ms/step - loss: 0.8566 - accuracy: 0.7208 - val_loss: 1.2706 - val_accuracy: 0.6621 - lr: 5.0000e-04\n",
            "Epoch 63/200\n",
            "14/14 [==============================] - 0s 21ms/step - loss: 0.8331 - accuracy: 0.7311 - val_loss: 1.3096 - val_accuracy: 0.6621 - lr: 5.0000e-04\n",
            "Epoch 64/200\n",
            "14/14 [==============================] - 0s 19ms/step - loss: 0.8141 - accuracy: 0.7311 - val_loss: 1.3129 - val_accuracy: 0.6781 - lr: 5.0000e-04\n",
            "Epoch 65/200\n",
            "14/14 [==============================] - 0s 21ms/step - loss: 0.7969 - accuracy: 0.7391 - val_loss: 1.2884 - val_accuracy: 0.6758 - lr: 5.0000e-04\n",
            "Epoch 66/200\n",
            "14/14 [==============================] - 0s 18ms/step - loss: 0.7825 - accuracy: 0.7414 - val_loss: 1.2968 - val_accuracy: 0.6804 - lr: 5.0000e-04\n",
            "Epoch 67/200\n",
            "14/14 [==============================] - 0s 18ms/step - loss: 0.7662 - accuracy: 0.7500 - val_loss: 1.3341 - val_accuracy: 0.6667 - lr: 5.0000e-04\n",
            "Epoch 68/200\n",
            "14/14 [==============================] - 0s 18ms/step - loss: 0.7581 - accuracy: 0.7523 - val_loss: 1.3339 - val_accuracy: 0.6804 - lr: 5.0000e-04\n",
            "Epoch 69/200\n",
            "14/14 [==============================] - 0s 18ms/step - loss: 0.7576 - accuracy: 0.7500 - val_loss: 1.3371 - val_accuracy: 0.6895 - lr: 5.0000e-04\n",
            "Epoch 70/200\n",
            "14/14 [==============================] - 0s 18ms/step - loss: 0.7508 - accuracy: 0.7546 - val_loss: 1.3975 - val_accuracy: 0.6963 - lr: 5.0000e-04\n",
            "Epoch 71/200\n",
            "14/14 [==============================] - 0s 18ms/step - loss: 0.7743 - accuracy: 0.7517 - val_loss: 1.5059 - val_accuracy: 0.6667 - lr: 5.0000e-04\n",
            "Epoch 72/200\n",
            "14/14 [==============================] - 0s 18ms/step - loss: 0.7517 - accuracy: 0.7443 - val_loss: 1.3178 - val_accuracy: 0.6826 - lr: 5.0000e-04\n",
            "Epoch 73/200\n",
            "14/14 [==============================] - 0s 18ms/step - loss: 0.7199 - accuracy: 0.7620 - val_loss: 1.3817 - val_accuracy: 0.6941 - lr: 5.0000e-04\n",
            "Epoch 74/200\n",
            "14/14 [==============================] - 0s 19ms/step - loss: 0.7070 - accuracy: 0.7654 - val_loss: 1.3802 - val_accuracy: 0.6872 - lr: 5.0000e-04\n",
            "Epoch 75/200\n",
            "14/14 [==============================] - 0s 18ms/step - loss: 0.6808 - accuracy: 0.7769 - val_loss: 1.3723 - val_accuracy: 0.6986 - lr: 5.0000e-04\n",
            "Epoch 76/200\n",
            "14/14 [==============================] - 0s 18ms/step - loss: 0.6711 - accuracy: 0.7752 - val_loss: 1.4401 - val_accuracy: 0.7055 - lr: 5.0000e-04\n",
            "Epoch 77/200\n",
            "14/14 [==============================] - 0s 18ms/step - loss: 0.6603 - accuracy: 0.7872 - val_loss: 1.4127 - val_accuracy: 0.6918 - lr: 5.0000e-04\n",
            "Epoch 78/200\n",
            "14/14 [==============================] - 0s 19ms/step - loss: 0.6499 - accuracy: 0.7815 - val_loss: 1.4318 - val_accuracy: 0.7078 - lr: 5.0000e-04\n",
            "Epoch 79/200\n",
            "14/14 [==============================] - 0s 19ms/step - loss: 0.6781 - accuracy: 0.7786 - val_loss: 1.9578 - val_accuracy: 0.6484 - lr: 5.0000e-04\n",
            "Epoch 80/200\n",
            "14/14 [==============================] - 0s 21ms/step - loss: 0.9967 - accuracy: 0.7042 - val_loss: 1.5567 - val_accuracy: 0.6393 - lr: 5.0000e-04\n",
            "Epoch 81/200\n",
            "14/14 [==============================] - 0s 21ms/step - loss: 0.8946 - accuracy: 0.7111 - val_loss: 1.5387 - val_accuracy: 0.6393 - lr: 5.0000e-04\n",
            "Epoch 82/200\n",
            "14/14 [==============================] - 0s 18ms/step - loss: 0.9884 - accuracy: 0.6888 - val_loss: 1.7963 - val_accuracy: 0.6553 - lr: 5.0000e-04\n",
            "Epoch 83/200\n",
            "14/14 [==============================] - 0s 21ms/step - loss: 0.8257 - accuracy: 0.7231 - val_loss: 1.5678 - val_accuracy: 0.6781 - lr: 5.0000e-04\n",
            "Epoch 84/200\n",
            "14/14 [==============================] - 0s 18ms/step - loss: 0.7584 - accuracy: 0.7460 - val_loss: 1.5349 - val_accuracy: 0.6826 - lr: 5.0000e-04\n",
            "Epoch 85/200\n",
            "14/14 [==============================] - 0s 18ms/step - loss: 0.7191 - accuracy: 0.7557 - val_loss: 1.5028 - val_accuracy: 0.6689 - lr: 2.5000e-04\n",
            "Epoch 86/200\n",
            "14/14 [==============================] - 0s 18ms/step - loss: 0.6992 - accuracy: 0.7660 - val_loss: 1.5014 - val_accuracy: 0.6735 - lr: 2.5000e-04\n",
            "Epoch 87/200\n",
            "14/14 [==============================] - 0s 18ms/step - loss: 0.6882 - accuracy: 0.7683 - val_loss: 1.5066 - val_accuracy: 0.6826 - lr: 2.5000e-04\n",
            "Epoch 88/200\n",
            "14/14 [==============================] - 0s 18ms/step - loss: 0.6768 - accuracy: 0.7775 - val_loss: 1.4909 - val_accuracy: 0.6849 - lr: 2.5000e-04\n",
            "Epoch 89/200\n",
            "14/14 [==============================] - 0s 18ms/step - loss: 0.6687 - accuracy: 0.7792 - val_loss: 1.4870 - val_accuracy: 0.6804 - lr: 2.5000e-04\n",
            "Epoch 90/200\n",
            "14/14 [==============================] - 0s 18ms/step - loss: 0.6621 - accuracy: 0.7855 - val_loss: 1.4658 - val_accuracy: 0.6872 - lr: 2.5000e-04\n",
            "Epoch 91/200\n",
            "14/14 [==============================] - 0s 19ms/step - loss: 0.6526 - accuracy: 0.7849 - val_loss: 1.4592 - val_accuracy: 0.6872 - lr: 2.5000e-04\n",
            "Epoch 92/200\n",
            "14/14 [==============================] - 0s 18ms/step - loss: 0.6464 - accuracy: 0.7866 - val_loss: 1.4702 - val_accuracy: 0.6895 - lr: 2.5000e-04\n",
            "Epoch 93/200\n",
            "14/14 [==============================] - 0s 19ms/step - loss: 0.6436 - accuracy: 0.7895 - val_loss: 1.4792 - val_accuracy: 0.6872 - lr: 2.5000e-04\n",
            "Epoch 94/200\n",
            "14/14 [==============================] - 0s 20ms/step - loss: 0.6376 - accuracy: 0.7883 - val_loss: 1.4638 - val_accuracy: 0.6941 - lr: 2.5000e-04\n",
            "Epoch 95/200\n",
            "14/14 [==============================] - 0s 18ms/step - loss: 0.6290 - accuracy: 0.7952 - val_loss: 1.4571 - val_accuracy: 0.6758 - lr: 2.5000e-04\n",
            "Epoch 96/200\n",
            "14/14 [==============================] - 0s 19ms/step - loss: 0.6209 - accuracy: 0.7963 - val_loss: 1.4785 - val_accuracy: 0.6895 - lr: 2.5000e-04\n",
            "Epoch 97/200\n",
            "14/14 [==============================] - 0s 21ms/step - loss: 0.6150 - accuracy: 0.8003 - val_loss: 1.4930 - val_accuracy: 0.6918 - lr: 2.5000e-04\n",
            "Epoch 98/200\n",
            "14/14 [==============================] - 0s 18ms/step - loss: 0.6092 - accuracy: 0.7998 - val_loss: 1.4825 - val_accuracy: 0.6941 - lr: 2.5000e-04\n",
            "Epoch 99/200\n",
            "14/14 [==============================] - 0s 18ms/step - loss: 0.6043 - accuracy: 0.8032 - val_loss: 1.4193 - val_accuracy: 0.6804 - lr: 2.5000e-04\n",
            "Epoch 100/200\n",
            "14/14 [==============================] - 0s 18ms/step - loss: 0.5997 - accuracy: 0.8009 - val_loss: 1.4758 - val_accuracy: 0.6918 - lr: 2.5000e-04\n",
            "Epoch 101/200\n",
            "14/14 [==============================] - 0s 18ms/step - loss: 0.5912 - accuracy: 0.8078 - val_loss: 1.4493 - val_accuracy: 0.6941 - lr: 2.5000e-04\n",
            "Epoch 102/200\n",
            "14/14 [==============================] - 0s 18ms/step - loss: 0.5850 - accuracy: 0.8049 - val_loss: 1.4991 - val_accuracy: 0.6941 - lr: 2.5000e-04\n",
            "Epoch 103/200\n",
            "14/14 [==============================] - 0s 18ms/step - loss: 0.5800 - accuracy: 0.8118 - val_loss: 1.5030 - val_accuracy: 0.6918 - lr: 2.5000e-04\n",
            "Epoch 104/200\n",
            "14/14 [==============================] - 0s 19ms/step - loss: 0.5736 - accuracy: 0.8129 - val_loss: 1.5072 - val_accuracy: 0.6986 - lr: 2.5000e-04\n",
            "Epoch 104: early stopping\n"
          ]
        }
      ]
    },
    {
      "cell_type": "code",
      "source": [
        "def jitter(x, sigma=0.03):\n",
        "    # https://arxiv.org/pdf/1706.00527.pdf\n",
        "    return x + np.random.normal(loc=0., scale=sigma, size=x.shape)\n",
        "\n",
        "\n",
        "def permutation(x, max_segments=5, seg_mode=\"equal\"):\n",
        "    orig_steps = np.arange(x.shape[1])\n",
        "\n",
        "    num_segs = np.random.randint(1, max_segments, size=(x.shape[0]))\n",
        "\n",
        "    ret = np.zeros_like(x)\n",
        "    for i, pat in enumerate(x):\n",
        "        if num_segs[i] > 1:\n",
        "            if seg_mode == \"random\":\n",
        "                split_points = np.random.choice(x.shape[1] - 2, num_segs[i] - 1, replace=False)\n",
        "                split_points.sort()\n",
        "                splits = np.split(orig_steps, split_points)\n",
        "            else:\n",
        "                splits = np.array_split(orig_steps, num_segs[i])\n",
        "            warp = np.concatenate(np.random.permutation(splits)).ravel()\n",
        "            ret[i] = pat[warp]\n",
        "        else:\n",
        "            ret[i] = pat\n",
        "    return ret\n",
        "\n",
        "\n",
        "def timeseries_aug(x, y, aug_ratio, method):\n",
        "    x_aug = x\n",
        "    y_aug = y\n",
        "    train, counts_train = np.unique(y, return_counts=True)\n",
        "    print(\"Before Augmentation:\")\n",
        "    for i in range(12):\n",
        "        print('class: ', i, '\\ttrain samples: ', counts_train[i])\n",
        "        if (counts_train[i] < 51) and (aug_ratio > 0):\n",
        "            for k in range(len(y)):\n",
        "                if y[k] == i:\n",
        "                    for n in range(aug_ratio):\n",
        "                        if method == 'jitter':\n",
        "                            x_temp = jitter(x[k])\n",
        "                        if method == 'permutation':\n",
        "                            x_temp = permutation(x[k])\n",
        "                        x_temp = np.expand_dims(x_temp, axis=0)\n",
        "                        y_temp = np.expand_dims(y[k], axis=0)\n",
        "                        x_aug = np.append(x_aug, x_temp, axis=0)\n",
        "                        y_aug = np.append(y_aug, y_temp, axis=0)\n",
        "\n",
        "    print('\\nAfter Augmentation:')\n",
        "    train, counts_train_aug = np.unique(y_aug, return_counts=True)\n",
        "    for i in range(12):\n",
        "        print('class: ', i, '\\ttrain samples: ', counts_train_aug[i])\n",
        "    #plot_sample(x)\n",
        "    # plot_sample(x_aug)\n",
        "\n",
        "    return x_aug, y_aug"
      ],
      "metadata": {
        "id": "rc5HT3Qu49gw"
      },
      "execution_count": null,
      "outputs": []
    },
    {
      "cell_type": "code",
      "source": [
        "model.save('onalti')\n",
        "model = tfk.models.load_model('onalti')"
      ],
      "metadata": {
        "colab": {
          "base_uri": "https://localhost:8080/"
        },
        "id": "shd60eTp_oMa",
        "outputId": "de232085-1feb-4be2-e8ae-c17bf6a14492"
      },
      "execution_count": null,
      "outputs": [
        {
          "output_type": "stream",
          "name": "stderr",
          "text": [
            "WARNING:absl:Found untraced functions such as _jit_compiled_convolution_op, _jit_compiled_convolution_op, _jit_compiled_convolution_op while saving (showing 3 of 3). These functions will not be directly callable after loading.\n"
          ]
        }
      ]
    },
    {
      "cell_type": "code",
      "source": [],
      "metadata": {
        "id": "05v7zpNCAo_3"
      },
      "execution_count": null,
      "outputs": []
    }
  ]
}