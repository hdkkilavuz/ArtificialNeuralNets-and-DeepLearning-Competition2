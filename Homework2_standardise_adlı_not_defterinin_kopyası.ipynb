{
  "nbformat": 4,
  "nbformat_minor": 0,
  "metadata": {
    "colab": {
      "provenance": [],
      "collapsed_sections": [
        "t5VrQa_OMu74",
        "FqTU7SDgjWgV"
      ]
    },
    "kernelspec": {
      "name": "python3",
      "display_name": "Python 3"
    },
    "language_info": {
      "name": "python"
    },
    "accelerator": "GPU",
    "gpuClass": "standard"
  },
  "cells": [
    {
      "cell_type": "markdown",
      "metadata": {
        "id": "1FdqcMXk96rS"
      },
      "source": [
        "### Connect to Drive"
      ]
    },
    {
      "cell_type": "code",
      "metadata": {
        "id": "PxUZy3U-fjcm",
        "colab": {
          "base_uri": "https://localhost:8080/"
        },
        "outputId": "86bc1187-f396-42fa-8b06-ba01d6545ade"
      },
      "source": [
        "from google.colab import drive\n",
        "drive.mount('/gdrive')"
      ],
      "execution_count": null,
      "outputs": [
        {
          "output_type": "stream",
          "name": "stdout",
          "text": [
            "Drive already mounted at /gdrive; to attempt to forcibly remount, call drive.mount(\"/gdrive\", force_remount=True).\n"
          ]
        }
      ]
    },
    {
      "cell_type": "code",
      "metadata": {
        "id": "C_cUOiS9flQ8",
        "outputId": "79b40687-4ef8-4565-e5da-8ea6dd1a13ee",
        "colab": {
          "base_uri": "https://localhost:8080/"
        }
      },
      "source": [
        "%cd /gdrive/My Drive/"
      ],
      "execution_count": null,
      "outputs": [
        {
          "output_type": "stream",
          "name": "stdout",
          "text": [
            "/gdrive/My Drive\n"
          ]
        }
      ]
    },
    {
      "cell_type": "markdown",
      "metadata": {
        "id": "zfehjCy896Fd"
      },
      "source": [
        "### Import libraries"
      ]
    },
    {
      "cell_type": "code",
      "metadata": {
        "id": "Z_wVYNVVfr6q",
        "outputId": "e4d0faca-d457-42b3-e90c-5d30ff5d0df7",
        "colab": {
          "base_uri": "https://localhost:8080/"
        }
      },
      "source": [
        "import tensorflow as tf\n",
        "import numpy as np\n",
        "import os\n",
        "import random\n",
        "import pandas as pd\n",
        "import seaborn as sns\n",
        "import matplotlib.pyplot as plt\n",
        "plt.rc('font', size=16) \n",
        "from sklearn.metrics import accuracy_score, f1_score, precision_score, recall_score\n",
        "from sklearn.metrics import confusion_matrix\n",
        "from sklearn.preprocessing import MinMaxScaler\n",
        "import warnings\n",
        "import logging\n",
        "import sklearn\n",
        "\n",
        "tfk = tf.keras\n",
        "tfkl = tf.keras.layers\n",
        "print(tf.__version__)"
      ],
      "execution_count": null,
      "outputs": [
        {
          "output_type": "stream",
          "name": "stdout",
          "text": [
            "2.9.2\n"
          ]
        }
      ]
    },
    {
      "cell_type": "markdown",
      "metadata": {
        "id": "lQWEHP13tQsc"
      },
      "source": [
        "### Set seed for reproducibility"
      ]
    },
    {
      "cell_type": "code",
      "metadata": {
        "id": "imBtfhUPLwB-"
      },
      "source": [
        "# Random seed for reproducibility\n",
        "seed = 42\n",
        "\n",
        "random.seed(seed)\n",
        "os.environ['PYTHONHASHSEED'] = str(seed)\n",
        "np.random.seed(seed)\n",
        "tf.random.set_seed(seed)\n",
        "tf.compat.v1.set_random_seed(seed)"
      ],
      "execution_count": null,
      "outputs": []
    },
    {
      "cell_type": "code",
      "source": [
        "!unzip training_dataset_homework2.zip"
      ],
      "metadata": {
        "colab": {
          "base_uri": "https://localhost:8080/"
        },
        "id": "G3LcwjG56ZNo",
        "outputId": "729a80dc-be52-4fbc-b3c4-ef3af1696bd5"
      },
      "execution_count": null,
      "outputs": [
        {
          "output_type": "stream",
          "name": "stdout",
          "text": [
            "Archive:  training_dataset_homework2.zip\n",
            "replace y_train.npy? [y]es, [n]o, [A]ll, [N]one, [r]ename: n\n",
            "replace x_train.npy? [y]es, [n]o, [A]ll, [N]one, [r]ename: n\n"
          ]
        }
      ]
    },
    {
      "cell_type": "code",
      "source": [
        "denox = np.load('/gdrive/My Drive/x_train.npy')\n",
        "denoy = np.load('/gdrive/My Drive/y_train.npy')\n",
        "denox.shape, denoy.shape"
      ],
      "metadata": {
        "colab": {
          "base_uri": "https://localhost:8080/"
        },
        "id": "4GwkC0Db6iK7",
        "outputId": "7cd70e65-ee54-4560-d312-b2f310029b56"
      },
      "execution_count": null,
      "outputs": [
        {
          "output_type": "execute_result",
          "data": {
            "text/plain": [
              "((2429, 36, 6), (2429,))"
            ]
          },
          "metadata": {},
          "execution_count": 95
        }
      ]
    },
    {
      "cell_type": "code",
      "source": [
        "T0 = np.split(denox, 36, axis=1)[0]\n",
        "T1 = np.split(denox, 36, axis=1)[1]\n",
        "T2 = np.split(denox, 36, axis=1)[2]\n",
        "T3 = np.split(denox, 36, axis=1)[3]\n",
        "T4 = np.split(denox, 36, axis=1)[4]\n",
        "T5 = np.split(denox, 36, axis=1)[5]\n",
        "T6 = np.split(denox, 36, axis=1)[6]\n",
        "T7 = np.split(denox, 36, axis=1)[7]\n",
        "T8 = np.split(denox, 36, axis=1)[8]\n",
        "T9 = np.split(denox, 36, axis=1)[9]\n",
        "T10 = np.split(denox, 36, axis=1)[10]\n",
        "T11 = np.split(denox, 36, axis=1)[11]\n",
        "T12 = np.split(denox, 36, axis=1)[12]\n",
        "T13 = np.split(denox, 36, axis=1)[13]\n",
        "T14 = np.split(denox, 36, axis=1)[14]\n",
        "T15 = np.split(denox, 36, axis=1)[15]\n",
        "T16 = np.split(denox, 36, axis=1)[16]\n",
        "T17 = np.split(denox, 36, axis=1)[17]\n",
        "T18 = np.split(denox, 36, axis=1)[18]\n",
        "T19 = np.split(denox, 36, axis=1)[19]\n",
        "T20 = np.split(denox, 36, axis=1)[20]\n",
        "T21 = np.split(denox, 36, axis=1)[21]\n",
        "T22 = np.split(denox, 36, axis=1)[22]\n",
        "T23 = np.split(denox, 36, axis=1)[23]\n",
        "T24 = np.split(denox, 36, axis=1)[24]\n",
        "T25 = np.split(denox, 36, axis=1)[25]\n",
        "T26 = np.split(denox, 36, axis=1)[26]\n",
        "T27 = np.split(denox, 36, axis=1)[27]\n",
        "T28 = np.split(denox, 36, axis=1)[28]\n",
        "T29 = np.split(denox, 36, axis=1)[29]\n",
        "T30 = np.split(denox, 36, axis=1)[30]\n",
        "T31 = np.split(denox, 36, axis=1)[31]\n",
        "T32 = np.split(denox, 36, axis=1)[32]\n",
        "T33 = np.split(denox, 36, axis=1)[33]\n",
        "T34 = np.split(denox, 36, axis=1)[34]\n",
        "T35 = np.split(denox, 36, axis=1)[35]\n"
      ],
      "metadata": {
        "id": "KB2i4GysOM3l"
      },
      "execution_count": null,
      "outputs": []
    },
    {
      "cell_type": "code",
      "source": [
        "T0.shape"
      ],
      "metadata": {
        "colab": {
          "base_uri": "https://localhost:8080/"
        },
        "id": "chnK0_eKntt5",
        "outputId": "6efd618b-3286-47a3-f95e-df7b1bc76315"
      },
      "execution_count": null,
      "outputs": [
        {
          "output_type": "execute_result",
          "data": {
            "text/plain": [
              "(2429, 1, 6)"
            ]
          },
          "metadata": {},
          "execution_count": 100
        }
      ]
    },
    {
      "cell_type": "code",
      "source": [
        "T0 = T0.reshape(2429,6)\n",
        "T1 = T1.reshape(2429,6)\n",
        "T2 = T2.reshape(2429,6)\n",
        "T3 = T3.reshape(2429,6)\n",
        "T4 = T4.reshape(2429,6)\n",
        "T5 = T5.reshape(2429,6)\n",
        "T6 = T6.reshape(2429,6)\n",
        "T7 = T7.reshape(2429,6)\n",
        "T8 = T8.reshape(2429,6)\n",
        "T9 = T9.reshape(2429,6)\n",
        "T10 = T10.reshape(2429,6)\n",
        "T11 = T11.reshape(2429,6)\n",
        "T12 = T12.reshape(2429,6)\n",
        "T13 = T13.reshape(2429,6)\n",
        "T14 = T14.reshape(2429,6)\n",
        "T15 = T15.reshape(2429,6)\n",
        "T16 = T16.reshape(2429,6)\n",
        "T17 = T17.reshape(2429,6)\n",
        "T18 = T18.reshape(2429,6)\n",
        "T19 = T19.reshape(2429,6)\n",
        "T20 = T20.reshape(2429,6)\n",
        "T21 = T21.reshape(2429,6)\n",
        "T22 = T22.reshape(2429,6)\n",
        "T23 = T23.reshape(2429,6)\n",
        "T24 = T24.reshape(2429,6)\n",
        "T25 = T25.reshape(2429,6)\n",
        "T26 = T26.reshape(2429,6)\n",
        "T27 = T27.reshape(2429,6)\n",
        "T28 = T28.reshape(2429,6)\n",
        "T29 = T29.reshape(2429,6)\n",
        "T30 = T30.reshape(2429,6)\n",
        "T31 = T31.reshape(2429,6)\n",
        "T32 = T32.reshape(2429,6)\n",
        "T33 = T33.reshape(2429,6)\n",
        "T34 = T34.reshape(2429,6)\n",
        "T35 = T35.reshape(2429,6)"
      ],
      "metadata": {
        "id": "h4qn14EUozei"
      },
      "execution_count": null,
      "outputs": []
    },
    {
      "cell_type": "code",
      "source": [
        "from sklearn import preprocessing"
      ],
      "metadata": {
        "id": "Oq5tzRj2p4mH"
      },
      "execution_count": null,
      "outputs": []
    },
    {
      "cell_type": "code",
      "source": [
        "scaler = preprocessing.StandardScaler()\n",
        "T0= scaler.fit_transform(T0)\n",
        "T1 = scaler.fit_transform(T1)\n",
        "T2 = scaler.fit_transform(T2)\n",
        "T3 = scaler.fit_transform(T3)\n",
        "T4 = scaler.fit_transform(T4)\n",
        "T5 = scaler.fit_transform(T5)\n",
        "T6 = scaler.fit_transform(T6)\n",
        "T7 = scaler.fit_transform(T7)\n",
        "T8 = scaler.fit_transform(T8)\n",
        "T9 = scaler.fit_transform(T9)\n",
        "T10 = scaler.fit_transform(T10)\n",
        "T11 = scaler.fit_transform(T11)\n",
        "T12 = scaler.fit_transform(T12)\n",
        "T13 = scaler.fit_transform(T13)\n",
        "T14 = scaler.fit_transform(T14)\n",
        "T15 = scaler.fit_transform(T15)\n",
        "T16 = scaler.fit_transform(T16)\n",
        "T17 = scaler.fit_transform(T17)\n",
        "T18 = scaler.fit_transform(T18)\n",
        "T19 = scaler.fit_transform(T19)\n",
        "T20 = scaler.fit_transform(T20)\n",
        "T21 = scaler.fit_transform(T21)\n",
        "T22 = scaler.fit_transform(T22)\n",
        "T23 = scaler.fit_transform(T23)\n",
        "T24 = scaler.fit_transform(T24)\n",
        "T25 = scaler.fit_transform(T25)\n",
        "T26 = scaler.fit_transform(T26)\n",
        "T27 = scaler.fit_transform(T27)\n",
        "T28 = scaler.fit_transform(T28)\n",
        "T29 = scaler.fit_transform(T29)\n",
        "T30 = scaler.fit_transform(T30)\n",
        "T31 = scaler.fit_transform(T31)\n",
        "T32 = scaler.fit_transform(T32)\n",
        "T33 = scaler.fit_transform(T33)\n",
        "T34 = scaler.fit_transform(T34)\n",
        "T35 = scaler.fit_transform(T35)"
      ],
      "metadata": {
        "id": "6rzQYxafnbgQ"
      },
      "execution_count": null,
      "outputs": []
    },
    {
      "cell_type": "code",
      "source": [],
      "metadata": {
        "id": "qFvrLK5KuelN"
      },
      "execution_count": null,
      "outputs": []
    },
    {
      "cell_type": "code",
      "source": [
        "T0"
      ],
      "metadata": {
        "colab": {
          "base_uri": "https://localhost:8080/"
        },
        "id": "sIoEh9zep76H",
        "outputId": "df0f1811-75bd-478c-ac5c-06b2e8504d59"
      },
      "execution_count": null,
      "outputs": [
        {
          "output_type": "execute_result",
          "data": {
            "text/plain": [
              "array([[ 9.73874015e-02, -2.17892435e-02, -3.21385344e-02,\n",
              "        -8.72842392e-02, -5.87194504e-02, -2.39096274e-01],\n",
              "       [-2.23122397e-02, -3.30139028e-02,  1.17682199e-02,\n",
              "        -6.16063760e-02, -2.38417725e-02, -2.38515931e-02],\n",
              "       [ 2.71627475e-01,  8.69220539e-01,  5.15554955e+00,\n",
              "         8.11958563e-04,  1.76458527e-01,  1.89610072e-01],\n",
              "       ...,\n",
              "       [ 3.92689096e+00,  2.07941083e+00,  2.82024915e+00,\n",
              "         2.43721677e+00,  4.42593749e+00,  3.96798312e+00],\n",
              "       [ 9.86414947e-02, -2.96426703e-02, -3.46391872e-02,\n",
              "        -5.49079330e-02, -7.70382856e-02, -2.12442778e-02],\n",
              "       [-3.32110190e-02, -3.24528813e-02, -2.78643478e-02,\n",
              "        -5.47486352e-02, -2.54106324e-02, -4.71390372e-02]])"
            ]
          },
          "metadata": {},
          "execution_count": 54
        }
      ]
    },
    {
      "cell_type": "code",
      "source": [
        "T0 = T0.reshape(2429,1,6)\n",
        "T1 = T1.reshape(2429,1,6)\n",
        "T2 = T2.reshape(2429,1,6)\n",
        "T3 = T3.reshape(2429,1,6)\n",
        "T4 = T4.reshape(2429,1,6)\n",
        "T5 = T5.reshape(2429,1,6)\n",
        "T6 = T6.reshape(2429,1,6)\n",
        "T7 = T7.reshape(2429,1,6)\n",
        "T8 = T8.reshape(2429,1,6)\n",
        "T9 = T9.reshape(2429,1,6)\n",
        "T10 = T10.reshape(2429,1,6)\n",
        "T11 = T11.reshape(2429,1,6)\n",
        "T12 = T12.reshape(2429,1,6)\n",
        "T13 = T13.reshape(2429,1,6)\n",
        "T14 = T14.reshape(2429,1,6)\n",
        "T15 = T15.reshape(2429,1,6)\n",
        "T16 = T16.reshape(2429,1,6)\n",
        "T17 = T17.reshape(2429,1,6)\n",
        "T18 = T18.reshape(2429,1,6)\n",
        "T19 = T19.reshape(2429,1,6)\n",
        "T20 = T20.reshape(2429,1,6)\n",
        "T21 = T21.reshape(2429,1,6)\n",
        "T22 = T22.reshape(2429,1,6)\n",
        "T23 = T23.reshape(2429,1,6)\n",
        "T24 = T24.reshape(2429,1,6)\n",
        "T25 = T25.reshape(2429,1,6)\n",
        "T26 = T26.reshape(2429,1,6)\n",
        "T27 = T27.reshape(2429,1,6)\n",
        "T28 = T28.reshape(2429,1,6)\n",
        "T29 = T29.reshape(2429,1,6)\n",
        "T30 = T30.reshape(2429,1,6)\n",
        "T31 = T31.reshape(2429,1,6)\n",
        "T32 = T32.reshape(2429,1,6)\n",
        "T33 = T33.reshape(2429,1,6)\n",
        "T34 = T34.reshape(2429,1,6)\n",
        "T35 = T35.reshape(2429,1,6)"
      ],
      "metadata": {
        "id": "ZK29kCCcsQX-"
      },
      "execution_count": null,
      "outputs": []
    },
    {
      "cell_type": "code",
      "source": [
        "T35.shape"
      ],
      "metadata": {
        "colab": {
          "base_uri": "https://localhost:8080/"
        },
        "id": "rZTzprdbsayf",
        "outputId": "75ca6609-bf7b-4379-f9f8-9e70ad86361c"
      },
      "execution_count": null,
      "outputs": [
        {
          "output_type": "execute_result",
          "data": {
            "text/plain": [
              "(2429, 1, 6)"
            ]
          },
          "metadata": {},
          "execution_count": 62
        }
      ]
    },
    {
      "cell_type": "code",
      "source": [
        "T = np. concatenate((T0,T1,T2,T3,T4,T5,T6,T7,T8,T9,T10,T11,T12,T13,T14,T15,T16,T17,T18,T19,T20,T21,T22,T23,T24,T25,T26,T27,T28,T29,T30,T31,T32,T33,T34,T35), axis=1)\n",
        "type(T), T.shape"
      ],
      "metadata": {
        "colab": {
          "base_uri": "https://localhost:8080/"
        },
        "id": "R_rPQX9ukr-G",
        "outputId": "a98b0ae6-5426-4ba0-bdbc-644e859b1957"
      },
      "execution_count": null,
      "outputs": [
        {
          "output_type": "execute_result",
          "data": {
            "text/plain": [
              "(numpy.ndarray, (2429, 36, 6))"
            ]
          },
          "metadata": {},
          "execution_count": 104
        }
      ]
    },
    {
      "cell_type": "code",
      "source": [
        "type(denox), type(T)"
      ],
      "metadata": {
        "colab": {
          "base_uri": "https://localhost:8080/"
        },
        "id": "vsbcOcHStP_M",
        "outputId": "9579e65b-acae-434a-b307-a531af0ece35"
      },
      "execution_count": null,
      "outputs": [
        {
          "output_type": "execute_result",
          "data": {
            "text/plain": [
              "(numpy.ndarray, numpy.ndarray)"
            ]
          },
          "metadata": {},
          "execution_count": 105
        }
      ]
    },
    {
      "cell_type": "code",
      "source": [
        "from tempfile import TemporaryFile\n",
        "outfile = TemporaryFile()\n",
        "np.save(outfile,T)"
      ],
      "metadata": {
        "id": "LDEw3ZKateT3"
      },
      "execution_count": null,
      "outputs": []
    },
    {
      "cell_type": "code",
      "source": [],
      "metadata": {
        "id": "3_002osMuQWI"
      },
      "execution_count": null,
      "outputs": []
    },
    {
      "cell_type": "markdown",
      "metadata": {
        "id": "XRK9IPIc-ZEz"
      },
      "source": [
        "### Exploration Data Analysis (EDA)\n",
        "#### Human Activity Recognition"
      ]
    },
    {
      "cell_type": "markdown",
      "metadata": {
        "id": "GMysAd_I-lED"
      },
      "source": [
        "Load and clean the dataset"
      ]
    },
    {
      "cell_type": "code",
      "metadata": {
        "id": "s8HtgcBGAzaD",
        "colab": {
          "base_uri": "https://localhost:8080/"
        },
        "outputId": "08df975d-8555-4b90-a0c6-d52ebcda9096"
      },
      "source": [
        "# Split over users\n",
        "from sklearn.model_selection import train_test_split\n",
        "X_train, X_test, y_train, y_test = train_test_split(T, denoy, test_size=0.1, random_state=42)\n",
        "X_train.shape, X_test.shape, y_train.shape, y_test.shape\n"
      ],
      "execution_count": null,
      "outputs": [
        {
          "output_type": "execute_result",
          "data": {
            "text/plain": [
              "((2186, 36, 6), (243, 36, 6), (2186,), (243,))"
            ]
          },
          "metadata": {},
          "execution_count": 111
        }
      ]
    },
    {
      "cell_type": "code",
      "metadata": {
        "id": "tguCut77u6bL",
        "colab": {
          "base_uri": "https://localhost:8080/"
        },
        "outputId": "a6d7564a-ec75-4b81-ea53-3b62ad8a8eeb"
      },
      "source": [
        "# Convert the sparse labels to categorical values\n",
        "y_train = tfk.utils.to_categorical(y_train)\n",
        "y_test = tfk.utils.to_categorical(y_test)\n",
        "X_train.shape, y_train.shape, X_test.shape, y_test.shape"
      ],
      "execution_count": null,
      "outputs": [
        {
          "output_type": "execute_result",
          "data": {
            "text/plain": [
              "((2186, 36, 6), (2186, 12), (243, 36, 6), (243, 12))"
            ]
          },
          "metadata": {},
          "execution_count": 112
        }
      ]
    },
    {
      "cell_type": "code",
      "source": [
        "#scaler.fit_transform(X_train.reshape(X_train.shape[1], -1)).shape"
      ],
      "metadata": {
        "colab": {
          "base_uri": "https://localhost:8080/"
        },
        "id": "rbDN_LDzSGW1",
        "outputId": "d3a86e1d-903c-43e0-d2a7-28302679a6fd"
      },
      "execution_count": null,
      "outputs": [
        {
          "output_type": "execute_result",
          "data": {
            "text/plain": [
              "(12, 39348)"
            ]
          },
          "metadata": {},
          "execution_count": 110
        }
      ]
    },
    {
      "cell_type": "code",
      "source": [
        "#scaler = MinMaxScaler(feature_range=(0,1))\n",
        "#X_train = scaler.fit_transform(X_train.reshape(X_train.shape[], -1)).reshape(X_train.shape)\n",
        "#X_test = scaler.transform(X_test.reshape(X_test.shape[2], -1)).reshape(X_test.shape)\n"
      ],
      "metadata": {
        "colab": {
          "base_uri": "https://localhost:8080/",
          "height": 133
        },
        "id": "bVuCyVVGSByW",
        "outputId": "beb0f297-2628-4d19-d03f-3746d97b440b"
      },
      "execution_count": null,
      "outputs": [
        {
          "output_type": "error",
          "ename": "SyntaxError",
          "evalue": "ignored",
          "traceback": [
            "\u001b[0;36m  File \u001b[0;32m\"<ipython-input-95-d8fd4a89c730>\"\u001b[0;36m, line \u001b[0;32m2\u001b[0m\n\u001b[0;31m    X_train = scaler.fit_transform(X_train.reshape(X_train.shape[], -1)).reshape(X_train.shape)\u001b[0m\n\u001b[0m                                                                 ^\u001b[0m\n\u001b[0;31mSyntaxError\u001b[0m\u001b[0;31m:\u001b[0m invalid syntax\n"
          ]
        }
      ]
    },
    {
      "cell_type": "markdown",
      "metadata": {
        "id": "g_0wmrz3MGsd"
      },
      "source": [
        "### Build and train models"
      ]
    },
    {
      "cell_type": "code",
      "metadata": {
        "id": "XkUqhy__KMnr"
      },
      "source": [
        "input_shape = X_train.shape[1:]\n",
        "classes = y_train.shape[-1]\n",
        "batch_size = 128\n",
        "epochs = 200"
      ],
      "execution_count": null,
      "outputs": []
    },
    {
      "cell_type": "markdown",
      "metadata": {
        "id": "bAP1pRLKN_v9"
      },
      "source": [
        "#### Vanilla Long Short Term Memory (LSTM) Neural Network\n",
        "\n",
        "![](https://drive.google.com/uc?export=view&id=1FZ_P4SgVAA_mCZQ0tK18VwRqGqzNANOE\n",
        ")"
      ]
    },
    {
      "cell_type": "code",
      "metadata": {
        "id": "vn115JrZjdTT"
      },
      "source": [
        "def build_LSTM_classifier(input_shape, classes):\n",
        "    # Build the neural network layer by layer\n",
        "    input_layer = tfkl.Input(shape=input_shape, name='Input')\n",
        "\n",
        "    # Feature extractor\n",
        "    lstm = tfkl.LSTM(128, return_sequences=True)(input_layer)\n",
        "    lstm = tfkl.LSTM(128)(lstm)\n",
        "    dropout = tfkl.Dropout(.5, seed=seed)(lstm)\n",
        "\n",
        "    # Classifier\n",
        "    classifier = tfkl.Dense(128, activation='relu')(dropout)\n",
        "    output_layer = tfkl.Dense(classes, activation='softmax')(classifier)\n",
        "\n",
        "    # Connect input and output through the Model class\n",
        "    model = tfk.Model(inputs=input_layer, outputs=output_layer, name='model')\n",
        "\n",
        "    # Compile the model\n",
        "    model.compile(loss=tfk.losses.CategoricalCrossentropy(), optimizer=tfk.optimizers.Adam(), metrics='accuracy')\n",
        "\n",
        "    # Return the model\n",
        "    return model"
      ],
      "execution_count": null,
      "outputs": []
    },
    {
      "cell_type": "code",
      "metadata": {
        "id": "SE7LPD2WKMvP",
        "colab": {
          "base_uri": "https://localhost:8080/"
        },
        "outputId": "21a83caf-a6e0-4da8-c5da-d179863feae4"
      },
      "source": [
        "model = build_LSTM_classifier(input_shape, classes)\n",
        "model.summary()"
      ],
      "execution_count": null,
      "outputs": [
        {
          "output_type": "stream",
          "name": "stdout",
          "text": [
            "Model: \"model\"\n",
            "_________________________________________________________________\n",
            " Layer (type)                Output Shape              Param #   \n",
            "=================================================================\n",
            " Input (InputLayer)          [(None, 36, 6)]           0         \n",
            "                                                                 \n",
            " lstm_2 (LSTM)               (None, 36, 128)           69120     \n",
            "                                                                 \n",
            " lstm_3 (LSTM)               (None, 128)               131584    \n",
            "                                                                 \n",
            " dropout_1 (Dropout)         (None, 128)               0         \n",
            "                                                                 \n",
            " dense_2 (Dense)             (None, 128)               16512     \n",
            "                                                                 \n",
            " dense_3 (Dense)             (None, 12)                1548      \n",
            "                                                                 \n",
            "=================================================================\n",
            "Total params: 218,764\n",
            "Trainable params: 218,764\n",
            "Non-trainable params: 0\n",
            "_________________________________________________________________\n"
          ]
        }
      ]
    },
    {
      "cell_type": "code",
      "metadata": {
        "id": "xujngeFRKMsu",
        "colab": {
          "base_uri": "https://localhost:8080/"
        },
        "outputId": "58bb62d1-9800-4bfa-9dbb-6483e8b235b1"
      },
      "source": [
        "# Train the model\n",
        "history = model.fit(\n",
        "    x = X_train,\n",
        "    y = y_train,\n",
        "    batch_size = 150,\n",
        "    epochs = epochs,\n",
        "    validation_split=.1,\n",
        "    callbacks = [\n",
        "        tfk.callbacks.EarlyStopping(monitor='val_accuracy', mode='max', patience=10, restore_best_weights=True),\n",
        "        tfk.callbacks.ReduceLROnPlateau(monitor='val_accuracy', mode='max', patience=5, factor=0.5, min_lr=1e-5)\n",
        "    ]\n",
        ").history"
      ],
      "execution_count": null,
      "outputs": [
        {
          "output_type": "stream",
          "name": "stdout",
          "text": [
            "Epoch 1/200\n",
            "14/14 [==============================] - 0s 18ms/step - loss: 1.3453 - accuracy: 0.5252 - val_loss: 1.3340 - val_accuracy: 0.5479 - lr: 1.0000e-05\n",
            "Epoch 2/200\n",
            "14/14 [==============================] - 0s 13ms/step - loss: 1.3378 - accuracy: 0.5262 - val_loss: 1.3333 - val_accuracy: 0.5434 - lr: 1.0000e-05\n",
            "Epoch 3/200\n",
            "14/14 [==============================] - 0s 13ms/step - loss: 1.3412 - accuracy: 0.5247 - val_loss: 1.3307 - val_accuracy: 0.5525 - lr: 1.0000e-05\n",
            "Epoch 4/200\n",
            "14/14 [==============================] - 0s 13ms/step - loss: 1.3338 - accuracy: 0.5191 - val_loss: 1.3288 - val_accuracy: 0.5662 - lr: 1.0000e-05\n",
            "Epoch 5/200\n",
            "14/14 [==============================] - 0s 14ms/step - loss: 1.3401 - accuracy: 0.5262 - val_loss: 1.3297 - val_accuracy: 0.5571 - lr: 1.0000e-05\n",
            "Epoch 6/200\n",
            "14/14 [==============================] - 0s 12ms/step - loss: 1.3394 - accuracy: 0.5282 - val_loss: 1.3295 - val_accuracy: 0.5571 - lr: 1.0000e-05\n",
            "Epoch 7/200\n",
            "14/14 [==============================] - 0s 12ms/step - loss: 1.3390 - accuracy: 0.5353 - val_loss: 1.3290 - val_accuracy: 0.5571 - lr: 1.0000e-05\n",
            "Epoch 8/200\n",
            "14/14 [==============================] - 0s 12ms/step - loss: 1.3296 - accuracy: 0.5323 - val_loss: 1.3291 - val_accuracy: 0.5525 - lr: 1.0000e-05\n",
            "Epoch 9/200\n",
            "14/14 [==============================] - 0s 12ms/step - loss: 1.3294 - accuracy: 0.5226 - val_loss: 1.3291 - val_accuracy: 0.5525 - lr: 1.0000e-05\n",
            "Epoch 10/200\n",
            "14/14 [==============================] - 0s 12ms/step - loss: 1.3394 - accuracy: 0.5277 - val_loss: 1.3297 - val_accuracy: 0.5525 - lr: 1.0000e-05\n",
            "Epoch 11/200\n",
            "14/14 [==============================] - 0s 14ms/step - loss: 1.3475 - accuracy: 0.5272 - val_loss: 1.3306 - val_accuracy: 0.5571 - lr: 1.0000e-05\n",
            "Epoch 12/200\n",
            "14/14 [==============================] - 0s 13ms/step - loss: 1.3396 - accuracy: 0.5186 - val_loss: 1.3321 - val_accuracy: 0.5479 - lr: 1.0000e-05\n",
            "Epoch 13/200\n",
            "14/14 [==============================] - 0s 12ms/step - loss: 1.3337 - accuracy: 0.5333 - val_loss: 1.3297 - val_accuracy: 0.5571 - lr: 1.0000e-05\n",
            "Epoch 14/200\n",
            "14/14 [==============================] - 0s 12ms/step - loss: 1.3255 - accuracy: 0.5277 - val_loss: 1.3319 - val_accuracy: 0.5525 - lr: 1.0000e-05\n"
          ]
        }
      ]
    },
    {
      "cell_type": "code",
      "metadata": {
        "id": "1UCCpzTHKMqF",
        "colab": {
          "base_uri": "https://localhost:8080/",
          "height": 833
        },
        "outputId": "ccfe617e-fc0b-4f1c-c954-c8c1e538dde5"
      },
      "source": [
        "best_epoch = np.argmax(history['val_accuracy'])\n",
        "plt.figure(figsize=(17,4))\n",
        "plt.plot(history['loss'], label='Training loss', alpha=.8, color='#ff7f0e')\n",
        "plt.plot(history['val_loss'], label='Validation loss', alpha=.9, color='#5a9aa5')\n",
        "plt.axvline(x=best_epoch, label='Best epoch', alpha=.3, ls='--', color='#5a9aa5')\n",
        "plt.title('Categorical Crossentropy')\n",
        "plt.legend()\n",
        "plt.grid(alpha=.3)\n",
        "plt.show()\n",
        "\n",
        "plt.figure(figsize=(17,4))\n",
        "plt.plot(history['accuracy'], label='Training accuracy', alpha=.8, color='#ff7f0e')\n",
        "plt.plot(history['val_accuracy'], label='Validation accuracy', alpha=.9, color='#5a9aa5')\n",
        "plt.axvline(x=best_epoch, label='Best epoch', alpha=.3, ls='--', color='#5a9aa5')\n",
        "plt.title('Accuracy')\n",
        "plt.legend()\n",
        "plt.grid(alpha=.3)\n",
        "plt.show()\n",
        "\n",
        "plt.figure(figsize=(17,4))\n",
        "plt.plot(history['lr'], label='Learning Rate', alpha=.8, color='#ff7f0e')\n",
        "plt.axvline(x=best_epoch, label='Best epoch', alpha=.3, ls='--', color='#5a9aa5')\n",
        "plt.legend()\n",
        "plt.grid(alpha=.3)\n",
        "plt.show()"
      ],
      "execution_count": null,
      "outputs": [
        {
          "output_type": "display_data",
          "data": {
            "text/plain": [
              "<Figure size 1224x288 with 1 Axes>"
            ],
            "image/png": "[encoded data removed]"
          },
          "metadata": {
            "needs_background": "light"
          }
        },
        {
          "output_type": "display_data",
          "data": {
            "text/plain": [
              "<Figure size 1224x288 with 1 Axes>"
            ],
            "image/png": "[encoded data removed]"
          },
          "metadata": {
            "needs_background": "light"
          }
        },
        {
          "output_type": "display_data",
          "data": {
            "text/plain": [
              "<Figure size 1224x288 with 1 Axes>"
            ],
            "image/png": "[encoded data removed]"
          },
          "metadata": {
            "needs_background": "light"
          }
        }
      ]
    },
    {
      "cell_type": "code",
      "metadata": {
        "id": "4_eXoY7pTxb7"
      },
      "source": [
        "model.save('LSTM')\n",
        "# model = tfk.models.load_model('LSTM')"
      ],
      "execution_count": null,
      "outputs": []
    },
    {
      "cell_type": "code",
      "metadata": {
        "id": "VTQvyDzeVHoY",
        "colab": {
          "base_uri": "https://localhost:8080/"
        },
        "outputId": "5d181954-4d19-4b88-e9aa-d71e67ba3cda"
      },
      "source": [
        "# Predict the test set with the LSTM\n",
        "predictions = model.predict(X_test)\n",
        "predictions.shape"
      ],
      "execution_count": null,
      "outputs": [
        {
          "output_type": "stream",
          "name": "stdout",
          "text": [
            "8/8 [==============================] - 1s 4ms/step\n"
          ]
        },
        {
          "output_type": "execute_result",
          "data": {
            "text/plain": [
              "(243, 12)"
            ]
          },
          "metadata": {},
          "execution_count": 120
        }
      ]
    },
    {
      "cell_type": "code",
      "metadata": {
        "id": "5G0a1Lh_VYNC",
        "colab": {
          "base_uri": "https://localhost:8080/"
        },
        "outputId": "52fd9a80-64b0-4b46-c4da-1fcea1282a62"
      },
      "source": [
        "# Compute the confusion matrix\n",
        "cm = confusion_matrix(np.argmax(y_test, axis=-1), np.argmax(predictions, axis=-1))\n",
        "\n",
        "# Compute the classification metrics\n",
        "accuracy = accuracy_score(np.argmax(y_test, axis=-1), np.argmax(predictions, axis=-1))\n",
        "precision = precision_score(np.argmax(y_test, axis=-1), np.argmax(predictions, axis=-1), average='macro')\n",
        "recall = recall_score(np.argmax(y_test, axis=-1), np.argmax(predictions, axis=-1), average='macro')\n",
        "f1 = f1_score(np.argmax(y_test, axis=-1), np.argmax(predictions, axis=-1), average='macro')\n",
        "print('Accuracy:',accuracy.round(4))\n",
        "print('Precision:',precision.round(4))\n",
        "print('Recall:',recall.round(4))\n",
        "print('F1:',f1.round(4))\n"
      ],
      "execution_count": null,
      "outputs": [
        {
          "output_type": "stream",
          "name": "stdout",
          "text": [
            "Accuracy: 0.5514\n",
            "Precision: 0.4956\n",
            "Recall: 0.4873\n",
            "F1: 0.427\n"
          ]
        },
        {
          "output_type": "stream",
          "name": "stderr",
          "text": [
            "/usr/local/lib/python3.8/dist-packages/sklearn/metrics/_classification.py:1318: UndefinedMetricWarning: Precision is ill-defined and being set to 0.0 in labels with no predicted samples. Use `zero_division` parameter to control this behavior.\n",
            "  _warn_prf(average, modifier, msg_start, len(result))\n"
          ]
        }
      ]
    },
    {
      "cell_type": "markdown",
      "metadata": {
        "id": "t5VrQa_OMu74"
      },
      "source": [
        "#### Bidirectional Long Short Term Memory (BiLSTM) Neural Network\n",
        "\n",
        "![](https://drive.google.com/uc?export=view&id=1CN-jJqzb5AurhnMMiuvdVCaPGy2KReLc\n",
        ")"
      ]
    },
    {
      "cell_type": "code",
      "metadata": {
        "id": "1I9QwEDaV6xF"
      },
      "source": [
        "def build_BiLSTM_classifier(input_shape, classes):\n",
        "    # Build the neural network layer by layer\n",
        "    input_layer = tfkl.Input(shape=input_shape, name='Input')\n",
        "\n",
        "    # Feature extractor\n",
        "    bilstm = tfkl.Bidirectional(tfkl.LSTM(128, return_sequences=True))(input_layer)\n",
        "    bilstm = tfkl.Bidirectional(tfkl.LSTM(128))(bilstm)\n",
        "    dropout = tfkl.Dropout(.5, seed=seed)(bilstm)\n",
        "\n",
        "    # Classifier\n",
        "    classifier = tfkl.Dense(128, activation='relu')(dropout)\n",
        "    output_layer = tfkl.Dense(classes, activation='softmax')(classifier)\n",
        "\n",
        "    # Connect input and output through the Model class\n",
        "    model = tfk.Model(inputs=input_layer, outputs=output_layer, name='model')\n",
        "\n",
        "    # Compile the model\n",
        "    model.compile(loss=tfk.losses.CategoricalCrossentropy(), optimizer=tfk.optimizers.Adam(), metrics='accuracy')\n",
        "\n",
        "    # Return the model\n",
        "    return model"
      ],
      "execution_count": null,
      "outputs": []
    },
    {
      "cell_type": "code",
      "metadata": {
        "id": "2HsaYcmTV6uX",
        "colab": {
          "base_uri": "https://localhost:8080/"
        },
        "outputId": "3f369641-44ac-433d-91eb-29b9f1267d2d"
      },
      "source": [
        "model = build_BiLSTM_classifier(input_shape, classes)\n",
        "model.summary()"
      ],
      "execution_count": null,
      "outputs": [
        {
          "output_type": "stream",
          "name": "stdout",
          "text": [
            "Model: \"model\"\n",
            "_________________________________________________________________\n",
            " Layer (type)                Output Shape              Param #   \n",
            "=================================================================\n",
            " Input (InputLayer)          [(None, 36, 6)]           0         \n",
            "                                                                 \n",
            " bidirectional (Bidirectiona  (None, 36, 256)          138240    \n",
            " l)                                                              \n",
            "                                                                 \n",
            " bidirectional_1 (Bidirectio  (None, 256)              394240    \n",
            " nal)                                                            \n",
            "                                                                 \n",
            " dropout_2 (Dropout)         (None, 256)               0         \n",
            "                                                                 \n",
            " dense_4 (Dense)             (None, 128)               32896     \n",
            "                                                                 \n",
            " dense_5 (Dense)             (None, 12)                1548      \n",
            "                                                                 \n",
            "=================================================================\n",
            "Total params: 566,924\n",
            "Trainable params: 566,924\n",
            "Non-trainable params: 0\n",
            "_________________________________________________________________\n"
          ]
        }
      ]
    },
    {
      "cell_type": "code",
      "metadata": {
        "id": "hoS_rLRJV6sZ",
        "colab": {
          "base_uri": "https://localhost:8080/"
        },
        "outputId": "689ca549-6869-41a9-f51c-5bc805e9f3f0"
      },
      "source": [
        "# Train the model\n",
        "history = model.fit(\n",
        "    x = X_train,\n",
        "    y = y_train,\n",
        "    batch_size = batch_size,\n",
        "    epochs = epochs,\n",
        "    validation_split=.1,\n",
        "    callbacks = [\n",
        "        tfk.callbacks.EarlyStopping(monitor='val_accuracy', mode='max', patience=10, restore_best_weights=True),\n",
        "        tfk.callbacks.ReduceLROnPlateau(monitor='val_accuracy', mode='max', patience=5, factor=0.5, min_lr=1e-5)\n",
        "    ]\n",
        ").history"
      ],
      "execution_count": null,
      "outputs": [
        {
          "output_type": "stream",
          "name": "stdout",
          "text": [
            "Epoch 1/200\n",
            "16/16 [==============================] - 7s 104ms/step - loss: 2.2760 - accuracy: 0.3132 - val_loss: 2.0331 - val_accuracy: 0.3562 - lr: 0.0010\n",
            "Epoch 2/200\n",
            "16/16 [==============================] - 0s 19ms/step - loss: 2.0078 - accuracy: 0.3427 - val_loss: 1.8717 - val_accuracy: 0.4018 - lr: 0.0010\n",
            "Epoch 3/200\n",
            "16/16 [==============================] - 0s 19ms/step - loss: 1.8688 - accuracy: 0.3889 - val_loss: 1.7386 - val_accuracy: 0.4155 - lr: 0.0010\n",
            "Epoch 4/200\n",
            "16/16 [==============================] - 0s 19ms/step - loss: 1.8154 - accuracy: 0.3950 - val_loss: 1.7526 - val_accuracy: 0.4201 - lr: 0.0010\n",
            "Epoch 5/200\n",
            "16/16 [==============================] - 0s 18ms/step - loss: 1.7672 - accuracy: 0.4042 - val_loss: 1.6241 - val_accuracy: 0.4475 - lr: 0.0010\n",
            "Epoch 6/200\n",
            "16/16 [==============================] - 0s 19ms/step - loss: 1.6466 - accuracy: 0.4357 - val_loss: 1.5058 - val_accuracy: 0.5205 - lr: 0.0010\n",
            "Epoch 7/200\n",
            "16/16 [==============================] - 0s 18ms/step - loss: 1.5889 - accuracy: 0.4469 - val_loss: 1.5565 - val_accuracy: 0.4612 - lr: 0.0010\n",
            "Epoch 8/200\n",
            "16/16 [==============================] - 0s 19ms/step - loss: 1.5684 - accuracy: 0.4509 - val_loss: 1.4698 - val_accuracy: 0.4749 - lr: 0.0010\n",
            "Epoch 9/200\n",
            "16/16 [==============================] - 0s 20ms/step - loss: 1.5176 - accuracy: 0.4748 - val_loss: 1.4316 - val_accuracy: 0.4886 - lr: 0.0010\n",
            "Epoch 10/200\n",
            "16/16 [==============================] - 0s 19ms/step - loss: 1.4894 - accuracy: 0.4896 - val_loss: 1.3704 - val_accuracy: 0.5023 - lr: 0.0010\n",
            "Epoch 11/200\n",
            "16/16 [==============================] - 0s 19ms/step - loss: 1.4339 - accuracy: 0.5048 - val_loss: 1.3747 - val_accuracy: 0.5342 - lr: 0.0010\n",
            "Epoch 12/200\n",
            "16/16 [==============================] - 0s 19ms/step - loss: 1.4253 - accuracy: 0.5099 - val_loss: 1.3730 - val_accuracy: 0.4840 - lr: 0.0010\n",
            "Epoch 13/200\n",
            "16/16 [==============================] - 0s 18ms/step - loss: 1.4017 - accuracy: 0.5145 - val_loss: 1.3480 - val_accuracy: 0.5160 - lr: 0.0010\n",
            "Epoch 14/200\n",
            "16/16 [==============================] - 0s 19ms/step - loss: 1.3721 - accuracy: 0.5140 - val_loss: 1.3418 - val_accuracy: 0.4977 - lr: 0.0010\n",
            "Epoch 15/200\n",
            "16/16 [==============================] - 0s 19ms/step - loss: 1.3799 - accuracy: 0.5099 - val_loss: 1.3552 - val_accuracy: 0.4749 - lr: 0.0010\n",
            "Epoch 16/200\n",
            "16/16 [==============================] - 1s 43ms/step - loss: 1.3622 - accuracy: 0.5282 - val_loss: 1.2823 - val_accuracy: 0.5114 - lr: 0.0010\n",
            "Epoch 17/200\n",
            "16/16 [==============================] - 1s 46ms/step - loss: 1.3065 - accuracy: 0.5394 - val_loss: 1.2765 - val_accuracy: 0.5662 - lr: 5.0000e-04\n",
            "Epoch 18/200\n",
            "16/16 [==============================] - 0s 26ms/step - loss: 1.2642 - accuracy: 0.5511 - val_loss: 1.2277 - val_accuracy: 0.5571 - lr: 5.0000e-04\n",
            "Epoch 19/200\n",
            "16/16 [==============================] - 0s 19ms/step - loss: 1.2531 - accuracy: 0.5541 - val_loss: 1.2208 - val_accuracy: 0.5936 - lr: 5.0000e-04\n",
            "Epoch 20/200\n",
            "16/16 [==============================] - 0s 20ms/step - loss: 1.2505 - accuracy: 0.5602 - val_loss: 1.2436 - val_accuracy: 0.5845 - lr: 5.0000e-04\n",
            "Epoch 21/200\n",
            "16/16 [==============================] - 0s 19ms/step - loss: 1.2359 - accuracy: 0.5547 - val_loss: 1.2209 - val_accuracy: 0.5890 - lr: 5.0000e-04\n",
            "Epoch 22/200\n",
            "16/16 [==============================] - 0s 18ms/step - loss: 1.2101 - accuracy: 0.5826 - val_loss: 1.2316 - val_accuracy: 0.5708 - lr: 5.0000e-04\n",
            "Epoch 23/200\n",
            "16/16 [==============================] - 0s 18ms/step - loss: 1.2243 - accuracy: 0.5694 - val_loss: 1.2407 - val_accuracy: 0.5662 - lr: 5.0000e-04\n",
            "Epoch 24/200\n",
            "16/16 [==============================] - 0s 18ms/step - loss: 1.2128 - accuracy: 0.5709 - val_loss: 1.2184 - val_accuracy: 0.6073 - lr: 5.0000e-04\n",
            "Epoch 25/200\n",
            "16/16 [==============================] - 0s 18ms/step - loss: 1.1924 - accuracy: 0.5841 - val_loss: 1.2999 - val_accuracy: 0.5479 - lr: 5.0000e-04\n",
            "Epoch 26/200\n",
            "16/16 [==============================] - 0s 20ms/step - loss: 1.2027 - accuracy: 0.5765 - val_loss: 1.2868 - val_accuracy: 0.5799 - lr: 5.0000e-04\n",
            "Epoch 27/200\n",
            "16/16 [==============================] - 0s 18ms/step - loss: 1.2163 - accuracy: 0.5882 - val_loss: 1.2171 - val_accuracy: 0.5434 - lr: 5.0000e-04\n",
            "Epoch 28/200\n",
            "16/16 [==============================] - 0s 19ms/step - loss: 1.1943 - accuracy: 0.5724 - val_loss: 1.2418 - val_accuracy: 0.5571 - lr: 5.0000e-04\n",
            "Epoch 29/200\n",
            "16/16 [==============================] - 0s 19ms/step - loss: 1.1729 - accuracy: 0.5780 - val_loss: 1.1975 - val_accuracy: 0.5799 - lr: 5.0000e-04\n",
            "Epoch 30/200\n",
            "16/16 [==============================] - 0s 18ms/step - loss: 1.1326 - accuracy: 0.6055 - val_loss: 1.1984 - val_accuracy: 0.6164 - lr: 2.5000e-04\n",
            "Epoch 31/200\n",
            "16/16 [==============================] - 0s 23ms/step - loss: 1.1086 - accuracy: 0.5994 - val_loss: 1.1811 - val_accuracy: 0.6027 - lr: 2.5000e-04\n",
            "Epoch 32/200\n",
            "16/16 [==============================] - 0s 18ms/step - loss: 1.0989 - accuracy: 0.6146 - val_loss: 1.2011 - val_accuracy: 0.5799 - lr: 2.5000e-04\n",
            "Epoch 33/200\n",
            "16/16 [==============================] - 0s 20ms/step - loss: 1.1014 - accuracy: 0.6085 - val_loss: 1.1794 - val_accuracy: 0.6256 - lr: 2.5000e-04\n",
            "Epoch 34/200\n",
            "16/16 [==============================] - 0s 19ms/step - loss: 1.1084 - accuracy: 0.6085 - val_loss: 1.2225 - val_accuracy: 0.5753 - lr: 2.5000e-04\n",
            "Epoch 35/200\n",
            "16/16 [==============================] - 0s 19ms/step - loss: 1.0893 - accuracy: 0.6151 - val_loss: 1.1913 - val_accuracy: 0.6119 - lr: 2.5000e-04\n",
            "Epoch 36/200\n",
            "16/16 [==============================] - 0s 27ms/step - loss: 1.0835 - accuracy: 0.6131 - val_loss: 1.1808 - val_accuracy: 0.5753 - lr: 2.5000e-04\n",
            "Epoch 37/200\n",
            "16/16 [==============================] - 0s 27ms/step - loss: 1.0840 - accuracy: 0.6162 - val_loss: 1.1665 - val_accuracy: 0.6210 - lr: 2.5000e-04\n",
            "Epoch 38/200\n",
            "16/16 [==============================] - 0s 28ms/step - loss: 1.0798 - accuracy: 0.6177 - val_loss: 1.1810 - val_accuracy: 0.5982 - lr: 2.5000e-04\n",
            "Epoch 39/200\n",
            "16/16 [==============================] - 0s 27ms/step - loss: 1.0598 - accuracy: 0.6289 - val_loss: 1.1653 - val_accuracy: 0.5890 - lr: 1.2500e-04\n",
            "Epoch 40/200\n",
            "16/16 [==============================] - 0s 26ms/step - loss: 1.0419 - accuracy: 0.6355 - val_loss: 1.1707 - val_accuracy: 0.6119 - lr: 1.2500e-04\n",
            "Epoch 41/200\n",
            "16/16 [==============================] - 0s 27ms/step - loss: 1.0379 - accuracy: 0.6385 - val_loss: 1.1838 - val_accuracy: 0.5799 - lr: 1.2500e-04\n",
            "Epoch 42/200\n",
            "16/16 [==============================] - 0s 26ms/step - loss: 1.0383 - accuracy: 0.6294 - val_loss: 1.1984 - val_accuracy: 0.5845 - lr: 1.2500e-04\n",
            "Epoch 43/200\n",
            "16/16 [==============================] - 0s 27ms/step - loss: 1.0563 - accuracy: 0.6263 - val_loss: 1.1803 - val_accuracy: 0.5890 - lr: 1.2500e-04\n"
          ]
        }
      ]
    },
    {
      "cell_type": "code",
      "metadata": {
        "id": "d408cNUKV6pi"
      },
      "source": [
        "best_epoch = np.argmax(history['val_accuracy'])\n",
        "plt.figure(figsize=(17,4))\n",
        "plt.plot(history['loss'], label='Training loss', alpha=.8, color='#ff7f0e')\n",
        "plt.plot(history['val_loss'], label='Validation loss', alpha=.9, color='#5a9aa5')\n",
        "plt.axvline(x=best_epoch, label='Best epoch', alpha=.3, ls='--', color='#5a9aa5')\n",
        "plt.title('Categorical Crossentropy')\n",
        "plt.legend()\n",
        "plt.grid(alpha=.3)\n",
        "plt.show()\n",
        "\n",
        "plt.figure(figsize=(17,4))\n",
        "plt.plot(history['accuracy'], label='Training accuracy', alpha=.8, color='#ff7f0e')\n",
        "plt.plot(history['val_accuracy'], label='Validation accuracy', alpha=.9, color='#5a9aa5')\n",
        "plt.axvline(x=best_epoch, label='Best epoch', alpha=.3, ls='--', color='#5a9aa5')\n",
        "plt.title('Accuracy')\n",
        "plt.legend()\n",
        "plt.grid(alpha=.3)\n",
        "plt.show()\n",
        "\n",
        "plt.figure(figsize=(18,3))\n",
        "plt.plot(history['lr'], label='Learning Rate', alpha=.8, color='#ff7f0e')\n",
        "plt.axvline(x=best_epoch, label='Best epoch', alpha=.3, ls='--', color='#5a9aa5')\n",
        "plt.legend()\n",
        "plt.grid(alpha=.3)\n",
        "plt.show()"
      ],
      "execution_count": null,
      "outputs": []
    },
    {
      "cell_type": "code",
      "metadata": {
        "id": "6fXFsgwMV6mv",
        "colab": {
          "base_uri": "https://localhost:8080/"
        },
        "outputId": "a8168755-ea9b-437c-c11c-eb6dee8dc697"
      },
      "source": [
        "model.save('BiLSTM')\n",
        "# model = tfk.models.load_model('BiLSTM')"
      ],
      "execution_count": null,
      "outputs": [
        {
          "output_type": "stream",
          "name": "stderr",
          "text": [
            "WARNING:absl:Function `_wrapped_model` contains input name(s) Input with unsupported characters which will be renamed to input in the SavedModel.\n",
            "WARNING:absl:Found untraced functions such as _jit_compiled_convolution_op, _jit_compiled_convolution_op while saving (showing 2 of 2). These functions will not be directly callable after loading.\n"
          ]
        }
      ]
    },
    {
      "cell_type": "code",
      "metadata": {
        "id": "1e89RnuPfLVs",
        "colab": {
          "base_uri": "https://localhost:8080/"
        },
        "outputId": "50ec1caa-4883-47b1-8a78-7af2f7f32373"
      },
      "source": [
        "# Predict the test set with the BiLSTM\n",
        "predictions = model.predict(X_test)\n",
        "predictions.shape"
      ],
      "execution_count": null,
      "outputs": [
        {
          "output_type": "stream",
          "name": "stdout",
          "text": [
            "8/8 [==============================] - 1s 6ms/step\n"
          ]
        },
        {
          "output_type": "execute_result",
          "data": {
            "text/plain": [
              "(243, 12)"
            ]
          },
          "metadata": {},
          "execution_count": 126
        }
      ]
    },
    {
      "cell_type": "code",
      "metadata": {
        "id": "tGdH9IVQfOd8",
        "colab": {
          "base_uri": "https://localhost:8080/"
        },
        "outputId": "31b8930d-e597-4cbd-c38e-c7e3b0683949"
      },
      "source": [
        "\n",
        "# Compute the classification metrics\n",
        "accuracy = accuracy_score(np.argmax(y_test, axis=-1), np.argmax(predictions, axis=-1))\n",
        "precision = precision_score(np.argmax(y_test, axis=-1), np.argmax(predictions, axis=-1), average='macro')\n",
        "recall = recall_score(np.argmax(y_test, axis=-1), np.argmax(predictions, axis=-1), average='macro')\n",
        "f1 = f1_score(np.argmax(y_test, axis=-1), np.argmax(predictions, axis=-1), average='macro')\n",
        "print('Accuracy:',accuracy.round(4))\n",
        "print('Precision:',precision.round(4))\n",
        "print('Recall:',recall.round(4))\n",
        "print('F1:',f1.round(4))\n",
        "\n"
      ],
      "execution_count": null,
      "outputs": [
        {
          "output_type": "stream",
          "name": "stdout",
          "text": [
            "Accuracy: 0.5844\n",
            "Precision: 0.5089\n",
            "Recall: 0.5054\n",
            "F1: 0.4586\n"
          ]
        },
        {
          "output_type": "stream",
          "name": "stderr",
          "text": [
            "/usr/local/lib/python3.8/dist-packages/sklearn/metrics/_classification.py:1318: UndefinedMetricWarning: Precision is ill-defined and being set to 0.0 in labels with no predicted samples. Use `zero_division` parameter to control this behavior.\n",
            "  _warn_prf(average, modifier, msg_start, len(result))\n"
          ]
        }
      ]
    },
    {
      "cell_type": "markdown",
      "metadata": {
        "id": "FqTU7SDgjWgV"
      },
      "source": [
        "#### 1D Convolutional Neural Network\n",
        "\n",
        "![](https://drive.google.com/uc?export=view&id=10B7c-F58-eNr6CP7D_UZeVp0gTeYMrFQ\n",
        ")"
      ]
    },
    {
      "cell_type": "code",
      "metadata": {
        "id": "7nxJrPoojt3z"
      },
      "source": [
        "def build_1DCNN_classifier(input_shape, classes):\n",
        "    # Build the neural network layer by layer\n",
        "    input_layer = tfkl.Input(shape=input_shape, name='Input')\n",
        "\n",
        "    # Feature extractor\n",
        "    cnn = tfkl.Conv1D(128,3,padding='same',activation='relu')(input_layer)\n",
        "    cnn = tfkl.MaxPooling1D()(cnn)\n",
        "    cnn = tfkl.Conv1D(128,3,padding='same',activation='relu')(cnn)\n",
        "    gap = tfkl.GlobalAveragePooling1D()(cnn)\n",
        "    dropout = tfkl.Dropout(.5, seed=seed)(gap)\n",
        "\n",
        "    # Classifier\n",
        "    classifier = tfkl.Dense(128, activation='relu')(dropout)\n",
        "    output_layer = tfkl.Dense(classes, activation='softmax')(classifier)\n",
        "\n",
        "    # Connect input and output through the Model class\n",
        "    model = tfk.Model(inputs=input_layer, outputs=output_layer, name='model')\n",
        "\n",
        "    # Compile the model\n",
        "    model.compile(loss=tfk.losses.CategoricalCrossentropy(), optimizer=tfk.optimizers.Adam(), metrics='accuracy')\n",
        "\n",
        "    # Return the model\n",
        "    return model"
      ],
      "execution_count": null,
      "outputs": []
    },
    {
      "cell_type": "code",
      "metadata": {
        "id": "d1zEtb3Hjt1O",
        "colab": {
          "base_uri": "https://localhost:8080/"
        },
        "outputId": "0d817cb2-60ce-49b8-c236-78f86ec3e6b0"
      },
      "source": [
        "model = build_1DCNN_classifier(input_shape, classes)\n",
        "model.summary()"
      ],
      "execution_count": null,
      "outputs": [
        {
          "output_type": "stream",
          "name": "stdout",
          "text": [
            "Model: \"model\"\n",
            "_________________________________________________________________\n",
            " Layer (type)                Output Shape              Param #   \n",
            "=================================================================\n",
            " Input (InputLayer)          [(None, 36, 6)]           0         \n",
            "                                                                 \n",
            " conv1d (Conv1D)             (None, 36, 128)           2432      \n",
            "                                                                 \n",
            " max_pooling1d (MaxPooling1D  (None, 18, 128)          0         \n",
            " )                                                               \n",
            "                                                                 \n",
            " conv1d_1 (Conv1D)           (None, 18, 128)           49280     \n",
            "                                                                 \n",
            " global_average_pooling1d (G  (None, 128)              0         \n",
            " lobalAveragePooling1D)                                          \n",
            "                                                                 \n",
            " dropout_3 (Dropout)         (None, 128)               0         \n",
            "                                                                 \n",
            " dense_6 (Dense)             (None, 128)               16512     \n",
            "                                                                 \n",
            " dense_7 (Dense)             (None, 12)                1548      \n",
            "                                                                 \n",
            "=================================================================\n",
            "Total params: 69,772\n",
            "Trainable params: 69,772\n",
            "Non-trainable params: 0\n",
            "_________________________________________________________________\n"
          ]
        }
      ]
    },
    {
      "cell_type": "code",
      "metadata": {
        "id": "LQOYU2X0jty5",
        "colab": {
          "base_uri": "https://localhost:8080/"
        },
        "outputId": "48875eec-9197-4ac8-fb52-d936b2ac9714"
      },
      "source": [
        "# Train the model\n",
        "history = model.fit(\n",
        "    x = X_train,\n",
        "    y = y_train,\n",
        "    batch_size = batch_size,\n",
        "    epochs = epochs,\n",
        "    validation_split=.1,\n",
        "    callbacks = [\n",
        "        tfk.callbacks.EarlyStopping(monitor='val_accuracy', mode='max', patience=10, restore_best_weights=True),\n",
        "        tfk.callbacks.ReduceLROnPlateau(monitor='val_accuracy', mode='max', patience=5, factor=0.5, min_lr=1e-5)\n",
        "    ]\n",
        ").history"
      ],
      "execution_count": null,
      "outputs": [
        {
          "output_type": "stream",
          "name": "stdout",
          "text": [
            "Epoch 1/200\n",
            "16/16 [==============================] - 6s 42ms/step - loss: 2.4032 - accuracy: 0.2964 - val_loss: 2.2241 - val_accuracy: 0.3836 - lr: 0.0010\n",
            "Epoch 2/200\n",
            "16/16 [==============================] - 0s 11ms/step - loss: 2.2156 - accuracy: 0.3432 - val_loss: 1.9830 - val_accuracy: 0.3927 - lr: 0.0010\n",
            "Epoch 3/200\n",
            "16/16 [==============================] - 0s 12ms/step - loss: 2.0580 - accuracy: 0.3472 - val_loss: 1.8745 - val_accuracy: 0.3881 - lr: 0.0010\n",
            "Epoch 4/200\n",
            "16/16 [==============================] - 0s 12ms/step - loss: 1.9560 - accuracy: 0.3686 - val_loss: 1.8230 - val_accuracy: 0.3927 - lr: 0.0010\n",
            "Epoch 5/200\n",
            "16/16 [==============================] - 0s 12ms/step - loss: 1.9030 - accuracy: 0.3762 - val_loss: 1.7758 - val_accuracy: 0.4110 - lr: 0.0010\n",
            "Epoch 6/200\n",
            "16/16 [==============================] - 0s 14ms/step - loss: 1.8650 - accuracy: 0.3803 - val_loss: 1.7449 - val_accuracy: 0.4292 - lr: 0.0010\n",
            "Epoch 7/200\n",
            "16/16 [==============================] - 0s 13ms/step - loss: 1.8540 - accuracy: 0.3808 - val_loss: 1.7290 - val_accuracy: 0.4292 - lr: 0.0010\n",
            "Epoch 8/200\n",
            "16/16 [==============================] - 0s 10ms/step - loss: 1.8294 - accuracy: 0.3843 - val_loss: 1.7178 - val_accuracy: 0.4292 - lr: 0.0010\n",
            "Epoch 9/200\n",
            "16/16 [==============================] - 0s 7ms/step - loss: 1.7850 - accuracy: 0.3965 - val_loss: 1.6764 - val_accuracy: 0.4475 - lr: 0.0010\n",
            "Epoch 10/200\n",
            "16/16 [==============================] - 0s 6ms/step - loss: 1.7725 - accuracy: 0.4103 - val_loss: 1.6570 - val_accuracy: 0.4566 - lr: 0.0010\n",
            "Epoch 11/200\n",
            "16/16 [==============================] - 0s 6ms/step - loss: 1.7433 - accuracy: 0.4118 - val_loss: 1.6494 - val_accuracy: 0.4566 - lr: 0.0010\n",
            "Epoch 12/200\n",
            "16/16 [==============================] - 0s 6ms/step - loss: 1.7191 - accuracy: 0.4235 - val_loss: 1.6680 - val_accuracy: 0.4566 - lr: 0.0010\n",
            "Epoch 13/200\n",
            "16/16 [==============================] - 0s 6ms/step - loss: 1.7092 - accuracy: 0.4270 - val_loss: 1.6026 - val_accuracy: 0.4429 - lr: 0.0010\n",
            "Epoch 14/200\n",
            "16/16 [==============================] - 0s 6ms/step - loss: 1.6965 - accuracy: 0.4225 - val_loss: 1.5828 - val_accuracy: 0.4521 - lr: 0.0010\n",
            "Epoch 15/200\n",
            "16/16 [==============================] - 0s 6ms/step - loss: 1.6725 - accuracy: 0.4331 - val_loss: 1.5871 - val_accuracy: 0.4475 - lr: 0.0010\n",
            "Epoch 16/200\n",
            "16/16 [==============================] - 0s 6ms/step - loss: 1.6591 - accuracy: 0.4362 - val_loss: 1.5562 - val_accuracy: 0.4566 - lr: 5.0000e-04\n",
            "Epoch 17/200\n",
            "16/16 [==============================] - 0s 6ms/step - loss: 1.6256 - accuracy: 0.4403 - val_loss: 1.5659 - val_accuracy: 0.4795 - lr: 5.0000e-04\n",
            "Epoch 18/200\n",
            "16/16 [==============================] - 0s 7ms/step - loss: 1.6196 - accuracy: 0.4438 - val_loss: 1.5344 - val_accuracy: 0.4658 - lr: 5.0000e-04\n",
            "Epoch 19/200\n",
            "16/16 [==============================] - 0s 6ms/step - loss: 1.6263 - accuracy: 0.4509 - val_loss: 1.5260 - val_accuracy: 0.4566 - lr: 5.0000e-04\n",
            "Epoch 20/200\n",
            "16/16 [==============================] - 0s 6ms/step - loss: 1.6211 - accuracy: 0.4509 - val_loss: 1.5376 - val_accuracy: 0.4840 - lr: 5.0000e-04\n",
            "Epoch 21/200\n",
            "16/16 [==============================] - 0s 6ms/step - loss: 1.5856 - accuracy: 0.4581 - val_loss: 1.5266 - val_accuracy: 0.4932 - lr: 5.0000e-04\n",
            "Epoch 22/200\n",
            "16/16 [==============================] - 0s 6ms/step - loss: 1.5911 - accuracy: 0.4550 - val_loss: 1.5024 - val_accuracy: 0.4840 - lr: 5.0000e-04\n",
            "Epoch 23/200\n",
            "16/16 [==============================] - 0s 6ms/step - loss: 1.5787 - accuracy: 0.4565 - val_loss: 1.4886 - val_accuracy: 0.4977 - lr: 5.0000e-04\n",
            "Epoch 24/200\n",
            "16/16 [==============================] - 0s 7ms/step - loss: 1.5875 - accuracy: 0.4631 - val_loss: 1.4939 - val_accuracy: 0.4886 - lr: 5.0000e-04\n",
            "Epoch 25/200\n",
            "16/16 [==============================] - 0s 6ms/step - loss: 1.5732 - accuracy: 0.4662 - val_loss: 1.4893 - val_accuracy: 0.4840 - lr: 5.0000e-04\n",
            "Epoch 26/200\n",
            "16/16 [==============================] - 0s 7ms/step - loss: 1.5644 - accuracy: 0.4672 - val_loss: 1.4771 - val_accuracy: 0.5023 - lr: 5.0000e-04\n",
            "Epoch 27/200\n",
            "16/16 [==============================] - 0s 7ms/step - loss: 1.5405 - accuracy: 0.4687 - val_loss: 1.4566 - val_accuracy: 0.5023 - lr: 5.0000e-04\n",
            "Epoch 28/200\n",
            "16/16 [==============================] - 0s 6ms/step - loss: 1.5371 - accuracy: 0.4708 - val_loss: 1.4467 - val_accuracy: 0.5114 - lr: 5.0000e-04\n",
            "Epoch 29/200\n",
            "16/16 [==============================] - 0s 6ms/step - loss: 1.5301 - accuracy: 0.4789 - val_loss: 1.4328 - val_accuracy: 0.5160 - lr: 5.0000e-04\n",
            "Epoch 30/200\n",
            "16/16 [==============================] - 0s 7ms/step - loss: 1.5185 - accuracy: 0.4764 - val_loss: 1.4270 - val_accuracy: 0.5023 - lr: 5.0000e-04\n",
            "Epoch 31/200\n",
            "16/16 [==============================] - 0s 6ms/step - loss: 1.5265 - accuracy: 0.4728 - val_loss: 1.4413 - val_accuracy: 0.5068 - lr: 5.0000e-04\n",
            "Epoch 32/200\n",
            "16/16 [==============================] - 0s 6ms/step - loss: 1.5097 - accuracy: 0.4759 - val_loss: 1.4391 - val_accuracy: 0.5068 - lr: 5.0000e-04\n",
            "Epoch 33/200\n",
            "16/16 [==============================] - 0s 7ms/step - loss: 1.5018 - accuracy: 0.4743 - val_loss: 1.4223 - val_accuracy: 0.5205 - lr: 5.0000e-04\n",
            "Epoch 34/200\n",
            "16/16 [==============================] - 0s 6ms/step - loss: 1.4976 - accuracy: 0.4809 - val_loss: 1.4179 - val_accuracy: 0.5160 - lr: 5.0000e-04\n",
            "Epoch 35/200\n",
            "16/16 [==============================] - 0s 6ms/step - loss: 1.4906 - accuracy: 0.4794 - val_loss: 1.4097 - val_accuracy: 0.5342 - lr: 5.0000e-04\n",
            "Epoch 36/200\n",
            "16/16 [==============================] - 0s 6ms/step - loss: 1.4876 - accuracy: 0.4881 - val_loss: 1.3994 - val_accuracy: 0.5068 - lr: 5.0000e-04\n",
            "Epoch 37/200\n",
            "16/16 [==============================] - 0s 6ms/step - loss: 1.4799 - accuracy: 0.4921 - val_loss: 1.3963 - val_accuracy: 0.5251 - lr: 5.0000e-04\n",
            "Epoch 38/200\n",
            "16/16 [==============================] - 0s 7ms/step - loss: 1.4778 - accuracy: 0.4911 - val_loss: 1.3770 - val_accuracy: 0.5205 - lr: 5.0000e-04\n",
            "Epoch 39/200\n",
            "16/16 [==============================] - 0s 7ms/step - loss: 1.4831 - accuracy: 0.4891 - val_loss: 1.3835 - val_accuracy: 0.5342 - lr: 5.0000e-04\n",
            "Epoch 40/200\n",
            "16/16 [==============================] - 0s 6ms/step - loss: 1.4809 - accuracy: 0.4977 - val_loss: 1.3779 - val_accuracy: 0.5342 - lr: 5.0000e-04\n",
            "Epoch 41/200\n",
            "16/16 [==============================] - 0s 6ms/step - loss: 1.4517 - accuracy: 0.5033 - val_loss: 1.3731 - val_accuracy: 0.5342 - lr: 2.5000e-04\n",
            "Epoch 42/200\n",
            "16/16 [==============================] - 0s 6ms/step - loss: 1.4556 - accuracy: 0.4845 - val_loss: 1.3674 - val_accuracy: 0.5388 - lr: 2.5000e-04\n",
            "Epoch 43/200\n",
            "16/16 [==============================] - 0s 7ms/step - loss: 1.4580 - accuracy: 0.4891 - val_loss: 1.3764 - val_accuracy: 0.5479 - lr: 2.5000e-04\n",
            "Epoch 44/200\n",
            "16/16 [==============================] - 0s 6ms/step - loss: 1.4506 - accuracy: 0.5008 - val_loss: 1.3817 - val_accuracy: 0.5297 - lr: 2.5000e-04\n",
            "Epoch 45/200\n",
            "16/16 [==============================] - 0s 6ms/step - loss: 1.4493 - accuracy: 0.5013 - val_loss: 1.3542 - val_accuracy: 0.5525 - lr: 2.5000e-04\n",
            "Epoch 46/200\n",
            "16/16 [==============================] - 0s 7ms/step - loss: 1.4335 - accuracy: 0.5099 - val_loss: 1.3509 - val_accuracy: 0.5479 - lr: 2.5000e-04\n",
            "Epoch 47/200\n",
            "16/16 [==============================] - 0s 6ms/step - loss: 1.4320 - accuracy: 0.5018 - val_loss: 1.3404 - val_accuracy: 0.5525 - lr: 2.5000e-04\n",
            "Epoch 48/200\n",
            "16/16 [==============================] - 0s 6ms/step - loss: 1.4364 - accuracy: 0.4982 - val_loss: 1.3492 - val_accuracy: 0.5434 - lr: 2.5000e-04\n",
            "Epoch 49/200\n",
            "16/16 [==============================] - 0s 6ms/step - loss: 1.4459 - accuracy: 0.4921 - val_loss: 1.3463 - val_accuracy: 0.5434 - lr: 2.5000e-04\n",
            "Epoch 50/200\n",
            "16/16 [==============================] - 0s 7ms/step - loss: 1.4239 - accuracy: 0.4942 - val_loss: 1.3485 - val_accuracy: 0.5616 - lr: 2.5000e-04\n",
            "Epoch 51/200\n",
            "16/16 [==============================] - 0s 6ms/step - loss: 1.4217 - accuracy: 0.5038 - val_loss: 1.3396 - val_accuracy: 0.5479 - lr: 2.5000e-04\n",
            "Epoch 52/200\n",
            "16/16 [==============================] - 0s 7ms/step - loss: 1.4216 - accuracy: 0.5048 - val_loss: 1.3239 - val_accuracy: 0.5616 - lr: 2.5000e-04\n",
            "Epoch 53/200\n",
            "16/16 [==============================] - 0s 6ms/step - loss: 1.4256 - accuracy: 0.4977 - val_loss: 1.3363 - val_accuracy: 0.5479 - lr: 2.5000e-04\n",
            "Epoch 54/200\n",
            "16/16 [==============================] - 0s 7ms/step - loss: 1.4146 - accuracy: 0.5099 - val_loss: 1.3343 - val_accuracy: 0.5479 - lr: 2.5000e-04\n",
            "Epoch 55/200\n",
            "16/16 [==============================] - 0s 6ms/step - loss: 1.4186 - accuracy: 0.5043 - val_loss: 1.3325 - val_accuracy: 0.5616 - lr: 2.5000e-04\n",
            "Epoch 56/200\n",
            "16/16 [==============================] - 0s 6ms/step - loss: 1.4187 - accuracy: 0.5160 - val_loss: 1.3306 - val_accuracy: 0.5434 - lr: 1.2500e-04\n",
            "Epoch 57/200\n",
            "16/16 [==============================] - 0s 6ms/step - loss: 1.4255 - accuracy: 0.5094 - val_loss: 1.3201 - val_accuracy: 0.5525 - lr: 1.2500e-04\n",
            "Epoch 58/200\n",
            "16/16 [==============================] - 0s 6ms/step - loss: 1.4097 - accuracy: 0.5114 - val_loss: 1.3183 - val_accuracy: 0.5479 - lr: 1.2500e-04\n",
            "Epoch 59/200\n",
            "16/16 [==============================] - 0s 6ms/step - loss: 1.4117 - accuracy: 0.5084 - val_loss: 1.3166 - val_accuracy: 0.5434 - lr: 1.2500e-04\n",
            "Epoch 60/200\n",
            "16/16 [==============================] - 0s 6ms/step - loss: 1.4069 - accuracy: 0.5155 - val_loss: 1.3158 - val_accuracy: 0.5525 - lr: 1.2500e-04\n"
          ]
        }
      ]
    },
    {
      "cell_type": "code",
      "metadata": {
        "id": "rzrqDHgijtwW"
      },
      "source": [
        "best_epoch = np.argmax(history['val_accuracy'])\n",
        "plt.figure(figsize=(17,4))\n",
        "plt.plot(history['loss'], label='Training loss', alpha=.8, color='#ff7f0e')\n",
        "plt.plot(history['val_loss'], label='Validation loss', alpha=.9, color='#5a9aa5')\n",
        "plt.axvline(x=best_epoch, label='Best epoch', alpha=.3, ls='--', color='#5a9aa5')\n",
        "plt.title('Categorical Crossentropy')\n",
        "plt.legend()\n",
        "plt.grid(alpha=.3)\n",
        "plt.show()\n",
        "\n",
        "plt.figure(figsize=(17,4))\n",
        "plt.plot(history['accuracy'], label='Training accuracy', alpha=.8, color='#ff7f0e')\n",
        "plt.plot(history['val_accuracy'], label='Validation accuracy', alpha=.9, color='#5a9aa5')\n",
        "plt.axvline(x=best_epoch, label='Best epoch', alpha=.3, ls='--', color='#5a9aa5')\n",
        "plt.title('Accuracy')\n",
        "plt.legend()\n",
        "plt.grid(alpha=.3)\n",
        "plt.show()\n",
        "\n",
        "plt.figure(figsize=(18,3))\n",
        "plt.plot(history['lr'], label='Learning Rate', alpha=.8, color='#ff7f0e')\n",
        "plt.axvline(x=best_epoch, label='Best epoch', alpha=.3, ls='--', color='#5a9aa5')\n",
        "plt.legend()\n",
        "plt.grid(alpha=.3)\n",
        "plt.show()"
      ],
      "execution_count": null,
      "outputs": []
    },
    {
      "cell_type": "code",
      "metadata": {
        "id": "ZmNPtx9VjtuC"
      },
      "source": [
        "model.save('1DCNN')\n",
        "# model = tfk.models.load_model('1DCNN')"
      ],
      "execution_count": null,
      "outputs": []
    },
    {
      "cell_type": "code",
      "metadata": {
        "id": "fvKkbmnujtrS",
        "colab": {
          "base_uri": "https://localhost:8080/"
        },
        "outputId": "754f33e4-432d-4372-f31b-cef8da937e36"
      },
      "source": [
        "# Predict the test set with the 1DCNN\n",
        "predictions = model.predict(X_test)\n",
        "predictions.shape"
      ],
      "execution_count": null,
      "outputs": [
        {
          "output_type": "stream",
          "name": "stdout",
          "text": [
            "8/8 [==============================] - 0s 6ms/step\n"
          ]
        },
        {
          "output_type": "execute_result",
          "data": {
            "text/plain": [
              "(243, 12)"
            ]
          },
          "metadata": {},
          "execution_count": 133
        }
      ]
    },
    {
      "cell_type": "code",
      "metadata": {
        "id": "KRdpbCqCjtpR",
        "colab": {
          "base_uri": "https://localhost:8080/"
        },
        "outputId": "a0f9b53c-ca3b-4fb3-dd0e-402526c8c7f8"
      },
      "source": [
        "\n",
        "# Compute the classification metrics\n",
        "accuracy = accuracy_score(np.argmax(y_test, axis=-1), np.argmax(predictions, axis=-1))\n",
        "precision = precision_score(np.argmax(y_test, axis=-1), np.argmax(predictions, axis=-1), average='macro')\n",
        "recall = recall_score(np.argmax(y_test, axis=-1), np.argmax(predictions, axis=-1), average='macro')\n",
        "f1 = f1_score(np.argmax(y_test, axis=-1), np.argmax(predictions, axis=-1), average='macro')\n",
        "print('Accuracy:',accuracy.round(4))\n",
        "print('Precision:',precision.round(4))\n",
        "print('Recall:',recall.round(4))\n",
        "print('F1:',f1.round(4))\n"
      ],
      "execution_count": null,
      "outputs": [
        {
          "output_type": "stream",
          "name": "stdout",
          "text": [
            "Accuracy: 0.5473\n",
            "Precision: 0.5064\n",
            "Recall: 0.4597\n",
            "F1: 0.4325\n"
          ]
        },
        {
          "output_type": "stream",
          "name": "stderr",
          "text": [
            "/usr/local/lib/python3.8/dist-packages/sklearn/metrics/_classification.py:1318: UndefinedMetricWarning: Precision is ill-defined and being set to 0.0 in labels with no predicted samples. Use `zero_division` parameter to control this behavior.\n",
            "  _warn_prf(average, modifier, msg_start, len(result))\n"
          ]
        }
      ]
    },
    {
      "cell_type": "markdown",
      "metadata": {
        "id": "et_9CJzIBsRt"
      },
      "source": [
        "Damn, once again no free lunch"
      ]
    }
  ]
}