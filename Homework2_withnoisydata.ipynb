{
  "nbformat": 4,
  "nbformat_minor": 0,
  "metadata": {
    "colab": {
      "provenance": [],
      "collapsed_sections": [
        "t5VrQa_OMu74",
        "FqTU7SDgjWgV"
      ]
    },
    "kernelspec": {
      "name": "python3",
      "display_name": "Python 3"
    },
    "language_info": {
      "name": "python"
    },
    "accelerator": "GPU",
    "gpuClass": "standard"
  },
  "cells": [
    {
      "cell_type": "markdown",
      "metadata": {
        "id": "1FdqcMXk96rS"
      },
      "source": [
        "### Connect to Drive"
      ]
    },
    {
      "cell_type": "code",
      "metadata": {
        "id": "PxUZy3U-fjcm",
        "colab": {
          "base_uri": "https://localhost:8080/"
        },
        "outputId": "c414638e-b1b5-4be1-9f0a-274fd685eada"
      },
      "source": [
        "from google.colab import drive\n",
        "drive.mount('/gdrive')"
      ],
      "execution_count": null,
      "outputs": [
        {
          "output_type": "stream",
          "name": "stdout",
          "text": [
            "Drive already mounted at /gdrive; to attempt to forcibly remount, call drive.mount(\"/gdrive\", force_remount=True).\n"
          ]
        }
      ]
    },
    {
      "cell_type": "code",
      "metadata": {
        "id": "C_cUOiS9flQ8",
        "outputId": "4357a8ba-1184-40e8-ca5e-d5c347779cc2",
        "colab": {
          "base_uri": "https://localhost:8080/"
        }
      },
      "source": [
        "%cd /gdrive/My Drive/"
      ],
      "execution_count": null,
      "outputs": [
        {
          "output_type": "stream",
          "name": "stdout",
          "text": [
            "/gdrive/My Drive\n"
          ]
        }
      ]
    },
    {
      "cell_type": "markdown",
      "metadata": {
        "id": "zfehjCy896Fd"
      },
      "source": [
        "### Import libraries"
      ]
    },
    {
      "cell_type": "code",
      "metadata": {
        "id": "Z_wVYNVVfr6q",
        "outputId": "63c34d81-5a11-4b8c-95cd-6823b33a1113",
        "colab": {
          "base_uri": "https://localhost:8080/"
        }
      },
      "source": [
        "import tensorflow as tf\n",
        "import numpy as np\n",
        "import os\n",
        "import random\n",
        "import pandas as pd\n",
        "import seaborn as sns\n",
        "import matplotlib.pyplot as plt\n",
        "plt.rc('font', size=16) \n",
        "from sklearn.metrics import accuracy_score, f1_score, precision_score, recall_score\n",
        "from sklearn.metrics import confusion_matrix\n",
        "from sklearn.preprocessing import MinMaxScaler\n",
        "import warnings\n",
        "import logging\n",
        "import sklearn\n",
        "\n",
        "tfk = tf.keras\n",
        "tfkl = tf.keras.layers\n",
        "print(tf.__version__)"
      ],
      "execution_count": null,
      "outputs": [
        {
          "output_type": "stream",
          "name": "stdout",
          "text": [
            "2.9.2\n"
          ]
        }
      ]
    },
    {
      "cell_type": "markdown",
      "metadata": {
        "id": "lQWEHP13tQsc"
      },
      "source": [
        "### Set seed for reproducibility"
      ]
    },
    {
      "cell_type": "code",
      "metadata": {
        "id": "imBtfhUPLwB-"
      },
      "source": [
        "# Random seed for reproducibility\n",
        "seed = 42\n",
        "\n",
        "random.seed(seed)\n",
        "os.environ['PYTHONHASHSEED'] = str(seed)\n",
        "np.random.seed(seed)\n",
        "tf.random.set_seed(seed)\n",
        "tf.compat.v1.set_random_seed(seed)"
      ],
      "execution_count": null,
      "outputs": []
    },
    {
      "cell_type": "code",
      "source": [
        "!unzip training_dataset_homework2.zip"
      ],
      "metadata": {
        "colab": {
          "base_uri": "https://localhost:8080/"
        },
        "id": "G3LcwjG56ZNo",
        "outputId": "729a80dc-be52-4fbc-b3c4-ef3af1696bd5"
      },
      "execution_count": null,
      "outputs": [
        {
          "output_type": "stream",
          "name": "stdout",
          "text": [
            "Archive:  training_dataset_homework2.zip\n",
            "replace y_train.npy? [y]es, [n]o, [A]ll, [N]one, [r]ename: n\n",
            "replace x_train.npy? [y]es, [n]o, [A]ll, [N]one, [r]ename: n\n"
          ]
        }
      ]
    },
    {
      "cell_type": "code",
      "source": [
        "denox = np.load('/gdrive/My Drive/x_train.npy')\n",
        "denoy = np.load('/gdrive/My Drive/y_train.npy')\n",
        "denox.shape, denoy.shape"
      ],
      "metadata": {
        "colab": {
          "base_uri": "https://localhost:8080/"
        },
        "id": "4GwkC0Db6iK7",
        "outputId": "baf344b4-2735-4fdc-b95a-cd61f7276030"
      },
      "execution_count": null,
      "outputs": [
        {
          "output_type": "execute_result",
          "data": {
            "text/plain": [
              "((2429, 36, 6), (2429,))"
            ]
          },
          "metadata": {},
          "execution_count": 5
        }
      ]
    },
    {
      "cell_type": "code",
      "source": [
        "# Adding white noise \n",
        "wn = np.random.randn(2429*6*36)\n",
        "wn = wn.reshape(2429,36,6)"
      ],
      "metadata": {
        "id": "app-9iPU3fqd"
      },
      "execution_count": null,
      "outputs": []
    },
    {
      "cell_type": "code",
      "source": [
        "denox_new = 0.005*wn +(denox)"
      ],
      "metadata": {
        "id": "-2L4nzXHB1Er"
      },
      "execution_count": null,
      "outputs": []
    },
    {
      "cell_type": "code",
      "source": [
        "denox_new"
      ],
      "metadata": {
        "id": "qFvrLK5KuelN",
        "colab": {
          "base_uri": "https://localhost:8080/"
        },
        "outputId": "c5167254-7819-428f-f1b8-35fde7637d54"
      },
      "execution_count": null,
      "outputs": [
        {
          "output_type": "execute_result",
          "data": {
            "text/plain": [
              "array([[[ 1.75994836e+01,  8.17060868e+00, -1.78096156e+00,\n",
              "         -1.96983849e+01, -9.71467077e+00, -6.18881707e+01],\n",
              "        [ 2.37636064e-01, -5.89176283e+00,  1.68346526e+01,\n",
              "          5.04171280e+00,  2.43088291e+00,  5.89116714e+01],\n",
              "        [-2.96527902e+01, -2.13055664e+01,  2.90943754e+01,\n",
              "         -4.77841438e-01,  7.53859358e+01,  1.06665712e+01],\n",
              "        ...,\n",
              "        [ 1.19820291e+02,  2.18484285e+02,  1.63980179e+03,\n",
              "          5.97872804e+02,  2.19220542e+03,  1.84892690e+01],\n",
              "        [ 9.15841117e+01,  1.03775311e+02,  1.82380258e+03,\n",
              "          1.24600257e+03,  1.13010026e+04,  7.51089264e+02],\n",
              "        [ 4.37218545e+01,  3.06946778e+01,  9.50924770e+02,\n",
              "          8.59273257e+02,  8.13309842e+03,  9.88833795e+02]],\n",
              "\n",
              "       [[ 2.41703587e+00, -5.61574093e-01,  2.36515732e+01,\n",
              "         -3.81669063e+00,  1.38367329e+00,  8.24166367e+00],\n",
              "        [ 1.68813130e+00,  2.39809364e+01,  1.78006403e+01,\n",
              "         -1.95695552e+01, -8.25307860e+00, -2.39643887e+01],\n",
              "        [ 5.03343481e-01,  5.02843980e+01,  5.11923482e+01,\n",
              "          1.60370823e+01,  7.29967859e-01, -1.81882580e+01],\n",
              "        ...,\n",
              "        [-1.56163384e+01, -7.42704243e+00,  3.79105576e+00,\n",
              "          1.65707837e+00, -1.04321035e+01, -5.52256241e+00],\n",
              "        [-1.06916963e+01, -6.34802330e+00, -4.64764482e+00,\n",
              "          6.84427855e-01, -5.52277312e+00,  1.90768432e+01],\n",
              "        [-4.64002462e+00, -3.27346974e+00, -5.89950788e+00,\n",
              "         -2.04433697e-01,  1.14278371e+00,  2.32648038e+01]],\n",
              "\n",
              "       [[ 3.96866530e+01,  7.01293588e+02,  3.00380751e+03,\n",
              "          3.48063705e+01,  6.50441431e+01,  7.78010995e+01],\n",
              "        [ 1.63981483e+02,  1.25589972e+03,  3.38180192e+03,\n",
              "          2.39649984e+03,  5.19256628e+01, -7.01344456e+01],\n",
              "        [ 2.75443478e+02,  1.70050335e+03,  3.09220183e+03,\n",
              "          3.30839530e+03,  1.98577431e+02,  3.67414704e+02],\n",
              "        ...,\n",
              "        [ 3.15125377e+01,  9.20634775e+00, -4.77089004e+00,\n",
              "          1.53328656e+01,  1.72069395e+01,  1.23757257e+01],\n",
              "        [ 2.53671159e+01,  5.19826659e+00,  6.00885020e+00,\n",
              "         -6.88797539e+00,  1.09343211e+01, -6.48456549e+01],\n",
              "        [ 1.25557020e+01,  2.26588429e+00,  4.48187128e+00,\n",
              "         -1.28863636e+01,  1.04745156e+01, -6.69602715e+01]],\n",
              "\n",
              "       ...,\n",
              "\n",
              "       [[ 5.03128764e+02,  1.64270435e+03,  1.65079314e+03,\n",
              "          1.54240004e+03,  1.41570391e+03,  1.30900673e+03],\n",
              "        [ 3.17298498e+02,  2.01050324e+03,  2.19300271e+03,\n",
              "          2.15989693e+03,  2.04170058e+03,  1.90439858e+03],\n",
              "        [ 2.42736933e+02,  1.47709712e+03,  1.80770620e+03,\n",
              "          1.87510023e+03,  1.83839556e+03,  1.75039157e+03],\n",
              "        ...,\n",
              "        [ 4.50463455e-01,  2.21712452e-01,  5.37851070e+00,\n",
              "          1.41642163e+01,  1.69625977e+01,  1.99334532e+01],\n",
              "        [-7.45740882e-01,  1.85623743e+00,  5.62900566e+00,\n",
              "          1.37901021e+01,  1.61508712e+01,  2.70665812e+01],\n",
              "        [-7.13437684e-01,  2.86817038e+00,  6.68402001e+00,\n",
              "          1.34363674e+01,  1.78734068e+01,  2.71940778e+01]],\n",
              "\n",
              "       [[ 1.77528494e+01,  2.05700625e+00, -3.22762905e+00,\n",
              "          3.17244429e-01, -1.55345540e+01,  9.10409758e+00],\n",
              "        [ 2.62713095e+01,  2.01800624e+00, -2.58876394e+00,\n",
              "         -1.65921900e+00, -3.85800643e+00, -5.72883262e+01],\n",
              "        [ 3.18157861e+01,  1.62437231e+00, -1.30341575e+00,\n",
              "         -3.91080180e+00,  1.55332461e+01, -4.34654635e+01],\n",
              "        ...,\n",
              "        [ 8.94137851e+00,  8.31477274e+00,  2.85806173e+01,\n",
              "          4.15760899e+01,  8.01946257e+01,  6.30550704e+01],\n",
              "        [ 1.01368963e+01,  5.39968702e+00,  2.56918630e+01,\n",
              "          3.66361079e+01,  5.13943516e+01,  1.50291957e+01],\n",
              "        [ 5.93754268e+00,  2.38406884e+00,  1.32150708e+01,\n",
              "          1.86091700e+01,  3.31307413e+01,  4.55007726e-01]],\n",
              "\n",
              "       [[ 1.03682574e+00, -1.32971234e-01,  6.92615735e-01,\n",
              "          4.28740874e-01,  8.72594439e-01,  6.68604556e-01],\n",
              "        [-3.99563932e+00,  2.11779964e+00,  1.26748640e+00,\n",
              "         -5.89823356e-01,  4.07384073e-01, -9.43438871e-01],\n",
              "        [ 1.81084184e-01,  1.38908278e+00,  6.68349530e-01,\n",
              "          1.23405877e-01,  1.42847143e+00,  9.87975885e+00],\n",
              "        ...,\n",
              "        [ 1.97610566e-01,  1.03688908e+00, -9.17852506e-01,\n",
              "         -7.12567760e-01,  1.72705913e+00,  4.76445108e+00],\n",
              "        [ 4.13819993e+00,  1.09738504e+00, -1.85590897e-01,\n",
              "          1.14389785e+00,  9.35920772e-01,  4.17197066e+00],\n",
              "        [-1.54238130e+00, -1.20924688e+00,  1.07637823e+00,\n",
              "          1.33213564e+00,  2.40444928e+00,  8.45365460e+00]]])"
            ]
          },
          "metadata": {},
          "execution_count": 8
        }
      ]
    },
    {
      "cell_type": "code",
      "source": [
        "denox_merged = np.concatenate((denox,denox_new))\n",
        "denoy_merged = np.concatenate((denoy,denoy))\n",
        "denox_merged.shape"
      ],
      "metadata": {
        "colab": {
          "base_uri": "https://localhost:8080/"
        },
        "id": "veOoQw-TC2TD",
        "outputId": "125b1ba6-2114-41ba-930a-1c27a820bf2c"
      },
      "execution_count": null,
      "outputs": [
        {
          "output_type": "execute_result",
          "data": {
            "text/plain": [
              "(4858, 36, 6)"
            ]
          },
          "metadata": {},
          "execution_count": 11
        }
      ]
    },
    {
      "cell_type": "markdown",
      "metadata": {
        "id": "XRK9IPIc-ZEz"
      },
      "source": [
        "### Exploration Data Analysis (EDA)\n",
        "#### Human Activity Recognition"
      ]
    },
    {
      "cell_type": "markdown",
      "metadata": {
        "id": "GMysAd_I-lED"
      },
      "source": [
        "Load and clean the dataset"
      ]
    },
    {
      "cell_type": "code",
      "metadata": {
        "id": "s8HtgcBGAzaD",
        "colab": {
          "base_uri": "https://localhost:8080/"
        },
        "outputId": "2b48eea4-429a-4c61-c99b-6cbea2f624c1"
      },
      "source": [
        "# Split over users\n",
        "from sklearn.model_selection import train_test_split\n",
        "X_train, X_test, y_train, y_test = train_test_split(denox_merged, denoy_merged, test_size=0.1, random_state=42)\n",
        "X_train.shape, X_test.shape, y_train.shape, y_test.shape\n"
      ],
      "execution_count": null,
      "outputs": [
        {
          "output_type": "execute_result",
          "data": {
            "text/plain": [
              "((4372, 36, 6), (486, 36, 6), (4372,), (486,))"
            ]
          },
          "metadata": {},
          "execution_count": 25
        }
      ]
    },
    {
      "cell_type": "code",
      "metadata": {
        "id": "tguCut77u6bL",
        "colab": {
          "base_uri": "https://localhost:8080/"
        },
        "outputId": "afeb17e1-bc82-4338-f9a5-f0f44b476e97"
      },
      "source": [
        "# Convert the sparse labels to categorical values\n",
        "y_train = tfk.utils.to_categorical(y_train)\n",
        "y_test = tfk.utils.to_categorical(y_test)\n",
        "X_train.shape, y_train.shape, X_test.shape, y_test.shape"
      ],
      "execution_count": null,
      "outputs": [
        {
          "output_type": "execute_result",
          "data": {
            "text/plain": [
              "((4372, 36, 6), (4372, 12), (486, 36, 6), (486, 12))"
            ]
          },
          "metadata": {},
          "execution_count": 26
        }
      ]
    },
    {
      "cell_type": "markdown",
      "metadata": {
        "id": "g_0wmrz3MGsd"
      },
      "source": [
        "### Build and train models"
      ]
    },
    {
      "cell_type": "code",
      "metadata": {
        "id": "XkUqhy__KMnr"
      },
      "source": [
        "input_shape = X_train.shape[1:]\n",
        "classes = y_train.shape[-1]\n",
        "batch_size = 128\n",
        "epochs = 200"
      ],
      "execution_count": null,
      "outputs": []
    },
    {
      "cell_type": "markdown",
      "metadata": {
        "id": "bAP1pRLKN_v9"
      },
      "source": [
        "#### Vanilla Long Short Term Memory (LSTM) Neural Network\n",
        "\n",
        "![](https://drive.google.com/uc?export=view&id=1FZ_P4SgVAA_mCZQ0tK18VwRqGqzNANOE\n",
        ")"
      ]
    },
    {
      "cell_type": "code",
      "metadata": {
        "id": "vn115JrZjdTT"
      },
      "source": [
        "def build_LSTM_classifier(input_shape, classes):\n",
        "    # Build the neural network layer by layer\n",
        "    input_layer = tfkl.Input(shape=input_shape, name='Input')\n",
        "\n",
        "    # Feature extractor\n",
        "    lstm = tfkl.LSTM(128, return_sequences=True)(input_layer)\n",
        "    lstm = tfkl.LSTM(128)(lstm)\n",
        "    dropout = tfkl.Dropout(.5, seed=seed)(lstm)\n",
        "\n",
        "    # Classifier\n",
        "    classifier = tfkl.Dense(128, activation='relu')(dropout)\n",
        "    output_layer = tfkl.Dense(classes, activation='softmax')(classifier)\n",
        "\n",
        "    # Connect input and output through the Model class\n",
        "    model = tfk.Model(inputs=input_layer, outputs=output_layer, name='model')\n",
        "\n",
        "    # Compile the model\n",
        "    model.compile(loss=tfk.losses.CategoricalCrossentropy(), optimizer=tfk.optimizers.Adam(), metrics='accuracy')\n",
        "\n",
        "    # Return the model\n",
        "    return model"
      ],
      "execution_count": null,
      "outputs": []
    },
    {
      "cell_type": "code",
      "metadata": {
        "id": "SE7LPD2WKMvP",
        "colab": {
          "base_uri": "https://localhost:8080/"
        },
        "outputId": "ca1cdb6f-e1d7-4795-ec2d-a14f11fece5e"
      },
      "source": [
        "model = build_LSTM_classifier(input_shape, classes)\n",
        "model.summary()"
      ],
      "execution_count": null,
      "outputs": [
        {
          "output_type": "stream",
          "name": "stdout",
          "text": [
            "Model: \"model\"\n",
            "_________________________________________________________________\n",
            " Layer (type)                Output Shape              Param #   \n",
            "=================================================================\n",
            " Input (InputLayer)          [(None, 36, 6)]           0         \n",
            "                                                                 \n",
            " lstm (LSTM)                 (None, 36, 128)           69120     \n",
            "                                                                 \n",
            " lstm_1 (LSTM)               (None, 128)               131584    \n",
            "                                                                 \n",
            " dropout (Dropout)           (None, 128)               0         \n",
            "                                                                 \n",
            " dense (Dense)               (None, 128)               16512     \n",
            "                                                                 \n",
            " dense_1 (Dense)             (None, 12)                1548      \n",
            "                                                                 \n",
            "=================================================================\n",
            "Total params: 218,764\n",
            "Trainable params: 218,764\n",
            "Non-trainable params: 0\n",
            "_________________________________________________________________\n"
          ]
        }
      ]
    },
    {
      "cell_type": "code",
      "metadata": {
        "id": "xujngeFRKMsu",
        "colab": {
          "base_uri": "https://localhost:8080/"
        },
        "outputId": "de30caf5-5a03-4a3d-ddbe-069ee960e156"
      },
      "source": [
        "# Train the model\n",
        "history = model.fit(\n",
        "    x = X_train,\n",
        "    y = y_train,\n",
        "    batch_size = 150,\n",
        "    epochs = epochs,\n",
        "    validation_split=.1,\n",
        "    callbacks = [\n",
        "        tfk.callbacks.EarlyStopping(monitor='val_accuracy', mode='max', patience=10, restore_best_weights=True),\n",
        "        tfk.callbacks.ReduceLROnPlateau(monitor='val_accuracy', mode='max', patience=5, factor=0.5, min_lr=1e-5)\n",
        "    ]\n",
        ").history"
      ],
      "execution_count": null,
      "outputs": [
        {
          "output_type": "stream",
          "name": "stdout",
          "text": [
            "Epoch 1/200\n",
            "14/14 [==============================] - 5s 71ms/step - loss: 2.2175 - accuracy: 0.2827 - val_loss: 1.7911 - val_accuracy: 0.4521 - lr: 0.0010\n",
            "Epoch 2/200\n",
            "14/14 [==============================] - 0s 15ms/step - loss: 1.7565 - accuracy: 0.4382 - val_loss: 1.5346 - val_accuracy: 0.4886 - lr: 0.0010\n",
            "Epoch 3/200\n",
            "14/14 [==============================] - 0s 13ms/step - loss: 1.5279 - accuracy: 0.4743 - val_loss: 1.3610 - val_accuracy: 0.5525 - lr: 0.0010\n",
            "Epoch 4/200\n",
            "14/14 [==============================] - 0s 11ms/step - loss: 1.3810 - accuracy: 0.5247 - val_loss: 1.2499 - val_accuracy: 0.5845 - lr: 0.0010\n",
            "Epoch 5/200\n",
            "14/14 [==============================] - 0s 11ms/step - loss: 1.2364 - accuracy: 0.5674 - val_loss: 1.1754 - val_accuracy: 0.5708 - lr: 0.0010\n",
            "Epoch 6/200\n",
            "14/14 [==============================] - 0s 11ms/step - loss: 1.1596 - accuracy: 0.5984 - val_loss: 1.1460 - val_accuracy: 0.6073 - lr: 0.0010\n",
            "Epoch 7/200\n",
            "14/14 [==============================] - 0s 10ms/step - loss: 1.0642 - accuracy: 0.6309 - val_loss: 1.0839 - val_accuracy: 0.6347 - lr: 0.0010\n",
            "Epoch 8/200\n",
            "14/14 [==============================] - 0s 11ms/step - loss: 1.0000 - accuracy: 0.6650 - val_loss: 1.1124 - val_accuracy: 0.6484 - lr: 0.0010\n",
            "Epoch 9/200\n",
            "14/14 [==============================] - 0s 11ms/step - loss: 0.9479 - accuracy: 0.6731 - val_loss: 1.0916 - val_accuracy: 0.6438 - lr: 0.0010\n",
            "Epoch 10/200\n",
            "14/14 [==============================] - 0s 12ms/step - loss: 0.8987 - accuracy: 0.6919 - val_loss: 1.0828 - val_accuracy: 0.6530 - lr: 0.0010\n",
            "Epoch 11/200\n",
            "14/14 [==============================] - 0s 11ms/step - loss: 0.8421 - accuracy: 0.7128 - val_loss: 1.1509 - val_accuracy: 0.6530 - lr: 0.0010\n",
            "Epoch 12/200\n",
            "14/14 [==============================] - 0s 11ms/step - loss: 0.8107 - accuracy: 0.7285 - val_loss: 1.0810 - val_accuracy: 0.6621 - lr: 0.0010\n",
            "Epoch 13/200\n",
            "14/14 [==============================] - 0s 11ms/step - loss: 0.7694 - accuracy: 0.7351 - val_loss: 1.1645 - val_accuracy: 0.6575 - lr: 0.0010\n",
            "Epoch 14/200\n",
            "14/14 [==============================] - 0s 10ms/step - loss: 0.7325 - accuracy: 0.7463 - val_loss: 1.0678 - val_accuracy: 0.6393 - lr: 0.0010\n",
            "Epoch 15/200\n",
            "14/14 [==============================] - 0s 10ms/step - loss: 0.7219 - accuracy: 0.7529 - val_loss: 1.2215 - val_accuracy: 0.6438 - lr: 0.0010\n",
            "Epoch 16/200\n",
            "14/14 [==============================] - 0s 10ms/step - loss: 0.6731 - accuracy: 0.7712 - val_loss: 1.0426 - val_accuracy: 0.6484 - lr: 0.0010\n",
            "Epoch 17/200\n",
            "14/14 [==============================] - 0s 11ms/step - loss: 0.6023 - accuracy: 0.7905 - val_loss: 1.0672 - val_accuracy: 0.6484 - lr: 0.0010\n",
            "Epoch 18/200\n",
            "14/14 [==============================] - 0s 10ms/step - loss: 0.5494 - accuracy: 0.8119 - val_loss: 1.1574 - val_accuracy: 0.6804 - lr: 5.0000e-04\n",
            "Epoch 19/200\n",
            "14/14 [==============================] - 0s 10ms/step - loss: 0.4883 - accuracy: 0.8322 - val_loss: 1.1358 - val_accuracy: 0.6712 - lr: 5.0000e-04\n",
            "Epoch 20/200\n",
            "14/14 [==============================] - 0s 11ms/step - loss: 0.4597 - accuracy: 0.8470 - val_loss: 1.1729 - val_accuracy: 0.6667 - lr: 5.0000e-04\n",
            "Epoch 21/200\n",
            "14/14 [==============================] - 0s 10ms/step - loss: 0.4423 - accuracy: 0.8536 - val_loss: 1.2135 - val_accuracy: 0.6530 - lr: 5.0000e-04\n",
            "Epoch 22/200\n",
            "14/14 [==============================] - 0s 10ms/step - loss: 0.4291 - accuracy: 0.8607 - val_loss: 1.2489 - val_accuracy: 0.6530 - lr: 5.0000e-04\n",
            "Epoch 23/200\n",
            "14/14 [==============================] - 0s 11ms/step - loss: 0.4122 - accuracy: 0.8668 - val_loss: 1.2803 - val_accuracy: 0.6210 - lr: 5.0000e-04\n",
            "Epoch 24/200\n",
            "14/14 [==============================] - 0s 10ms/step - loss: 0.3641 - accuracy: 0.8785 - val_loss: 1.2635 - val_accuracy: 0.6667 - lr: 2.5000e-04\n",
            "Epoch 25/200\n",
            "14/14 [==============================] - 0s 10ms/step - loss: 0.3438 - accuracy: 0.8917 - val_loss: 1.2377 - val_accuracy: 0.6393 - lr: 2.5000e-04\n",
            "Epoch 26/200\n",
            "14/14 [==============================] - 0s 10ms/step - loss: 0.3301 - accuracy: 0.8963 - val_loss: 1.3327 - val_accuracy: 0.6301 - lr: 2.5000e-04\n",
            "Epoch 27/200\n",
            "14/14 [==============================] - 0s 11ms/step - loss: 0.3104 - accuracy: 0.8968 - val_loss: 1.2977 - val_accuracy: 0.6667 - lr: 2.5000e-04\n",
            "Epoch 28/200\n",
            "14/14 [==============================] - 0s 11ms/step - loss: 0.2905 - accuracy: 0.9120 - val_loss: 1.3611 - val_accuracy: 0.6301 - lr: 2.5000e-04\n"
          ]
        }
      ]
    },
    {
      "cell_type": "code",
      "metadata": {
        "id": "1UCCpzTHKMqF",
        "colab": {
          "base_uri": "https://localhost:8080/",
          "height": 818
        },
        "outputId": "88e34428-3f1c-4f61-8054-c31c4d74d329"
      },
      "source": [
        "best_epoch = np.argmax(history['val_accuracy'])\n",
        "plt.figure(figsize=(17,4))\n",
        "plt.plot(history['loss'], label='Training loss', alpha=.8, color='#ff7f0e')\n",
        "plt.plot(history['val_loss'], label='Validation loss', alpha=.9, color='#5a9aa5')\n",
        "plt.axvline(x=best_epoch, label='Best epoch', alpha=.3, ls='--', color='#5a9aa5')\n",
        "plt.title('Categorical Crossentropy')\n",
        "plt.legend()\n",
        "plt.grid(alpha=.3)\n",
        "plt.show()\n",
        "\n",
        "plt.figure(figsize=(17,4))\n",
        "plt.plot(history['accuracy'], label='Training accuracy', alpha=.8, color='#ff7f0e')\n",
        "plt.plot(history['val_accuracy'], label='Validation accuracy', alpha=.9, color='#5a9aa5')\n",
        "plt.axvline(x=best_epoch, label='Best epoch', alpha=.3, ls='--', color='#5a9aa5')\n",
        "plt.title('Accuracy')\n",
        "plt.legend()\n",
        "plt.grid(alpha=.3)\n",
        "plt.show()\n",
        "\n",
        "plt.figure(figsize=(17,4))\n",
        "plt.plot(history['lr'], label='Learning Rate', alpha=.8, color='#ff7f0e')\n",
        "plt.axvline(x=best_epoch, label='Best epoch', alpha=.3, ls='--', color='#5a9aa5')\n",
        "plt.legend()\n",
        "plt.grid(alpha=.3)\n",
        "plt.show()"
      ],
      "execution_count": null,
      "outputs": [
        {
          "output_type": "display_data",
          "data": {
            "text/plain": [
              "<Figure size 1224x288 with 1 Axes>"
            ],
            "image/png": "[encoded data removed]"
          },
          "metadata": {
            "needs_background": "light"
          }
        },
        {
          "output_type": "display_data",
          "data": {
            "text/plain": [
              "<Figure size 1224x288 with 1 Axes>"
            ],
            "image/png": "[encoded data removed]"
          },
          "metadata": {
            "needs_background": "light"
          }
        },
        {
          "output_type": "display_data",
          "data": {
            "text/plain": [
              "<Figure size 1224x288 with 1 Axes>"
            ],
            "image/png": "[encoded data removed]"
          },
          "metadata": {
            "needs_background": "light"
          }
        }
      ]
    },
    {
      "cell_type": "code",
      "metadata": {
        "id": "4_eXoY7pTxb7",
        "colab": {
          "base_uri": "https://localhost:8080/"
        },
        "outputId": "f5b3c11f-fd20-4851-e0bf-ff9f7af12dd0"
      },
      "source": [
        "model.save('augmented_model')\n",
        "# model = tfk.models.load_model('LSTM')"
      ],
      "execution_count": null,
      "outputs": [
        {
          "output_type": "stream",
          "name": "stderr",
          "text": [
            "WARNING:absl:Function `_wrapped_model` contains input name(s) Input with unsupported characters which will be renamed to input in the SavedModel.\n",
            "WARNING:absl:Found untraced functions such as lstm_cell_2_layer_call_fn, lstm_cell_2_layer_call_and_return_conditional_losses, lstm_cell_3_layer_call_fn, lstm_cell_3_layer_call_and_return_conditional_losses while saving (showing 4 of 4). These functions will not be directly callable after loading.\n"
          ]
        }
      ]
    },
    {
      "cell_type": "code",
      "metadata": {
        "id": "VTQvyDzeVHoY",
        "colab": {
          "base_uri": "https://localhost:8080/"
        },
        "outputId": "45b3c5b0-3ace-4830-9462-6e0ee5baad8f"
      },
      "source": [
        "# Predict the test set with the LSTM\n",
        "predictions = model.predict(X_test)\n",
        "predictions.shape"
      ],
      "execution_count": null,
      "outputs": [
        {
          "output_type": "stream",
          "name": "stdout",
          "text": [
            "8/8 [==============================] - 0s 4ms/step\n"
          ]
        },
        {
          "output_type": "execute_result",
          "data": {
            "text/plain": [
              "(243, 12)"
            ]
          },
          "metadata": {},
          "execution_count": 178
        }
      ]
    },
    {
      "cell_type": "code",
      "metadata": {
        "id": "5G0a1Lh_VYNC",
        "colab": {
          "base_uri": "https://localhost:8080/"
        },
        "outputId": "33d30de2-3b5a-4d37-87e0-53c185caf1af"
      },
      "source": [
        "# Compute the confusion matrix\n",
        "cm = confusion_matrix(np.argmax(y_test, axis=-1), np.argmax(predictions, axis=-1))\n",
        "\n",
        "# Compute the classification metrics\n",
        "accuracy = accuracy_score(np.argmax(y_test, axis=-1), np.argmax(predictions, axis=-1))\n",
        "precision = precision_score(np.argmax(y_test, axis=-1), np.argmax(predictions, axis=-1), average='macro')\n",
        "recall = recall_score(np.argmax(y_test, axis=-1), np.argmax(predictions, axis=-1), average='macro')\n",
        "f1 = f1_score(np.argmax(y_test, axis=-1), np.argmax(predictions, axis=-1), average='macro')\n",
        "print('Accuracy:',accuracy.round(4))\n",
        "print('Precision:',precision.round(4))\n",
        "print('Recall:',recall.round(4))\n",
        "print('F1:',f1.round(4))\n"
      ],
      "execution_count": null,
      "outputs": [
        {
          "output_type": "stream",
          "name": "stdout",
          "text": [
            "Accuracy: 0.9877\n",
            "Precision: 0.986\n",
            "Recall: 0.985\n",
            "F1: 0.9855\n"
          ]
        }
      ]
    },
    {
      "cell_type": "markdown",
      "metadata": {
        "id": "t5VrQa_OMu74"
      },
      "source": [
        "#### Bidirectional Long Short Term Memory (BiLSTM) Neural Network\n",
        "\n",
        "![](https://drive.google.com/uc?export=view&id=1CN-jJqzb5AurhnMMiuvdVCaPGy2KReLc\n",
        ")"
      ]
    },
    {
      "cell_type": "code",
      "metadata": {
        "id": "1I9QwEDaV6xF"
      },
      "source": [
        "def build_BiLSTM_classifier(input_shape, classes):\n",
        "    # Build the neural network layer by layer\n",
        "    input_layer = tfkl.Input(shape=input_shape, name='Input')\n",
        "\n",
        "    # Feature extractor\n",
        "    bilstm = tfkl.Bidirectional(tfkl.LSTM(128, return_sequences=True))(input_layer)\n",
        "    bilstm = tfkl.Bidirectional(tfkl.LSTM(128))(bilstm)\n",
        "    dropout = tfkl.Dropout(.5, seed=seed)(bilstm)\n",
        "\n",
        "    # Classifier\n",
        "    classifier = tfkl.Dense(128, activation='relu')(dropout)\n",
        "    output_layer = tfkl.Dense(classes, activation='softmax')(classifier)\n",
        "\n",
        "    # Connect input and output through the Model class\n",
        "    model = tfk.Model(inputs=input_layer, outputs=output_layer, name='model')\n",
        "\n",
        "    # Compile the model\n",
        "    model.compile(loss=tfk.losses.CategoricalCrossentropy(), optimizer=tfk.optimizers.Adam(), metrics='accuracy')\n",
        "\n",
        "    # Return the model\n",
        "    return model"
      ],
      "execution_count": null,
      "outputs": []
    },
    {
      "cell_type": "code",
      "metadata": {
        "id": "2HsaYcmTV6uX",
        "colab": {
          "base_uri": "https://localhost:8080/"
        },
        "outputId": "0251b570-53a8-4ffd-bde7-cd62a910d66d"
      },
      "source": [
        "model = build_BiLSTM_classifier(input_shape, classes)\n",
        "model.summary()"
      ],
      "execution_count": null,
      "outputs": [
        {
          "output_type": "stream",
          "name": "stdout",
          "text": [
            "Model: \"model\"\n",
            "_________________________________________________________________\n",
            " Layer (type)                Output Shape              Param #   \n",
            "=================================================================\n",
            " Input (InputLayer)          [(None, 36, 6)]           0         \n",
            "                                                                 \n",
            " bidirectional (Bidirectiona  (None, 36, 256)          138240    \n",
            " l)                                                              \n",
            "                                                                 \n",
            " bidirectional_1 (Bidirectio  (None, 256)              394240    \n",
            " nal)                                                            \n",
            "                                                                 \n",
            " dropout_1 (Dropout)         (None, 256)               0         \n",
            "                                                                 \n",
            " dense_2 (Dense)             (None, 128)               32896     \n",
            "                                                                 \n",
            " dense_3 (Dense)             (None, 12)                1548      \n",
            "                                                                 \n",
            "=================================================================\n",
            "Total params: 566,924\n",
            "Trainable params: 566,924\n",
            "Non-trainable params: 0\n",
            "_________________________________________________________________\n"
          ]
        }
      ]
    },
    {
      "cell_type": "code",
      "metadata": {
        "id": "hoS_rLRJV6sZ",
        "colab": {
          "base_uri": "https://localhost:8080/"
        },
        "outputId": "e2f79671-8fbf-4dde-f32f-38caa5f7afb8"
      },
      "source": [
        "# Train the model\n",
        "history = model.fit(\n",
        "    x = X_train,\n",
        "    y = y_train,\n",
        "    batch_size = 180,\n",
        "    epochs = epochs,\n",
        "    validation_split=.1,\n",
        "    callbacks = [\n",
        "        tfk.callbacks.EarlyStopping(monitor='val_accuracy', mode='max', patience=10, restore_best_weights=True),\n",
        "        tfk.callbacks.ReduceLROnPlateau(monitor='val_accuracy', mode='max', patience=5, factor=0.5, min_lr=1e-5)\n",
        "    ]\n",
        ").history"
      ],
      "execution_count": null,
      "outputs": [
        {
          "output_type": "stream",
          "name": "stdout",
          "text": [
            "Epoch 1/200\n",
            "22/22 [==============================] - 1s 26ms/step - loss: 0.2992 - accuracy: 0.9288 - val_loss: 0.5042 - val_accuracy: 0.8790 - lr: 3.1250e-05\n",
            "Epoch 2/200\n",
            "22/22 [==============================] - 0s 19ms/step - loss: 0.2648 - accuracy: 0.9347 - val_loss: 0.4891 - val_accuracy: 0.8790 - lr: 3.1250e-05\n",
            "Epoch 3/200\n",
            "22/22 [==============================] - 1s 24ms/step - loss: 0.2422 - accuracy: 0.9375 - val_loss: 0.4649 - val_accuracy: 0.8836 - lr: 3.1250e-05\n",
            "Epoch 4/200\n",
            "22/22 [==============================] - 1s 27ms/step - loss: 0.2270 - accuracy: 0.9403 - val_loss: 0.4536 - val_accuracy: 0.8836 - lr: 3.1250e-05\n",
            "Epoch 5/200\n",
            "22/22 [==============================] - 1s 22ms/step - loss: 0.2092 - accuracy: 0.9453 - val_loss: 0.4369 - val_accuracy: 0.8858 - lr: 3.1250e-05\n",
            "Epoch 6/200\n",
            "22/22 [==============================] - 0s 20ms/step - loss: 0.1952 - accuracy: 0.9479 - val_loss: 0.4251 - val_accuracy: 0.8881 - lr: 3.1250e-05\n",
            "Epoch 7/200\n",
            "22/22 [==============================] - 0s 19ms/step - loss: 0.1848 - accuracy: 0.9514 - val_loss: 0.4101 - val_accuracy: 0.8973 - lr: 3.1250e-05\n",
            "Epoch 8/200\n",
            "22/22 [==============================] - 0s 19ms/step - loss: 0.1784 - accuracy: 0.9540 - val_loss: 0.4049 - val_accuracy: 0.9018 - lr: 3.1250e-05\n",
            "Epoch 9/200\n",
            "22/22 [==============================] - 0s 19ms/step - loss: 0.1775 - accuracy: 0.9517 - val_loss: 0.3959 - val_accuracy: 0.9064 - lr: 3.1250e-05\n",
            "Epoch 10/200\n",
            "22/22 [==============================] - 0s 19ms/step - loss: 0.1597 - accuracy: 0.9596 - val_loss: 0.3912 - val_accuracy: 0.9018 - lr: 3.1250e-05\n",
            "Epoch 11/200\n",
            "22/22 [==============================] - 0s 19ms/step - loss: 0.1604 - accuracy: 0.9601 - val_loss: 0.3857 - val_accuracy: 0.9018 - lr: 3.1250e-05\n",
            "Epoch 12/200\n",
            "22/22 [==============================] - 0s 19ms/step - loss: 0.1483 - accuracy: 0.9626 - val_loss: 0.3757 - val_accuracy: 0.9018 - lr: 3.1250e-05\n",
            "Epoch 13/200\n",
            "22/22 [==============================] - 0s 21ms/step - loss: 0.1411 - accuracy: 0.9629 - val_loss: 0.3713 - val_accuracy: 0.9041 - lr: 3.1250e-05\n",
            "Epoch 14/200\n",
            "22/22 [==============================] - 0s 18ms/step - loss: 0.1309 - accuracy: 0.9657 - val_loss: 0.3619 - val_accuracy: 0.9041 - lr: 3.1250e-05\n",
            "Epoch 15/200\n",
            "22/22 [==============================] - 0s 20ms/step - loss: 0.1301 - accuracy: 0.9677 - val_loss: 0.3618 - val_accuracy: 0.9064 - lr: 1.5625e-05\n",
            "Epoch 16/200\n",
            "22/22 [==============================] - 1s 37ms/step - loss: 0.1284 - accuracy: 0.9644 - val_loss: 0.3610 - val_accuracy: 0.9064 - lr: 1.5625e-05\n",
            "Epoch 17/200\n",
            "22/22 [==============================] - 1s 28ms/step - loss: 0.1219 - accuracy: 0.9698 - val_loss: 0.3564 - val_accuracy: 0.9041 - lr: 1.5625e-05\n",
            "Epoch 18/200\n",
            "22/22 [==============================] - 1s 40ms/step - loss: 0.1228 - accuracy: 0.9685 - val_loss: 0.3582 - val_accuracy: 0.9064 - lr: 1.5625e-05\n",
            "Epoch 19/200\n",
            "22/22 [==============================] - 0s 19ms/step - loss: 0.1234 - accuracy: 0.9667 - val_loss: 0.3535 - val_accuracy: 0.9110 - lr: 1.5625e-05\n",
            "Epoch 20/200\n",
            "22/22 [==============================] - 0s 19ms/step - loss: 0.1168 - accuracy: 0.9695 - val_loss: 0.3511 - val_accuracy: 0.9064 - lr: 1.5625e-05\n",
            "Epoch 21/200\n",
            "22/22 [==============================] - 0s 18ms/step - loss: 0.1107 - accuracy: 0.9728 - val_loss: 0.3517 - val_accuracy: 0.9087 - lr: 1.5625e-05\n",
            "Epoch 22/200\n",
            "22/22 [==============================] - 0s 19ms/step - loss: 0.1126 - accuracy: 0.9743 - val_loss: 0.3494 - val_accuracy: 0.9110 - lr: 1.5625e-05\n",
            "Epoch 23/200\n",
            "22/22 [==============================] - 0s 19ms/step - loss: 0.1094 - accuracy: 0.9738 - val_loss: 0.3457 - val_accuracy: 0.9110 - lr: 1.5625e-05\n",
            "Epoch 24/200\n",
            "22/22 [==============================] - 0s 19ms/step - loss: 0.1070 - accuracy: 0.9756 - val_loss: 0.3441 - val_accuracy: 0.9132 - lr: 1.5625e-05\n",
            "Epoch 25/200\n",
            "22/22 [==============================] - 0s 19ms/step - loss: 0.1077 - accuracy: 0.9718 - val_loss: 0.3422 - val_accuracy: 0.9110 - lr: 1.5625e-05\n",
            "Epoch 26/200\n",
            "22/22 [==============================] - 0s 19ms/step - loss: 0.1024 - accuracy: 0.9748 - val_loss: 0.3389 - val_accuracy: 0.9155 - lr: 1.5625e-05\n",
            "Epoch 27/200\n",
            "22/22 [==============================] - 0s 19ms/step - loss: 0.1030 - accuracy: 0.9769 - val_loss: 0.3377 - val_accuracy: 0.9178 - lr: 1.5625e-05\n",
            "Epoch 28/200\n",
            "22/22 [==============================] - 0s 19ms/step - loss: 0.1063 - accuracy: 0.9736 - val_loss: 0.3362 - val_accuracy: 0.9155 - lr: 1.5625e-05\n",
            "Epoch 29/200\n",
            "22/22 [==============================] - 0s 19ms/step - loss: 0.1035 - accuracy: 0.9743 - val_loss: 0.3342 - val_accuracy: 0.9201 - lr: 1.5625e-05\n",
            "Epoch 30/200\n",
            "22/22 [==============================] - 0s 19ms/step - loss: 0.0977 - accuracy: 0.9753 - val_loss: 0.3303 - val_accuracy: 0.9201 - lr: 1.5625e-05\n",
            "Epoch 31/200\n",
            "22/22 [==============================] - 0s 19ms/step - loss: 0.0936 - accuracy: 0.9792 - val_loss: 0.3285 - val_accuracy: 0.9201 - lr: 1.5625e-05\n",
            "Epoch 32/200\n",
            "22/22 [==============================] - 0s 19ms/step - loss: 0.0928 - accuracy: 0.9786 - val_loss: 0.3297 - val_accuracy: 0.9201 - lr: 1.5625e-05\n",
            "Epoch 33/200\n",
            "22/22 [==============================] - 0s 19ms/step - loss: 0.0926 - accuracy: 0.9771 - val_loss: 0.3270 - val_accuracy: 0.9247 - lr: 1.5625e-05\n",
            "Epoch 34/200\n",
            "22/22 [==============================] - 0s 18ms/step - loss: 0.0912 - accuracy: 0.9774 - val_loss: 0.3241 - val_accuracy: 0.9201 - lr: 1.5625e-05\n",
            "Epoch 35/200\n",
            "22/22 [==============================] - 0s 18ms/step - loss: 0.0936 - accuracy: 0.9764 - val_loss: 0.3172 - val_accuracy: 0.9247 - lr: 1.5625e-05\n",
            "Epoch 36/200\n",
            "22/22 [==============================] - 0s 18ms/step - loss: 0.0857 - accuracy: 0.9789 - val_loss: 0.3164 - val_accuracy: 0.9247 - lr: 1.5625e-05\n",
            "Epoch 37/200\n",
            "22/22 [==============================] - 0s 19ms/step - loss: 0.0841 - accuracy: 0.9812 - val_loss: 0.3137 - val_accuracy: 0.9269 - lr: 1.5625e-05\n",
            "Epoch 38/200\n",
            "22/22 [==============================] - 0s 18ms/step - loss: 0.0833 - accuracy: 0.9832 - val_loss: 0.3155 - val_accuracy: 0.9247 - lr: 1.5625e-05\n",
            "Epoch 39/200\n",
            "22/22 [==============================] - 0s 18ms/step - loss: 0.0809 - accuracy: 0.9802 - val_loss: 0.3136 - val_accuracy: 0.9292 - lr: 1.5625e-05\n",
            "Epoch 40/200\n",
            "22/22 [==============================] - 0s 19ms/step - loss: 0.0791 - accuracy: 0.9825 - val_loss: 0.3131 - val_accuracy: 0.9292 - lr: 1.5625e-05\n",
            "Epoch 41/200\n",
            "22/22 [==============================] - 0s 19ms/step - loss: 0.0786 - accuracy: 0.9827 - val_loss: 0.3131 - val_accuracy: 0.9315 - lr: 1.5625e-05\n",
            "Epoch 42/200\n",
            "22/22 [==============================] - 0s 19ms/step - loss: 0.0781 - accuracy: 0.9832 - val_loss: 0.3120 - val_accuracy: 0.9315 - lr: 1.5625e-05\n",
            "Epoch 43/200\n",
            "22/22 [==============================] - 0s 19ms/step - loss: 0.0737 - accuracy: 0.9855 - val_loss: 0.3082 - val_accuracy: 0.9315 - lr: 1.5625e-05\n",
            "Epoch 44/200\n",
            "22/22 [==============================] - 0s 19ms/step - loss: 0.0779 - accuracy: 0.9825 - val_loss: 0.3093 - val_accuracy: 0.9315 - lr: 1.5625e-05\n",
            "Epoch 45/200\n",
            "22/22 [==============================] - 0s 19ms/step - loss: 0.0780 - accuracy: 0.9814 - val_loss: 0.3047 - val_accuracy: 0.9338 - lr: 1.5625e-05\n",
            "Epoch 46/200\n",
            "22/22 [==============================] - 0s 18ms/step - loss: 0.0696 - accuracy: 0.9878 - val_loss: 0.3036 - val_accuracy: 0.9338 - lr: 1.5625e-05\n",
            "Epoch 47/200\n",
            "22/22 [==============================] - 0s 20ms/step - loss: 0.0774 - accuracy: 0.9814 - val_loss: 0.2989 - val_accuracy: 0.9361 - lr: 1.5625e-05\n",
            "Epoch 48/200\n",
            "22/22 [==============================] - 0s 19ms/step - loss: 0.0698 - accuracy: 0.9853 - val_loss: 0.2988 - val_accuracy: 0.9338 - lr: 1.5625e-05\n",
            "Epoch 49/200\n",
            "22/22 [==============================] - 0s 19ms/step - loss: 0.0666 - accuracy: 0.9860 - val_loss: 0.3003 - val_accuracy: 0.9338 - lr: 1.5625e-05\n",
            "Epoch 50/200\n",
            "22/22 [==============================] - 0s 19ms/step - loss: 0.0683 - accuracy: 0.9840 - val_loss: 0.3023 - val_accuracy: 0.9315 - lr: 1.5625e-05\n",
            "Epoch 51/200\n",
            "22/22 [==============================] - 0s 19ms/step - loss: 0.0663 - accuracy: 0.9835 - val_loss: 0.2995 - val_accuracy: 0.9361 - lr: 1.5625e-05\n",
            "Epoch 52/200\n",
            "22/22 [==============================] - 0s 19ms/step - loss: 0.0638 - accuracy: 0.9870 - val_loss: 0.2993 - val_accuracy: 0.9361 - lr: 1.5625e-05\n",
            "Epoch 53/200\n",
            "22/22 [==============================] - 0s 19ms/step - loss: 0.0642 - accuracy: 0.9842 - val_loss: 0.2941 - val_accuracy: 0.9361 - lr: 1.0000e-05\n",
            "Epoch 54/200\n",
            "22/22 [==============================] - 0s 19ms/step - loss: 0.0636 - accuracy: 0.9858 - val_loss: 0.2919 - val_accuracy: 0.9361 - lr: 1.0000e-05\n",
            "Epoch 55/200\n",
            "22/22 [==============================] - 0s 19ms/step - loss: 0.0633 - accuracy: 0.9858 - val_loss: 0.2923 - val_accuracy: 0.9361 - lr: 1.0000e-05\n",
            "Epoch 56/200\n",
            "22/22 [==============================] - 0s 19ms/step - loss: 0.0615 - accuracy: 0.9863 - val_loss: 0.2932 - val_accuracy: 0.9361 - lr: 1.0000e-05\n",
            "Epoch 57/200\n",
            "22/22 [==============================] - 0s 20ms/step - loss: 0.0623 - accuracy: 0.9870 - val_loss: 0.2938 - val_accuracy: 0.9361 - lr: 1.0000e-05\n"
          ]
        }
      ]
    },
    {
      "cell_type": "code",
      "metadata": {
        "id": "d408cNUKV6pi",
        "colab": {
          "base_uri": "https://localhost:8080/",
          "height": 407
        },
        "outputId": "39d85abb-a99f-415a-a4c2-898064ae8706"
      },
      "source": [
        "best_epoch = np.argmax(history['val_accuracy'])\n",
        "plt.figure(figsize=(17,4))\n",
        "plt.plot(history['loss'], label='Training loss', alpha=.8, color='#ff7f0e')\n",
        "plt.plot(history['val_loss'], label='Validation loss', alpha=.9, color='#5a9aa5')\n",
        "plt.axvline(x=best_epoch, label='Best epoch', alpha=.3, ls='--', color='#5a9aa5')\n",
        "plt.title('Categorical Crossentropy')\n",
        "plt.legend()\n",
        "plt.grid(alpha=.3)\n",
        "plt.show()\n",
        "\n",
        "plt.figure(figsize=(17,4))\n",
        "plt.plot(history['accuracy'], label='Training accuracy', alpha=.8, color='#ff7f0e')\n",
        "plt.plot(history['val_accuracy'], label='Validation accuracy', alpha=.9, color='#5a9aa5')\n",
        "plt.axvline(x=best_epoch, label='Best epoch', alpha=.3, ls='--', color='#5a9aa5')\n",
        "plt.title('Accuracy')\n",
        "plt.legend()\n",
        "plt.grid(alpha=.3)\n",
        "plt.show()\n",
        "\n",
        "plt.figure(figsize=(18,3))\n",
        "plt.plot(history['lr'], label='Learning Rate', alpha=.8, color='#ff7f0e')\n",
        "plt.axvline(x=best_epoch, label='Best epoch', alpha=.3, ls='--', color='#5a9aa5')\n",
        "plt.legend()\n",
        "plt.grid(alpha=.3)\n",
        "plt.show()"
      ],
      "execution_count": null,
      "outputs": [
        {
          "output_type": "error",
          "ename": "KeyboardInterrupt",
          "evalue": "ignored",
          "traceback": [
            "\u001b[0;31m---------------------------------------------------------------------------\u001b[0m",
            "\u001b[0;31mKeyboardInterrupt\u001b[0m                         Traceback (most recent call last)",
            "\u001b[0;32m<ipython-input-28-fbfdee8374a5>\u001b[0m in \u001b[0;36m<module>\u001b[0;34m\u001b[0m\n\u001b[1;32m      1\u001b[0m \u001b[0mbest_epoch\u001b[0m \u001b[0;34m=\u001b[0m \u001b[0mnp\u001b[0m\u001b[0;34m.\u001b[0m\u001b[0margmax\u001b[0m\u001b[0;34m(\u001b[0m\u001b[0mhistory\u001b[0m\u001b[0;34m[\u001b[0m\u001b[0;34m'val_accuracy'\u001b[0m\u001b[0;34m]\u001b[0m\u001b[0;34m)\u001b[0m\u001b[0;34m\u001b[0m\u001b[0;34m\u001b[0m\u001b[0m\n\u001b[1;32m      2\u001b[0m \u001b[0mplt\u001b[0m\u001b[0;34m.\u001b[0m\u001b[0mfigure\u001b[0m\u001b[0;34m(\u001b[0m\u001b[0mfigsize\u001b[0m\u001b[0;34m=\u001b[0m\u001b[0;34m(\u001b[0m\u001b[0;36m17\u001b[0m\u001b[0;34m,\u001b[0m\u001b[0;36m4\u001b[0m\u001b[0;34m)\u001b[0m\u001b[0;34m)\u001b[0m\u001b[0;34m\u001b[0m\u001b[0;34m\u001b[0m\u001b[0m\n\u001b[0;32m----> 3\u001b[0;31m \u001b[0mplt\u001b[0m\u001b[0;34m.\u001b[0m\u001b[0mplot\u001b[0m\u001b[0;34m(\u001b[0m\u001b[0mhistory\u001b[0m\u001b[0;34m[\u001b[0m\u001b[0;34m'loss'\u001b[0m\u001b[0;34m]\u001b[0m\u001b[0;34m,\u001b[0m \u001b[0mlabel\u001b[0m\u001b[0;34m=\u001b[0m\u001b[0;34m'Training loss'\u001b[0m\u001b[0;34m,\u001b[0m \u001b[0malpha\u001b[0m\u001b[0;34m=\u001b[0m\u001b[0;36m.8\u001b[0m\u001b[0;34m,\u001b[0m \u001b[0mcolor\u001b[0m\u001b[0;34m=\u001b[0m\u001b[0;34m'#ff7f0e'\u001b[0m\u001b[0;34m)\u001b[0m\u001b[0;34m\u001b[0m\u001b[0;34m\u001b[0m\u001b[0m\n\u001b[0m\u001b[1;32m      4\u001b[0m \u001b[0mplt\u001b[0m\u001b[0;34m.\u001b[0m\u001b[0mplot\u001b[0m\u001b[0;34m(\u001b[0m\u001b[0mhistory\u001b[0m\u001b[0;34m[\u001b[0m\u001b[0;34m'val_loss'\u001b[0m\u001b[0;34m]\u001b[0m\u001b[0;34m,\u001b[0m \u001b[0mlabel\u001b[0m\u001b[0;34m=\u001b[0m\u001b[0;34m'Validation loss'\u001b[0m\u001b[0;34m,\u001b[0m \u001b[0malpha\u001b[0m\u001b[0;34m=\u001b[0m\u001b[0;36m.9\u001b[0m\u001b[0;34m,\u001b[0m \u001b[0mcolor\u001b[0m\u001b[0;34m=\u001b[0m\u001b[0;34m'#5a9aa5'\u001b[0m\u001b[0;34m)\u001b[0m\u001b[0;34m\u001b[0m\u001b[0;34m\u001b[0m\u001b[0m\n\u001b[1;32m      5\u001b[0m \u001b[0mplt\u001b[0m\u001b[0;34m.\u001b[0m\u001b[0maxvline\u001b[0m\u001b[0;34m(\u001b[0m\u001b[0mx\u001b[0m\u001b[0;34m=\u001b[0m\u001b[0mbest_epoch\u001b[0m\u001b[0;34m,\u001b[0m \u001b[0mlabel\u001b[0m\u001b[0;34m=\u001b[0m\u001b[0;34m'Best epoch'\u001b[0m\u001b[0;34m,\u001b[0m \u001b[0malpha\u001b[0m\u001b[0;34m=\u001b[0m\u001b[0;36m.3\u001b[0m\u001b[0;34m,\u001b[0m \u001b[0mls\u001b[0m\u001b[0;34m=\u001b[0m\u001b[0;34m'--'\u001b[0m\u001b[0;34m,\u001b[0m \u001b[0mcolor\u001b[0m\u001b[0;34m=\u001b[0m\u001b[0;34m'#5a9aa5'\u001b[0m\u001b[0;34m)\u001b[0m\u001b[0;34m\u001b[0m\u001b[0;34m\u001b[0m\u001b[0m\n",
            "\u001b[0;32m/usr/local/lib/python3.8/dist-packages/matplotlib/pyplot.py\u001b[0m in \u001b[0;36mplot\u001b[0;34m(scalex, scaley, data, *args, **kwargs)\u001b[0m\n\u001b[1;32m   2759\u001b[0m \u001b[0;34m@\u001b[0m\u001b[0mdocstring\u001b[0m\u001b[0;34m.\u001b[0m\u001b[0mcopy\u001b[0m\u001b[0;34m(\u001b[0m\u001b[0mAxes\u001b[0m\u001b[0;34m.\u001b[0m\u001b[0mplot\u001b[0m\u001b[0;34m)\u001b[0m\u001b[0;34m\u001b[0m\u001b[0;34m\u001b[0m\u001b[0m\n\u001b[1;32m   2760\u001b[0m \u001b[0;32mdef\u001b[0m \u001b[0mplot\u001b[0m\u001b[0;34m(\u001b[0m\u001b[0;34m*\u001b[0m\u001b[0margs\u001b[0m\u001b[0;34m,\u001b[0m \u001b[0mscalex\u001b[0m\u001b[0;34m=\u001b[0m\u001b[0;32mTrue\u001b[0m\u001b[0;34m,\u001b[0m \u001b[0mscaley\u001b[0m\u001b[0;34m=\u001b[0m\u001b[0;32mTrue\u001b[0m\u001b[0;34m,\u001b[0m \u001b[0mdata\u001b[0m\u001b[0;34m=\u001b[0m\u001b[0;32mNone\u001b[0m\u001b[0;34m,\u001b[0m \u001b[0;34m**\u001b[0m\u001b[0mkwargs\u001b[0m\u001b[0;34m)\u001b[0m\u001b[0;34m:\u001b[0m\u001b[0;34m\u001b[0m\u001b[0;34m\u001b[0m\u001b[0m\n\u001b[0;32m-> 2761\u001b[0;31m     return gca().plot(\n\u001b[0m\u001b[1;32m   2762\u001b[0m         *args, scalex=scalex, scaley=scaley, **({\"data\": data} if data\n\u001b[1;32m   2763\u001b[0m         is not None else {}), **kwargs)\n",
            "\u001b[0;32m/usr/local/lib/python3.8/dist-packages/matplotlib/pyplot.py\u001b[0m in \u001b[0;36mgca\u001b[0;34m(**kwargs)\u001b[0m\n\u001b[1;32m    877\u001b[0m     \u001b[0mmatplotlib\u001b[0m\u001b[0;34m.\u001b[0m\u001b[0mfigure\u001b[0m\u001b[0;34m.\u001b[0m\u001b[0mFigure\u001b[0m\u001b[0;34m.\u001b[0m\u001b[0mgca\u001b[0m \u001b[0;34m:\u001b[0m \u001b[0mThe\u001b[0m \u001b[0mfigure\u001b[0m\u001b[0;31m'\u001b[0m\u001b[0ms\u001b[0m \u001b[0mgca\u001b[0m \u001b[0mmethod\u001b[0m\u001b[0;34m.\u001b[0m\u001b[0;34m\u001b[0m\u001b[0;34m\u001b[0m\u001b[0m\n\u001b[1;32m    878\u001b[0m     \"\"\"\n\u001b[0;32m--> 879\u001b[0;31m     \u001b[0;32mreturn\u001b[0m \u001b[0mgcf\u001b[0m\u001b[0;34m(\u001b[0m\u001b[0;34m)\u001b[0m\u001b[0;34m.\u001b[0m\u001b[0mgca\u001b[0m\u001b[0;34m(\u001b[0m\u001b[0;34m**\u001b[0m\u001b[0mkwargs\u001b[0m\u001b[0;34m)\u001b[0m\u001b[0;34m\u001b[0m\u001b[0;34m\u001b[0m\u001b[0m\n\u001b[0m\u001b[1;32m    880\u001b[0m \u001b[0;34m\u001b[0m\u001b[0m\n\u001b[1;32m    881\u001b[0m \u001b[0;34m\u001b[0m\u001b[0m\n",
            "\u001b[0;32m/usr/local/lib/python3.8/dist-packages/matplotlib/figure.py\u001b[0m in \u001b[0;36mgca\u001b[0;34m(self, **kwargs)\u001b[0m\n\u001b[1;32m   1955\u001b[0m \u001b[0;34m\u001b[0m\u001b[0m\n\u001b[1;32m   1956\u001b[0m         \u001b[0;31m# no axes found, so create one which spans the figure\u001b[0m\u001b[0;34m\u001b[0m\u001b[0;34m\u001b[0m\u001b[0;34m\u001b[0m\u001b[0m\n\u001b[0;32m-> 1957\u001b[0;31m         \u001b[0;32mreturn\u001b[0m \u001b[0mself\u001b[0m\u001b[0;34m.\u001b[0m\u001b[0madd_subplot\u001b[0m\u001b[0;34m(\u001b[0m\u001b[0;36m1\u001b[0m\u001b[0;34m,\u001b[0m \u001b[0;36m1\u001b[0m\u001b[0;34m,\u001b[0m \u001b[0;36m1\u001b[0m\u001b[0;34m,\u001b[0m \u001b[0;34m**\u001b[0m\u001b[0mkwargs\u001b[0m\u001b[0;34m)\u001b[0m\u001b[0;34m\u001b[0m\u001b[0;34m\u001b[0m\u001b[0m\n\u001b[0m\u001b[1;32m   1958\u001b[0m \u001b[0;34m\u001b[0m\u001b[0m\n\u001b[1;32m   1959\u001b[0m     \u001b[0;32mdef\u001b[0m \u001b[0msca\u001b[0m\u001b[0;34m(\u001b[0m\u001b[0mself\u001b[0m\u001b[0;34m,\u001b[0m \u001b[0ma\u001b[0m\u001b[0;34m)\u001b[0m\u001b[0;34m:\u001b[0m\u001b[0;34m\u001b[0m\u001b[0;34m\u001b[0m\u001b[0m\n",
            "\u001b[0;32m/usr/local/lib/python3.8/dist-packages/matplotlib/figure.py\u001b[0m in \u001b[0;36madd_subplot\u001b[0;34m(self, *args, **kwargs)\u001b[0m\n\u001b[1;32m   1417\u001b[0m                     \u001b[0mself\u001b[0m\u001b[0;34m.\u001b[0m\u001b[0m_axstack\u001b[0m\u001b[0;34m.\u001b[0m\u001b[0mremove\u001b[0m\u001b[0;34m(\u001b[0m\u001b[0max\u001b[0m\u001b[0;34m)\u001b[0m\u001b[0;34m\u001b[0m\u001b[0;34m\u001b[0m\u001b[0m\n\u001b[1;32m   1418\u001b[0m \u001b[0;34m\u001b[0m\u001b[0m\n\u001b[0;32m-> 1419\u001b[0;31m             \u001b[0ma\u001b[0m \u001b[0;34m=\u001b[0m \u001b[0msubplot_class_factory\u001b[0m\u001b[0;34m(\u001b[0m\u001b[0mprojection_class\u001b[0m\u001b[0;34m)\u001b[0m\u001b[0;34m(\u001b[0m\u001b[0mself\u001b[0m\u001b[0;34m,\u001b[0m \u001b[0;34m*\u001b[0m\u001b[0margs\u001b[0m\u001b[0;34m,\u001b[0m \u001b[0;34m**\u001b[0m\u001b[0mkwargs\u001b[0m\u001b[0;34m)\u001b[0m\u001b[0;34m\u001b[0m\u001b[0;34m\u001b[0m\u001b[0m\n\u001b[0m\u001b[1;32m   1420\u001b[0m \u001b[0;34m\u001b[0m\u001b[0m\n\u001b[1;32m   1421\u001b[0m         \u001b[0;32mreturn\u001b[0m \u001b[0mself\u001b[0m\u001b[0;34m.\u001b[0m\u001b[0m_add_axes_internal\u001b[0m\u001b[0;34m(\u001b[0m\u001b[0mkey\u001b[0m\u001b[0;34m,\u001b[0m \u001b[0ma\u001b[0m\u001b[0;34m)\u001b[0m\u001b[0;34m\u001b[0m\u001b[0;34m\u001b[0m\u001b[0m\n",
            "\u001b[0;32m/usr/local/lib/python3.8/dist-packages/matplotlib/axes/_subplots.py\u001b[0m in \u001b[0;36m__init__\u001b[0;34m(self, fig, *args, **kwargs)\u001b[0m\n\u001b[1;32m     74\u001b[0m \u001b[0;34m\u001b[0m\u001b[0m\n\u001b[1;32m     75\u001b[0m         \u001b[0;31m# _axes_class is set in the subplot_class_factory\u001b[0m\u001b[0;34m\u001b[0m\u001b[0;34m\u001b[0m\u001b[0;34m\u001b[0m\u001b[0m\n\u001b[0;32m---> 76\u001b[0;31m         \u001b[0mself\u001b[0m\u001b[0;34m.\u001b[0m\u001b[0m_axes_class\u001b[0m\u001b[0;34m.\u001b[0m\u001b[0m__init__\u001b[0m\u001b[0;34m(\u001b[0m\u001b[0mself\u001b[0m\u001b[0;34m,\u001b[0m \u001b[0mfig\u001b[0m\u001b[0;34m,\u001b[0m \u001b[0mself\u001b[0m\u001b[0;34m.\u001b[0m\u001b[0mfigbox\u001b[0m\u001b[0;34m,\u001b[0m \u001b[0;34m**\u001b[0m\u001b[0mkwargs\u001b[0m\u001b[0;34m)\u001b[0m\u001b[0;34m\u001b[0m\u001b[0;34m\u001b[0m\u001b[0m\n\u001b[0m\u001b[1;32m     77\u001b[0m         \u001b[0;31m# add a layout box to this, for both the full axis, and the poss\u001b[0m\u001b[0;34m\u001b[0m\u001b[0;34m\u001b[0m\u001b[0;34m\u001b[0m\u001b[0m\n\u001b[1;32m     78\u001b[0m         \u001b[0;31m# of the axis.  We need both because the axes may become smaller\u001b[0m\u001b[0;34m\u001b[0m\u001b[0;34m\u001b[0m\u001b[0;34m\u001b[0m\u001b[0m\n",
            "\u001b[0;32m/usr/local/lib/python3.8/dist-packages/matplotlib/axes/_base.py\u001b[0m in \u001b[0;36m__init__\u001b[0;34m(self, fig, rect, facecolor, frameon, sharex, sharey, label, xscale, yscale, **kwargs)\u001b[0m\n\u001b[1;32m    444\u001b[0m \u001b[0;34m\u001b[0m\u001b[0m\n\u001b[1;32m    445\u001b[0m         \u001b[0;31m# this call may differ for non-sep axes, e.g., polar\u001b[0m\u001b[0;34m\u001b[0m\u001b[0;34m\u001b[0m\u001b[0;34m\u001b[0m\u001b[0m\n\u001b[0;32m--> 446\u001b[0;31m         \u001b[0mself\u001b[0m\u001b[0;34m.\u001b[0m\u001b[0m_init_axis\u001b[0m\u001b[0;34m(\u001b[0m\u001b[0;34m)\u001b[0m\u001b[0;34m\u001b[0m\u001b[0;34m\u001b[0m\u001b[0m\n\u001b[0m\u001b[1;32m    447\u001b[0m         \u001b[0;32mif\u001b[0m \u001b[0mfacecolor\u001b[0m \u001b[0;32mis\u001b[0m \u001b[0;32mNone\u001b[0m\u001b[0;34m:\u001b[0m\u001b[0;34m\u001b[0m\u001b[0;34m\u001b[0m\u001b[0m\n\u001b[1;32m    448\u001b[0m             \u001b[0mfacecolor\u001b[0m \u001b[0;34m=\u001b[0m \u001b[0mrcParams\u001b[0m\u001b[0;34m[\u001b[0m\u001b[0;34m'axes.facecolor'\u001b[0m\u001b[0;34m]\u001b[0m\u001b[0;34m\u001b[0m\u001b[0;34m\u001b[0m\u001b[0m\n",
            "\u001b[0;32m/usr/local/lib/python3.8/dist-packages/matplotlib/axes/_base.py\u001b[0m in \u001b[0;36m_init_axis\u001b[0;34m(self)\u001b[0m\n\u001b[1;32m    553\u001b[0m     \u001b[0;32mdef\u001b[0m \u001b[0m_init_axis\u001b[0m\u001b[0;34m(\u001b[0m\u001b[0mself\u001b[0m\u001b[0;34m)\u001b[0m\u001b[0;34m:\u001b[0m\u001b[0;34m\u001b[0m\u001b[0;34m\u001b[0m\u001b[0m\n\u001b[1;32m    554\u001b[0m         \u001b[0;34m\"move this out of __init__ because non-separable axes don't use it\"\u001b[0m\u001b[0;34m\u001b[0m\u001b[0;34m\u001b[0m\u001b[0m\n\u001b[0;32m--> 555\u001b[0;31m         \u001b[0mself\u001b[0m\u001b[0;34m.\u001b[0m\u001b[0mxaxis\u001b[0m \u001b[0;34m=\u001b[0m \u001b[0mmaxis\u001b[0m\u001b[0;34m.\u001b[0m\u001b[0mXAxis\u001b[0m\u001b[0;34m(\u001b[0m\u001b[0mself\u001b[0m\u001b[0;34m)\u001b[0m\u001b[0;34m\u001b[0m\u001b[0;34m\u001b[0m\u001b[0m\n\u001b[0m\u001b[1;32m    556\u001b[0m         \u001b[0mself\u001b[0m\u001b[0;34m.\u001b[0m\u001b[0mspines\u001b[0m\u001b[0;34m[\u001b[0m\u001b[0;34m'bottom'\u001b[0m\u001b[0;34m]\u001b[0m\u001b[0;34m.\u001b[0m\u001b[0mregister_axis\u001b[0m\u001b[0;34m(\u001b[0m\u001b[0mself\u001b[0m\u001b[0;34m.\u001b[0m\u001b[0mxaxis\u001b[0m\u001b[0;34m)\u001b[0m\u001b[0;34m\u001b[0m\u001b[0;34m\u001b[0m\u001b[0m\n\u001b[1;32m    557\u001b[0m         \u001b[0mself\u001b[0m\u001b[0;34m.\u001b[0m\u001b[0mspines\u001b[0m\u001b[0;34m[\u001b[0m\u001b[0;34m'top'\u001b[0m\u001b[0;34m]\u001b[0m\u001b[0;34m.\u001b[0m\u001b[0mregister_axis\u001b[0m\u001b[0;34m(\u001b[0m\u001b[0mself\u001b[0m\u001b[0;34m.\u001b[0m\u001b[0mxaxis\u001b[0m\u001b[0;34m)\u001b[0m\u001b[0;34m\u001b[0m\u001b[0;34m\u001b[0m\u001b[0m\n",
            "\u001b[0;32m/usr/local/lib/python3.8/dist-packages/matplotlib/axis.py\u001b[0m in \u001b[0;36m__init__\u001b[0;34m(self, axes, pickradius)\u001b[0m\n\u001b[1;32m    767\u001b[0m         \u001b[0mself\u001b[0m\u001b[0;34m.\u001b[0m\u001b[0m_smart_bounds\u001b[0m \u001b[0;34m=\u001b[0m \u001b[0;32mFalse\u001b[0m  \u001b[0;31m# Deprecated in 3.2\u001b[0m\u001b[0;34m\u001b[0m\u001b[0;34m\u001b[0m\u001b[0m\n\u001b[1;32m    768\u001b[0m \u001b[0;34m\u001b[0m\u001b[0m\n\u001b[0;32m--> 769\u001b[0;31m         \u001b[0mself\u001b[0m\u001b[0;34m.\u001b[0m\u001b[0mlabel\u001b[0m \u001b[0;34m=\u001b[0m \u001b[0mself\u001b[0m\u001b[0;34m.\u001b[0m\u001b[0m_get_label\u001b[0m\u001b[0;34m(\u001b[0m\u001b[0;34m)\u001b[0m\u001b[0;34m\u001b[0m\u001b[0;34m\u001b[0m\u001b[0m\n\u001b[0m\u001b[1;32m    770\u001b[0m         \u001b[0mself\u001b[0m\u001b[0;34m.\u001b[0m\u001b[0mlabelpad\u001b[0m \u001b[0;34m=\u001b[0m \u001b[0mrcParams\u001b[0m\u001b[0;34m[\u001b[0m\u001b[0;34m'axes.labelpad'\u001b[0m\u001b[0;34m]\u001b[0m\u001b[0;34m\u001b[0m\u001b[0;34m\u001b[0m\u001b[0m\n\u001b[1;32m    771\u001b[0m         \u001b[0mself\u001b[0m\u001b[0;34m.\u001b[0m\u001b[0moffsetText\u001b[0m \u001b[0;34m=\u001b[0m \u001b[0mself\u001b[0m\u001b[0;34m.\u001b[0m\u001b[0m_get_offset_text\u001b[0m\u001b[0;34m(\u001b[0m\u001b[0;34m)\u001b[0m\u001b[0;34m\u001b[0m\u001b[0;34m\u001b[0m\u001b[0m\n",
            "\u001b[0;32m/usr/local/lib/python3.8/dist-packages/matplotlib/axis.py\u001b[0m in \u001b[0;36m_get_label\u001b[0;34m(self)\u001b[0m\n\u001b[1;32m   1946\u001b[0m         \u001b[0;31m# x in axes coords, y in display coords (to be updated at draw\u001b[0m\u001b[0;34m\u001b[0m\u001b[0;34m\u001b[0m\u001b[0;34m\u001b[0m\u001b[0m\n\u001b[1;32m   1947\u001b[0m         \u001b[0;31m# time by _update_label_positions)\u001b[0m\u001b[0;34m\u001b[0m\u001b[0;34m\u001b[0m\u001b[0;34m\u001b[0m\u001b[0m\n\u001b[0;32m-> 1948\u001b[0;31m         label = mtext.Text(x=0.5, y=0,\n\u001b[0m\u001b[1;32m   1949\u001b[0m                            fontproperties=font_manager.FontProperties(\n\u001b[1;32m   1950\u001b[0m                                \u001b[0msize\u001b[0m\u001b[0;34m=\u001b[0m\u001b[0mrcParams\u001b[0m\u001b[0;34m[\u001b[0m\u001b[0;34m'axes.labelsize'\u001b[0m\u001b[0;34m]\u001b[0m\u001b[0;34m,\u001b[0m\u001b[0;34m\u001b[0m\u001b[0;34m\u001b[0m\u001b[0m\n",
            "\u001b[0;32m/usr/local/lib/python3.8/dist-packages/matplotlib/text.py\u001b[0m in \u001b[0;36m__init__\u001b[0;34m(self, x, y, text, color, verticalalignment, horizontalalignment, multialignment, fontproperties, rotation, linespacing, rotation_mode, usetex, wrap, **kwargs)\u001b[0m\n\u001b[1;32m    155\u001b[0m         \u001b[0mself\u001b[0m\u001b[0;34m.\u001b[0m\u001b[0mset_usetex\u001b[0m\u001b[0;34m(\u001b[0m\u001b[0musetex\u001b[0m\u001b[0;34m)\u001b[0m\u001b[0;34m\u001b[0m\u001b[0;34m\u001b[0m\u001b[0m\n\u001b[1;32m    156\u001b[0m         \u001b[0mself\u001b[0m\u001b[0;34m.\u001b[0m\u001b[0mset_wrap\u001b[0m\u001b[0;34m(\u001b[0m\u001b[0mwrap\u001b[0m\u001b[0;34m)\u001b[0m\u001b[0;34m\u001b[0m\u001b[0;34m\u001b[0m\u001b[0m\n\u001b[0;32m--> 157\u001b[0;31m         \u001b[0mself\u001b[0m\u001b[0;34m.\u001b[0m\u001b[0mset_verticalalignment\u001b[0m\u001b[0;34m(\u001b[0m\u001b[0mverticalalignment\u001b[0m\u001b[0;34m)\u001b[0m\u001b[0;34m\u001b[0m\u001b[0;34m\u001b[0m\u001b[0m\n\u001b[0m\u001b[1;32m    158\u001b[0m         \u001b[0mself\u001b[0m\u001b[0;34m.\u001b[0m\u001b[0mset_horizontalalignment\u001b[0m\u001b[0;34m(\u001b[0m\u001b[0mhorizontalalignment\u001b[0m\u001b[0;34m)\u001b[0m\u001b[0;34m\u001b[0m\u001b[0;34m\u001b[0m\u001b[0m\n\u001b[1;32m    159\u001b[0m         \u001b[0mself\u001b[0m\u001b[0;34m.\u001b[0m\u001b[0m_multialignment\u001b[0m \u001b[0;34m=\u001b[0m \u001b[0mmultialignment\u001b[0m\u001b[0;34m\u001b[0m\u001b[0;34m\u001b[0m\u001b[0m\n",
            "\u001b[0;32m/usr/local/lib/python3.8/dist-packages/matplotlib/text.py\u001b[0m in \u001b[0;36mset_verticalalignment\u001b[0;34m(self, align)\u001b[0m\n\u001b[1;32m   1143\u001b[0m         \u001b[0malign\u001b[0m \u001b[0;34m:\u001b[0m \u001b[0;34m{\u001b[0m\u001b[0;34m'center'\u001b[0m\u001b[0;34m,\u001b[0m \u001b[0;34m'top'\u001b[0m\u001b[0;34m,\u001b[0m \u001b[0;34m'bottom'\u001b[0m\u001b[0;34m,\u001b[0m \u001b[0;34m'baseline'\u001b[0m\u001b[0;34m,\u001b[0m \u001b[0;34m'center_baseline'\u001b[0m\u001b[0;34m}\u001b[0m\u001b[0;34m\u001b[0m\u001b[0;34m\u001b[0m\u001b[0m\n\u001b[1;32m   1144\u001b[0m         \"\"\"\n\u001b[0;32m-> 1145\u001b[0;31m         cbook._check_in_list(\n\u001b[0m\u001b[1;32m   1146\u001b[0m             \u001b[0;34m[\u001b[0m\u001b[0;34m'top'\u001b[0m\u001b[0;34m,\u001b[0m \u001b[0;34m'bottom'\u001b[0m\u001b[0;34m,\u001b[0m \u001b[0;34m'center'\u001b[0m\u001b[0;34m,\u001b[0m \u001b[0;34m'baseline'\u001b[0m\u001b[0;34m,\u001b[0m \u001b[0;34m'center_baseline'\u001b[0m\u001b[0;34m]\u001b[0m\u001b[0;34m,\u001b[0m\u001b[0;34m\u001b[0m\u001b[0;34m\u001b[0m\u001b[0m\n\u001b[1;32m   1147\u001b[0m             align=align)\n",
            "\u001b[0;32m/usr/local/lib/python3.8/dist-packages/matplotlib/cbook/__init__.py\u001b[0m in \u001b[0;36m_check_in_list\u001b[0;34m(_values, **kwargs)\u001b[0m\n\u001b[1;32m   2139\u001b[0m     \"\"\"\n\u001b[1;32m   2140\u001b[0m     \u001b[0mvalues\u001b[0m \u001b[0;34m=\u001b[0m \u001b[0m_values\u001b[0m\u001b[0;34m\u001b[0m\u001b[0;34m\u001b[0m\u001b[0m\n\u001b[0;32m-> 2141\u001b[0;31m     \u001b[0;32mfor\u001b[0m \u001b[0mk\u001b[0m\u001b[0;34m,\u001b[0m \u001b[0mv\u001b[0m \u001b[0;32min\u001b[0m \u001b[0mkwargs\u001b[0m\u001b[0;34m.\u001b[0m\u001b[0mitems\u001b[0m\u001b[0;34m(\u001b[0m\u001b[0;34m)\u001b[0m\u001b[0;34m:\u001b[0m\u001b[0;34m\u001b[0m\u001b[0;34m\u001b[0m\u001b[0m\n\u001b[0m\u001b[1;32m   2142\u001b[0m         \u001b[0;32mif\u001b[0m \u001b[0mv\u001b[0m \u001b[0;32mnot\u001b[0m \u001b[0;32min\u001b[0m \u001b[0mvalues\u001b[0m\u001b[0;34m:\u001b[0m\u001b[0;34m\u001b[0m\u001b[0;34m\u001b[0m\u001b[0m\n\u001b[1;32m   2143\u001b[0m             raise ValueError(\n",
            "\u001b[0;31mKeyboardInterrupt\u001b[0m: "
          ]
        },
        {
          "output_type": "display_data",
          "data": {
            "text/plain": [
              "<Figure size 1224x288 with 0 Axes>"
            ]
          },
          "metadata": {}
        }
      ]
    },
    {
      "cell_type": "code",
      "metadata": {
        "id": "6fXFsgwMV6mv",
        "colab": {
          "base_uri": "https://localhost:8080/"
        },
        "outputId": "0adfee83-4876-4473-e80f-208b7d29d351"
      },
      "source": [
        "model.save('BiLSTM_noisymerged')\n",
        "# model = tfk.models.load_model('BiLSTM')"
      ],
      "execution_count": null,
      "outputs": [
        {
          "output_type": "stream",
          "name": "stderr",
          "text": [
            "WARNING:absl:Function `_wrapped_model` contains input name(s) Input with unsupported characters which will be renamed to input in the SavedModel.\n",
            "WARNING:absl:Found untraced functions such as lstm_cell_3_layer_call_fn, lstm_cell_3_layer_call_and_return_conditional_losses, lstm_cell_4_layer_call_fn, lstm_cell_4_layer_call_and_return_conditional_losses, lstm_cell_6_layer_call_fn while saving (showing 5 of 8). These functions will not be directly callable after loading.\n"
          ]
        }
      ]
    },
    {
      "cell_type": "code",
      "metadata": {
        "id": "1e89RnuPfLVs",
        "colab": {
          "base_uri": "https://localhost:8080/"
        },
        "outputId": "06d47fec-f340-4ece-ee03-d4ccde4ec821"
      },
      "source": [
        "# Predict the test set with the BiLSTM\n",
        "predictions = model.predict(X_test)\n",
        "predictions.shape"
      ],
      "execution_count": null,
      "outputs": [
        {
          "output_type": "stream",
          "name": "stdout",
          "text": [
            "16/16 [==============================] - 0s 6ms/step\n"
          ]
        },
        {
          "output_type": "execute_result",
          "data": {
            "text/plain": [
              "(486, 12)"
            ]
          },
          "metadata": {},
          "execution_count": 29
        }
      ]
    },
    {
      "cell_type": "code",
      "metadata": {
        "id": "tGdH9IVQfOd8",
        "colab": {
          "base_uri": "https://localhost:8080/"
        },
        "outputId": "4f4745f5-5b2e-4566-d473-dbfb4bd273e3"
      },
      "source": [
        "\n",
        "# Compute the classification metrics\n",
        "accuracy = accuracy_score(np.argmax(y_test, axis=-1), np.argmax(predictions, axis=-1))\n",
        "precision = precision_score(np.argmax(y_test, axis=-1), np.argmax(predictions, axis=-1), average='macro')\n",
        "recall = recall_score(np.argmax(y_test, axis=-1), np.argmax(predictions, axis=-1), average='macro')\n",
        "f1 = f1_score(np.argmax(y_test, axis=-1), np.argmax(predictions, axis=-1), average='macro')\n",
        "print('Accuracy:',accuracy.round(4))\n",
        "print('Precision:',precision.round(4))\n",
        "print('Recall:',recall.round(4))\n",
        "print('F1:',f1.round(4))\n",
        "\n"
      ],
      "execution_count": null,
      "outputs": [
        {
          "output_type": "stream",
          "name": "stdout",
          "text": [
            "Accuracy: 0.9712\n",
            "Precision: 0.9443\n",
            "Recall: 0.969\n",
            "F1: 0.9552\n"
          ]
        }
      ]
    },
    {
      "cell_type": "markdown",
      "metadata": {
        "id": "FqTU7SDgjWgV"
      },
      "source": [
        "#### 1D Convolutional Neural Network\n",
        "\n",
        "![](https://drive.google.com/uc?export=view&id=10B7c-F58-eNr6CP7D_UZeVp0gTeYMrFQ\n",
        ")"
      ]
    },
    {
      "cell_type": "code",
      "metadata": {
        "id": "7nxJrPoojt3z"
      },
      "source": [
        "def build_1DCNN_classifier(input_shape, classes):\n",
        "    # Build the neural network layer by layer\n",
        "    input_layer = tfkl.Input(shape=input_shape, name='Input')\n",
        "\n",
        "    # Feature extractor\n",
        "    cnn = tfkl.Conv1D(128,3,padding='same',activation='relu')(input_layer)\n",
        "    cnn = tfkl.MaxPooling1D()(cnn)\n",
        "    cnn = tfkl.Conv1D(128,3,padding='same',activation='relu')(cnn)\n",
        "    gap = tfkl.GlobalAveragePooling1D()(cnn)\n",
        "    dropout = tfkl.Dropout(.5, seed=seed)(gap)\n",
        "\n",
        "    # Classifier\n",
        "    classifier = tfkl.Dense(128, activation='relu')(dropout)\n",
        "    output_layer = tfkl.Dense(classes, activation='softmax')(classifier)\n",
        "\n",
        "    # Connect input and output through the Model class\n",
        "    model = tfk.Model(inputs=input_layer, outputs=output_layer, name='model')\n",
        "\n",
        "    # Compile the model\n",
        "    model.compile(loss=tfk.losses.CategoricalCrossentropy(), optimizer=tfk.optimizers.Adam(), metrics='accuracy')\n",
        "\n",
        "    # Return the model\n",
        "    return model"
      ],
      "execution_count": null,
      "outputs": []
    },
    {
      "cell_type": "code",
      "metadata": {
        "id": "d1zEtb3Hjt1O",
        "colab": {
          "base_uri": "https://localhost:8080/"
        },
        "outputId": "0d817cb2-60ce-49b8-c236-78f86ec3e6b0"
      },
      "source": [
        "model = build_1DCNN_classifier(input_shape, classes)\n",
        "model.summary()"
      ],
      "execution_count": null,
      "outputs": [
        {
          "output_type": "stream",
          "name": "stdout",
          "text": [
            "Model: \"model\"\n",
            "_________________________________________________________________\n",
            " Layer (type)                Output Shape              Param #   \n",
            "=================================================================\n",
            " Input (InputLayer)          [(None, 36, 6)]           0         \n",
            "                                                                 \n",
            " conv1d (Conv1D)             (None, 36, 128)           2432      \n",
            "                                                                 \n",
            " max_pooling1d (MaxPooling1D  (None, 18, 128)          0         \n",
            " )                                                               \n",
            "                                                                 \n",
            " conv1d_1 (Conv1D)           (None, 18, 128)           49280     \n",
            "                                                                 \n",
            " global_average_pooling1d (G  (None, 128)              0         \n",
            " lobalAveragePooling1D)                                          \n",
            "                                                                 \n",
            " dropout_3 (Dropout)         (None, 128)               0         \n",
            "                                                                 \n",
            " dense_6 (Dense)             (None, 128)               16512     \n",
            "                                                                 \n",
            " dense_7 (Dense)             (None, 12)                1548      \n",
            "                                                                 \n",
            "=================================================================\n",
            "Total params: 69,772\n",
            "Trainable params: 69,772\n",
            "Non-trainable params: 0\n",
            "_________________________________________________________________\n"
          ]
        }
      ]
    },
    {
      "cell_type": "code",
      "metadata": {
        "id": "LQOYU2X0jty5",
        "colab": {
          "base_uri": "https://localhost:8080/"
        },
        "outputId": "48875eec-9197-4ac8-fb52-d936b2ac9714"
      },
      "source": [
        "# Train the model\n",
        "history = model.fit(\n",
        "    x = X_train,\n",
        "    y = y_train,\n",
        "    batch_size = batch_size,\n",
        "    epochs = epochs,\n",
        "    validation_split=.1,\n",
        "    callbacks = [\n",
        "        tfk.callbacks.EarlyStopping(monitor='val_accuracy', mode='max', patience=10, restore_best_weights=True),\n",
        "        tfk.callbacks.ReduceLROnPlateau(monitor='val_accuracy', mode='max', patience=5, factor=0.5, min_lr=1e-5)\n",
        "    ]\n",
        ").history"
      ],
      "execution_count": null,
      "outputs": [
        {
          "output_type": "stream",
          "name": "stdout",
          "text": [
            "Epoch 1/200\n",
            "16/16 [==============================] - 6s 42ms/step - loss: 2.4032 - accuracy: 0.2964 - val_loss: 2.2241 - val_accuracy: 0.3836 - lr: 0.0010\n",
            "Epoch 2/200\n",
            "16/16 [==============================] - 0s 11ms/step - loss: 2.2156 - accuracy: 0.3432 - val_loss: 1.9830 - val_accuracy: 0.3927 - lr: 0.0010\n",
            "Epoch 3/200\n",
            "16/16 [==============================] - 0s 12ms/step - loss: 2.0580 - accuracy: 0.3472 - val_loss: 1.8745 - val_accuracy: 0.3881 - lr: 0.0010\n",
            "Epoch 4/200\n",
            "16/16 [==============================] - 0s 12ms/step - loss: 1.9560 - accuracy: 0.3686 - val_loss: 1.8230 - val_accuracy: 0.3927 - lr: 0.0010\n",
            "Epoch 5/200\n",
            "16/16 [==============================] - 0s 12ms/step - loss: 1.9030 - accuracy: 0.3762 - val_loss: 1.7758 - val_accuracy: 0.4110 - lr: 0.0010\n",
            "Epoch 6/200\n",
            "16/16 [==============================] - 0s 14ms/step - loss: 1.8650 - accuracy: 0.3803 - val_loss: 1.7449 - val_accuracy: 0.4292 - lr: 0.0010\n",
            "Epoch 7/200\n",
            "16/16 [==============================] - 0s 13ms/step - loss: 1.8540 - accuracy: 0.3808 - val_loss: 1.7290 - val_accuracy: 0.4292 - lr: 0.0010\n",
            "Epoch 8/200\n",
            "16/16 [==============================] - 0s 10ms/step - loss: 1.8294 - accuracy: 0.3843 - val_loss: 1.7178 - val_accuracy: 0.4292 - lr: 0.0010\n",
            "Epoch 9/200\n",
            "16/16 [==============================] - 0s 7ms/step - loss: 1.7850 - accuracy: 0.3965 - val_loss: 1.6764 - val_accuracy: 0.4475 - lr: 0.0010\n",
            "Epoch 10/200\n",
            "16/16 [==============================] - 0s 6ms/step - loss: 1.7725 - accuracy: 0.4103 - val_loss: 1.6570 - val_accuracy: 0.4566 - lr: 0.0010\n",
            "Epoch 11/200\n",
            "16/16 [==============================] - 0s 6ms/step - loss: 1.7433 - accuracy: 0.4118 - val_loss: 1.6494 - val_accuracy: 0.4566 - lr: 0.0010\n",
            "Epoch 12/200\n",
            "16/16 [==============================] - 0s 6ms/step - loss: 1.7191 - accuracy: 0.4235 - val_loss: 1.6680 - val_accuracy: 0.4566 - lr: 0.0010\n",
            "Epoch 13/200\n",
            "16/16 [==============================] - 0s 6ms/step - loss: 1.7092 - accuracy: 0.4270 - val_loss: 1.6026 - val_accuracy: 0.4429 - lr: 0.0010\n",
            "Epoch 14/200\n",
            "16/16 [==============================] - 0s 6ms/step - loss: 1.6965 - accuracy: 0.4225 - val_loss: 1.5828 - val_accuracy: 0.4521 - lr: 0.0010\n",
            "Epoch 15/200\n",
            "16/16 [==============================] - 0s 6ms/step - loss: 1.6725 - accuracy: 0.4331 - val_loss: 1.5871 - val_accuracy: 0.4475 - lr: 0.0010\n",
            "Epoch 16/200\n",
            "16/16 [==============================] - 0s 6ms/step - loss: 1.6591 - accuracy: 0.4362 - val_loss: 1.5562 - val_accuracy: 0.4566 - lr: 5.0000e-04\n",
            "Epoch 17/200\n",
            "16/16 [==============================] - 0s 6ms/step - loss: 1.6256 - accuracy: 0.4403 - val_loss: 1.5659 - val_accuracy: 0.4795 - lr: 5.0000e-04\n",
            "Epoch 18/200\n",
            "16/16 [==============================] - 0s 7ms/step - loss: 1.6196 - accuracy: 0.4438 - val_loss: 1.5344 - val_accuracy: 0.4658 - lr: 5.0000e-04\n",
            "Epoch 19/200\n",
            "16/16 [==============================] - 0s 6ms/step - loss: 1.6263 - accuracy: 0.4509 - val_loss: 1.5260 - val_accuracy: 0.4566 - lr: 5.0000e-04\n",
            "Epoch 20/200\n",
            "16/16 [==============================] - 0s 6ms/step - loss: 1.6211 - accuracy: 0.4509 - val_loss: 1.5376 - val_accuracy: 0.4840 - lr: 5.0000e-04\n",
            "Epoch 21/200\n",
            "16/16 [==============================] - 0s 6ms/step - loss: 1.5856 - accuracy: 0.4581 - val_loss: 1.5266 - val_accuracy: 0.4932 - lr: 5.0000e-04\n",
            "Epoch 22/200\n",
            "16/16 [==============================] - 0s 6ms/step - loss: 1.5911 - accuracy: 0.4550 - val_loss: 1.5024 - val_accuracy: 0.4840 - lr: 5.0000e-04\n",
            "Epoch 23/200\n",
            "16/16 [==============================] - 0s 6ms/step - loss: 1.5787 - accuracy: 0.4565 - val_loss: 1.4886 - val_accuracy: 0.4977 - lr: 5.0000e-04\n",
            "Epoch 24/200\n",
            "16/16 [==============================] - 0s 7ms/step - loss: 1.5875 - accuracy: 0.4631 - val_loss: 1.4939 - val_accuracy: 0.4886 - lr: 5.0000e-04\n",
            "Epoch 25/200\n",
            "16/16 [==============================] - 0s 6ms/step - loss: 1.5732 - accuracy: 0.4662 - val_loss: 1.4893 - val_accuracy: 0.4840 - lr: 5.0000e-04\n",
            "Epoch 26/200\n",
            "16/16 [==============================] - 0s 7ms/step - loss: 1.5644 - accuracy: 0.4672 - val_loss: 1.4771 - val_accuracy: 0.5023 - lr: 5.0000e-04\n",
            "Epoch 27/200\n",
            "16/16 [==============================] - 0s 7ms/step - loss: 1.5405 - accuracy: 0.4687 - val_loss: 1.4566 - val_accuracy: 0.5023 - lr: 5.0000e-04\n",
            "Epoch 28/200\n",
            "16/16 [==============================] - 0s 6ms/step - loss: 1.5371 - accuracy: 0.4708 - val_loss: 1.4467 - val_accuracy: 0.5114 - lr: 5.0000e-04\n",
            "Epoch 29/200\n",
            "16/16 [==============================] - 0s 6ms/step - loss: 1.5301 - accuracy: 0.4789 - val_loss: 1.4328 - val_accuracy: 0.5160 - lr: 5.0000e-04\n",
            "Epoch 30/200\n",
            "16/16 [==============================] - 0s 7ms/step - loss: 1.5185 - accuracy: 0.4764 - val_loss: 1.4270 - val_accuracy: 0.5023 - lr: 5.0000e-04\n",
            "Epoch 31/200\n",
            "16/16 [==============================] - 0s 6ms/step - loss: 1.5265 - accuracy: 0.4728 - val_loss: 1.4413 - val_accuracy: 0.5068 - lr: 5.0000e-04\n",
            "Epoch 32/200\n",
            "16/16 [==============================] - 0s 6ms/step - loss: 1.5097 - accuracy: 0.4759 - val_loss: 1.4391 - val_accuracy: 0.5068 - lr: 5.0000e-04\n",
            "Epoch 33/200\n",
            "16/16 [==============================] - 0s 7ms/step - loss: 1.5018 - accuracy: 0.4743 - val_loss: 1.4223 - val_accuracy: 0.5205 - lr: 5.0000e-04\n",
            "Epoch 34/200\n",
            "16/16 [==============================] - 0s 6ms/step - loss: 1.4976 - accuracy: 0.4809 - val_loss: 1.4179 - val_accuracy: 0.5160 - lr: 5.0000e-04\n",
            "Epoch 35/200\n",
            "16/16 [==============================] - 0s 6ms/step - loss: 1.4906 - accuracy: 0.4794 - val_loss: 1.4097 - val_accuracy: 0.5342 - lr: 5.0000e-04\n",
            "Epoch 36/200\n",
            "16/16 [==============================] - 0s 6ms/step - loss: 1.4876 - accuracy: 0.4881 - val_loss: 1.3994 - val_accuracy: 0.5068 - lr: 5.0000e-04\n",
            "Epoch 37/200\n",
            "16/16 [==============================] - 0s 6ms/step - loss: 1.4799 - accuracy: 0.4921 - val_loss: 1.3963 - val_accuracy: 0.5251 - lr: 5.0000e-04\n",
            "Epoch 38/200\n",
            "16/16 [==============================] - 0s 7ms/step - loss: 1.4778 - accuracy: 0.4911 - val_loss: 1.3770 - val_accuracy: 0.5205 - lr: 5.0000e-04\n",
            "Epoch 39/200\n",
            "16/16 [==============================] - 0s 7ms/step - loss: 1.4831 - accuracy: 0.4891 - val_loss: 1.3835 - val_accuracy: 0.5342 - lr: 5.0000e-04\n",
            "Epoch 40/200\n",
            "16/16 [==============================] - 0s 6ms/step - loss: 1.4809 - accuracy: 0.4977 - val_loss: 1.3779 - val_accuracy: 0.5342 - lr: 5.0000e-04\n",
            "Epoch 41/200\n",
            "16/16 [==============================] - 0s 6ms/step - loss: 1.4517 - accuracy: 0.5033 - val_loss: 1.3731 - val_accuracy: 0.5342 - lr: 2.5000e-04\n",
            "Epoch 42/200\n",
            "16/16 [==============================] - 0s 6ms/step - loss: 1.4556 - accuracy: 0.4845 - val_loss: 1.3674 - val_accuracy: 0.5388 - lr: 2.5000e-04\n",
            "Epoch 43/200\n",
            "16/16 [==============================] - 0s 7ms/step - loss: 1.4580 - accuracy: 0.4891 - val_loss: 1.3764 - val_accuracy: 0.5479 - lr: 2.5000e-04\n",
            "Epoch 44/200\n",
            "16/16 [==============================] - 0s 6ms/step - loss: 1.4506 - accuracy: 0.5008 - val_loss: 1.3817 - val_accuracy: 0.5297 - lr: 2.5000e-04\n",
            "Epoch 45/200\n",
            "16/16 [==============================] - 0s 6ms/step - loss: 1.4493 - accuracy: 0.5013 - val_loss: 1.3542 - val_accuracy: 0.5525 - lr: 2.5000e-04\n",
            "Epoch 46/200\n",
            "16/16 [==============================] - 0s 7ms/step - loss: 1.4335 - accuracy: 0.5099 - val_loss: 1.3509 - val_accuracy: 0.5479 - lr: 2.5000e-04\n",
            "Epoch 47/200\n",
            "16/16 [==============================] - 0s 6ms/step - loss: 1.4320 - accuracy: 0.5018 - val_loss: 1.3404 - val_accuracy: 0.5525 - lr: 2.5000e-04\n",
            "Epoch 48/200\n",
            "16/16 [==============================] - 0s 6ms/step - loss: 1.4364 - accuracy: 0.4982 - val_loss: 1.3492 - val_accuracy: 0.5434 - lr: 2.5000e-04\n",
            "Epoch 49/200\n",
            "16/16 [==============================] - 0s 6ms/step - loss: 1.4459 - accuracy: 0.4921 - val_loss: 1.3463 - val_accuracy: 0.5434 - lr: 2.5000e-04\n",
            "Epoch 50/200\n",
            "16/16 [==============================] - 0s 7ms/step - loss: 1.4239 - accuracy: 0.4942 - val_loss: 1.3485 - val_accuracy: 0.5616 - lr: 2.5000e-04\n",
            "Epoch 51/200\n",
            "16/16 [==============================] - 0s 6ms/step - loss: 1.4217 - accuracy: 0.5038 - val_loss: 1.3396 - val_accuracy: 0.5479 - lr: 2.5000e-04\n",
            "Epoch 52/200\n",
            "16/16 [==============================] - 0s 7ms/step - loss: 1.4216 - accuracy: 0.5048 - val_loss: 1.3239 - val_accuracy: 0.5616 - lr: 2.5000e-04\n",
            "Epoch 53/200\n",
            "16/16 [==============================] - 0s 6ms/step - loss: 1.4256 - accuracy: 0.4977 - val_loss: 1.3363 - val_accuracy: 0.5479 - lr: 2.5000e-04\n",
            "Epoch 54/200\n",
            "16/16 [==============================] - 0s 7ms/step - loss: 1.4146 - accuracy: 0.5099 - val_loss: 1.3343 - val_accuracy: 0.5479 - lr: 2.5000e-04\n",
            "Epoch 55/200\n",
            "16/16 [==============================] - 0s 6ms/step - loss: 1.4186 - accuracy: 0.5043 - val_loss: 1.3325 - val_accuracy: 0.5616 - lr: 2.5000e-04\n",
            "Epoch 56/200\n",
            "16/16 [==============================] - 0s 6ms/step - loss: 1.4187 - accuracy: 0.5160 - val_loss: 1.3306 - val_accuracy: 0.5434 - lr: 1.2500e-04\n",
            "Epoch 57/200\n",
            "16/16 [==============================] - 0s 6ms/step - loss: 1.4255 - accuracy: 0.5094 - val_loss: 1.3201 - val_accuracy: 0.5525 - lr: 1.2500e-04\n",
            "Epoch 58/200\n",
            "16/16 [==============================] - 0s 6ms/step - loss: 1.4097 - accuracy: 0.5114 - val_loss: 1.3183 - val_accuracy: 0.5479 - lr: 1.2500e-04\n",
            "Epoch 59/200\n",
            "16/16 [==============================] - 0s 6ms/step - loss: 1.4117 - accuracy: 0.5084 - val_loss: 1.3166 - val_accuracy: 0.5434 - lr: 1.2500e-04\n",
            "Epoch 60/200\n",
            "16/16 [==============================] - 0s 6ms/step - loss: 1.4069 - accuracy: 0.5155 - val_loss: 1.3158 - val_accuracy: 0.5525 - lr: 1.2500e-04\n"
          ]
        }
      ]
    },
    {
      "cell_type": "code",
      "metadata": {
        "id": "rzrqDHgijtwW"
      },
      "source": [
        "best_epoch = np.argmax(history['val_accuracy'])\n",
        "plt.figure(figsize=(17,4))\n",
        "plt.plot(history['loss'], label='Training loss', alpha=.8, color='#ff7f0e')\n",
        "plt.plot(history['val_loss'], label='Validation loss', alpha=.9, color='#5a9aa5')\n",
        "plt.axvline(x=best_epoch, label='Best epoch', alpha=.3, ls='--', color='#5a9aa5')\n",
        "plt.title('Categorical Crossentropy')\n",
        "plt.legend()\n",
        "plt.grid(alpha=.3)\n",
        "plt.show()\n",
        "\n",
        "plt.figure(figsize=(17,4))\n",
        "plt.plot(history['accuracy'], label='Training accuracy', alpha=.8, color='#ff7f0e')\n",
        "plt.plot(history['val_accuracy'], label='Validation accuracy', alpha=.9, color='#5a9aa5')\n",
        "plt.axvline(x=best_epoch, label='Best epoch', alpha=.3, ls='--', color='#5a9aa5')\n",
        "plt.title('Accuracy')\n",
        "plt.legend()\n",
        "plt.grid(alpha=.3)\n",
        "plt.show()\n",
        "\n",
        "plt.figure(figsize=(18,3))\n",
        "plt.plot(history['lr'], label='Learning Rate', alpha=.8, color='#ff7f0e')\n",
        "plt.axvline(x=best_epoch, label='Best epoch', alpha=.3, ls='--', color='#5a9aa5')\n",
        "plt.legend()\n",
        "plt.grid(alpha=.3)\n",
        "plt.show()"
      ],
      "execution_count": null,
      "outputs": []
    },
    {
      "cell_type": "code",
      "metadata": {
        "id": "ZmNPtx9VjtuC"
      },
      "source": [
        "model.save('1DCNN')\n",
        "# model = tfk.models.load_model('1DCNN')"
      ],
      "execution_count": null,
      "outputs": []
    },
    {
      "cell_type": "code",
      "metadata": {
        "id": "fvKkbmnujtrS",
        "colab": {
          "base_uri": "https://localhost:8080/"
        },
        "outputId": "754f33e4-432d-4372-f31b-cef8da937e36"
      },
      "source": [
        "# Predict the test set with the 1DCNN\n",
        "predictions = model.predict(X_test)\n",
        "predictions.shape"
      ],
      "execution_count": null,
      "outputs": [
        {
          "output_type": "stream",
          "name": "stdout",
          "text": [
            "8/8 [==============================] - 0s 6ms/step\n"
          ]
        },
        {
          "output_type": "execute_result",
          "data": {
            "text/plain": [
              "(243, 12)"
            ]
          },
          "metadata": {},
          "execution_count": 133
        }
      ]
    },
    {
      "cell_type": "code",
      "metadata": {
        "id": "KRdpbCqCjtpR",
        "colab": {
          "base_uri": "https://localhost:8080/"
        },
        "outputId": "a0f9b53c-ca3b-4fb3-dd0e-402526c8c7f8"
      },
      "source": [
        "\n",
        "# Compute the classification metrics\n",
        "accuracy = accuracy_score(np.argmax(y_test, axis=-1), np.argmax(predictions, axis=-1))\n",
        "precision = precision_score(np.argmax(y_test, axis=-1), np.argmax(predictions, axis=-1), average='macro')\n",
        "recall = recall_score(np.argmax(y_test, axis=-1), np.argmax(predictions, axis=-1), average='macro')\n",
        "f1 = f1_score(np.argmax(y_test, axis=-1), np.argmax(predictions, axis=-1), average='macro')\n",
        "print('Accuracy:',accuracy.round(4))\n",
        "print('Precision:',precision.round(4))\n",
        "print('Recall:',recall.round(4))\n",
        "print('F1:',f1.round(4))\n"
      ],
      "execution_count": null,
      "outputs": [
        {
          "output_type": "stream",
          "name": "stdout",
          "text": [
            "Accuracy: 0.5473\n",
            "Precision: 0.5064\n",
            "Recall: 0.4597\n",
            "F1: 0.4325\n"
          ]
        },
        {
          "output_type": "stream",
          "name": "stderr",
          "text": [
            "/usr/local/lib/python3.8/dist-packages/sklearn/metrics/_classification.py:1318: UndefinedMetricWarning: Precision is ill-defined and being set to 0.0 in labels with no predicted samples. Use `zero_division` parameter to control this behavior.\n",
            "  _warn_prf(average, modifier, msg_start, len(result))\n"
          ]
        }
      ]
    },
    {
      "cell_type": "markdown",
      "metadata": {
        "id": "et_9CJzIBsRt"
      },
      "source": [
        "Damn, once again no free lunch"
      ]
    }
  ]
}